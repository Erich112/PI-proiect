{
  "nbformat": 4,
  "nbformat_minor": 0,
  "metadata": {
    "colab": {
      "provenance": [],
      "gpuType": "T4"
    },
    "kernelspec": {
      "name": "python3",
      "display_name": "Python 3"
    },
    "language_info": {
      "name": "python"
    },
    "accelerator": "GPU"
  },
  "cells": [
    {
      "cell_type": "markdown",
      "source": [
        "Initializare model + date"
      ],
      "metadata": {
        "id": "Xm98VKkMH2gc"
      }
    },
    {
      "cell_type": "code",
      "source": [
        "# Install the ultralytics package from PyPI\n",
        "!pip install ultralytics"
      ],
      "metadata": {
        "id": "ZuI95CBC6EXJ",
        "colab": {
          "base_uri": "https://localhost:8080/"
        },
        "outputId": "04e5106d-32c5-455a-bf3b-8f9ab2c727c5"
      },
      "execution_count": null,
      "outputs": [
        {
          "output_type": "stream",
          "name": "stdout",
          "text": [
            "Collecting ultralytics\n",
            "  Downloading ultralytics-8.0.232-py3-none-any.whl (663 kB)\n",
            "\u001b[?25l     \u001b[90m━━━━━━━━━━━━━━━━━━━━━━━━━━━━━━━━━━━━━━━━\u001b[0m \u001b[32m0.0/663.2 kB\u001b[0m \u001b[31m?\u001b[0m eta \u001b[36m-:--:--\u001b[0m\r\u001b[2K     \u001b[91m━━━━━━━━━━\u001b[0m\u001b[90m╺\u001b[0m\u001b[90m━━━━━━━━━━━━━━━━━━━━━━━━━━━━━\u001b[0m \u001b[32m174.1/663.2 kB\u001b[0m \u001b[31m5.0 MB/s\u001b[0m eta \u001b[36m0:00:01\u001b[0m\r\u001b[2K     \u001b[91m━━━━━━━━━━━━━━━━━━━━━━━━━━━━━━━━━━━\u001b[0m\u001b[91m╸\u001b[0m\u001b[90m━━━━\u001b[0m \u001b[32m593.9/663.2 kB\u001b[0m \u001b[31m8.5 MB/s\u001b[0m eta \u001b[36m0:00:01\u001b[0m\r\u001b[2K     \u001b[90m━━━━━━━━━━━━━━━━━━━━━━━━━━━━━━━━━━━━━━━━\u001b[0m \u001b[32m663.2/663.2 kB\u001b[0m \u001b[31m6.8 MB/s\u001b[0m eta \u001b[36m0:00:00\u001b[0m\n",
            "\u001b[?25hRequirement already satisfied: matplotlib>=3.3.0 in /usr/local/lib/python3.10/dist-packages (from ultralytics) (3.7.1)\n",
            "Requirement already satisfied: numpy>=1.22.2 in /usr/local/lib/python3.10/dist-packages (from ultralytics) (1.23.5)\n",
            "Requirement already satisfied: opencv-python>=4.6.0 in /usr/local/lib/python3.10/dist-packages (from ultralytics) (4.8.0.76)\n",
            "Requirement already satisfied: pillow>=7.1.2 in /usr/local/lib/python3.10/dist-packages (from ultralytics) (9.4.0)\n",
            "Requirement already satisfied: pyyaml>=5.3.1 in /usr/local/lib/python3.10/dist-packages (from ultralytics) (6.0.1)\n",
            "Requirement already satisfied: requests>=2.23.0 in /usr/local/lib/python3.10/dist-packages (from ultralytics) (2.31.0)\n",
            "Requirement already satisfied: scipy>=1.4.1 in /usr/local/lib/python3.10/dist-packages (from ultralytics) (1.11.4)\n",
            "Requirement already satisfied: torch>=1.8.0 in /usr/local/lib/python3.10/dist-packages (from ultralytics) (2.1.0+cu121)\n",
            "Requirement already satisfied: torchvision>=0.9.0 in /usr/local/lib/python3.10/dist-packages (from ultralytics) (0.16.0+cu121)\n",
            "Requirement already satisfied: tqdm>=4.64.0 in /usr/local/lib/python3.10/dist-packages (from ultralytics) (4.66.1)\n",
            "Requirement already satisfied: psutil in /usr/local/lib/python3.10/dist-packages (from ultralytics) (5.9.5)\n",
            "Requirement already satisfied: py-cpuinfo in /usr/local/lib/python3.10/dist-packages (from ultralytics) (9.0.0)\n",
            "Collecting thop>=0.1.1 (from ultralytics)\n",
            "  Downloading thop-0.1.1.post2209072238-py3-none-any.whl (15 kB)\n",
            "Requirement already satisfied: pandas>=1.1.4 in /usr/local/lib/python3.10/dist-packages (from ultralytics) (1.5.3)\n",
            "Requirement already satisfied: seaborn>=0.11.0 in /usr/local/lib/python3.10/dist-packages (from ultralytics) (0.12.2)\n",
            "Requirement already satisfied: contourpy>=1.0.1 in /usr/local/lib/python3.10/dist-packages (from matplotlib>=3.3.0->ultralytics) (1.2.0)\n",
            "Requirement already satisfied: cycler>=0.10 in /usr/local/lib/python3.10/dist-packages (from matplotlib>=3.3.0->ultralytics) (0.12.1)\n",
            "Requirement already satisfied: fonttools>=4.22.0 in /usr/local/lib/python3.10/dist-packages (from matplotlib>=3.3.0->ultralytics) (4.47.0)\n",
            "Requirement already satisfied: kiwisolver>=1.0.1 in /usr/local/lib/python3.10/dist-packages (from matplotlib>=3.3.0->ultralytics) (1.4.5)\n",
            "Requirement already satisfied: packaging>=20.0 in /usr/local/lib/python3.10/dist-packages (from matplotlib>=3.3.0->ultralytics) (23.2)\n",
            "Requirement already satisfied: pyparsing>=2.3.1 in /usr/local/lib/python3.10/dist-packages (from matplotlib>=3.3.0->ultralytics) (3.1.1)\n",
            "Requirement already satisfied: python-dateutil>=2.7 in /usr/local/lib/python3.10/dist-packages (from matplotlib>=3.3.0->ultralytics) (2.8.2)\n",
            "Requirement already satisfied: pytz>=2020.1 in /usr/local/lib/python3.10/dist-packages (from pandas>=1.1.4->ultralytics) (2023.3.post1)\n",
            "Requirement already satisfied: charset-normalizer<4,>=2 in /usr/local/lib/python3.10/dist-packages (from requests>=2.23.0->ultralytics) (3.3.2)\n",
            "Requirement already satisfied: idna<4,>=2.5 in /usr/local/lib/python3.10/dist-packages (from requests>=2.23.0->ultralytics) (3.6)\n",
            "Requirement already satisfied: urllib3<3,>=1.21.1 in /usr/local/lib/python3.10/dist-packages (from requests>=2.23.0->ultralytics) (2.0.7)\n",
            "Requirement already satisfied: certifi>=2017.4.17 in /usr/local/lib/python3.10/dist-packages (from requests>=2.23.0->ultralytics) (2023.11.17)\n",
            "Requirement already satisfied: filelock in /usr/local/lib/python3.10/dist-packages (from torch>=1.8.0->ultralytics) (3.13.1)\n",
            "Requirement already satisfied: typing-extensions in /usr/local/lib/python3.10/dist-packages (from torch>=1.8.0->ultralytics) (4.5.0)\n",
            "Requirement already satisfied: sympy in /usr/local/lib/python3.10/dist-packages (from torch>=1.8.0->ultralytics) (1.12)\n",
            "Requirement already satisfied: networkx in /usr/local/lib/python3.10/dist-packages (from torch>=1.8.0->ultralytics) (3.2.1)\n",
            "Requirement already satisfied: jinja2 in /usr/local/lib/python3.10/dist-packages (from torch>=1.8.0->ultralytics) (3.1.2)\n",
            "Requirement already satisfied: fsspec in /usr/local/lib/python3.10/dist-packages (from torch>=1.8.0->ultralytics) (2023.6.0)\n",
            "Requirement already satisfied: triton==2.1.0 in /usr/local/lib/python3.10/dist-packages (from torch>=1.8.0->ultralytics) (2.1.0)\n",
            "Requirement already satisfied: six>=1.5 in /usr/local/lib/python3.10/dist-packages (from python-dateutil>=2.7->matplotlib>=3.3.0->ultralytics) (1.16.0)\n",
            "Requirement already satisfied: MarkupSafe>=2.0 in /usr/local/lib/python3.10/dist-packages (from jinja2->torch>=1.8.0->ultralytics) (2.1.3)\n",
            "Requirement already satisfied: mpmath>=0.19 in /usr/local/lib/python3.10/dist-packages (from sympy->torch>=1.8.0->ultralytics) (1.3.0)\n",
            "Installing collected packages: thop, ultralytics\n",
            "Successfully installed thop-0.1.1.post2209072238 ultralytics-8.0.232\n"
          ]
        }
      ]
    },
    {
      "cell_type": "code",
      "source": [
        "from google.colab import drive\n",
        "drive.mount('/content/drive')\n",
        "detZar = '/content/drive/My Drive/IMG-20231117-WA0000.jpg'\n",
        "detMob = '/content/drive/My Drive/index-luxuryfurniture-1659361945.png'\n",
        "detMark = '/content/drive/My Drive/20231205_191020.jpg'\n",
        "detFin = '/content/drive/My Drive/testfin.png'"
      ],
      "metadata": {
        "id": "D01YpYzGIEHS",
        "colab": {
          "base_uri": "https://localhost:8080/"
        },
        "outputId": "bc2630fb-8188-448c-aaf1-1247185bb068"
      },
      "execution_count": null,
      "outputs": [
        {
          "output_type": "stream",
          "name": "stdout",
          "text": [
            "Mounted at /content/drive\n"
          ]
        }
      ]
    },
    {
      "cell_type": "code",
      "execution_count": null,
      "metadata": {
        "id": "L6KGN3zw5iy-"
      },
      "outputs": [],
      "source": [
        "project = '/content/drive/My Drive/dataset-custom-1/'"
      ]
    },
    {
      "cell_type": "code",
      "source": [
        "from ultralytics import YOLO\n",
        "\n",
        "# Load a COCO-pretrained YOLOv8n model\n",
        "model = YOLO('yolov8n.pt')"
      ],
      "metadata": {
        "id": "QSxlXclB6dus",
        "colab": {
          "base_uri": "https://localhost:8080/"
        },
        "outputId": "96d1f208-9561-41f1-f433-edbfdb238085"
      },
      "execution_count": null,
      "outputs": [
        {
          "output_type": "stream",
          "name": "stdout",
          "text": [
            "Downloading https://github.com/ultralytics/assets/releases/download/v0.0.0/yolov8n.pt to 'yolov8n.pt'...\n"
          ]
        },
        {
          "output_type": "stream",
          "name": "stderr",
          "text": [
            "100%|██████████| 6.23M/6.23M [00:00<00:00, 71.8MB/s]\n"
          ]
        }
      ]
    },
    {
      "cell_type": "code",
      "source": [
        "# Train the model on the COCO8 example dataset for 10 epochs\n",
        "results = model.train(data='/content/drive/My Drive/dataset-custom-1/data.yaml', epochs=12, imgsz=1024)"
      ],
      "metadata": {
        "id": "aVsMPfz26Lq2",
        "colab": {
          "base_uri": "https://localhost:8080/"
        },
        "outputId": "8bf40e98-004c-4fac-a428-07bf585be616"
      },
      "execution_count": null,
      "outputs": [
        {
          "metadata": {
            "tags": null
          },
          "name": "stdout",
          "output_type": "stream",
          "text": [
            "Ultralytics YOLOv8.0.232 🚀 Python-3.10.12 torch-2.1.0+cu121 CUDA:0 (Tesla T4, 15102MiB)\n",
            "\u001b[34m\u001b[1mengine/trainer: \u001b[0mtask=detect, mode=train, model=yolov8n.pt, data=/content/drive/My Drive/dataset-custom-1/data.yaml, epochs=15, time=None, patience=50, batch=16, imgsz=1014, save=True, save_period=-1, cache=False, device=None, workers=8, project=None, name=train, exist_ok=False, pretrained=True, optimizer=auto, verbose=True, seed=0, deterministic=True, single_cls=False, rect=False, cos_lr=False, close_mosaic=10, resume=False, amp=True, fraction=1.0, profile=False, freeze=None, overlap_mask=True, mask_ratio=4, dropout=0.0, val=True, split=val, save_json=False, save_hybrid=False, conf=None, iou=0.7, max_det=300, half=False, dnn=False, plots=True, source=None, vid_stride=1, stream_buffer=False, visualize=False, augment=False, agnostic_nms=False, classes=None, retina_masks=False, embed=None, show=False, save_frames=False, save_txt=False, save_conf=False, save_crop=False, show_labels=True, show_conf=True, show_boxes=True, line_width=None, format=torchscript, keras=False, optimize=False, int8=False, dynamic=False, simplify=False, opset=None, workspace=4, nms=False, lr0=0.01, lrf=0.01, momentum=0.937, weight_decay=0.0005, warmup_epochs=3.0, warmup_momentum=0.8, warmup_bias_lr=0.1, box=7.5, cls=0.5, dfl=1.5, pose=12.0, kobj=1.0, label_smoothing=0.0, nbs=64, hsv_h=0.015, hsv_s=0.7, hsv_v=0.4, degrees=0.0, translate=0.1, scale=0.5, shear=0.0, perspective=0.0, flipud=0.0, fliplr=0.5, mosaic=1.0, mixup=0.0, copy_paste=0.0, cfg=None, tracker=botsort.yaml, save_dir=runs/detect/train\n",
            "Downloading https://ultralytics.com/assets/Arial.ttf to '/root/.config/Ultralytics/Arial.ttf'...\n"
          ]
        },
        {
          "metadata": {
            "tags": null
          },
          "name": "stderr",
          "output_type": "stream",
          "text": [
            "100%|██████████| 755k/755k [00:00<00:00, 22.1MB/s]\n"
          ]
        },
        {
          "metadata": {
            "tags": null
          },
          "name": "stdout",
          "output_type": "stream",
          "text": [
            "Overriding model.yaml nc=80 with nc=38\n",
            "\n",
            "                   from  n    params  module                                       arguments                     \n",
            "  0                  -1  1       464  ultralytics.nn.modules.conv.Conv             [3, 16, 3, 2]                 \n",
            "  1                  -1  1      4672  ultralytics.nn.modules.conv.Conv             [16, 32, 3, 2]                \n",
            "  2                  -1  1      7360  ultralytics.nn.modules.block.C2f             [32, 32, 1, True]             \n",
            "  3                  -1  1     18560  ultralytics.nn.modules.conv.Conv             [32, 64, 3, 2]                \n",
            "  4                  -1  2     49664  ultralytics.nn.modules.block.C2f             [64, 64, 2, True]             \n",
            "  5                  -1  1     73984  ultralytics.nn.modules.conv.Conv             [64, 128, 3, 2]               \n",
            "  6                  -1  2    197632  ultralytics.nn.modules.block.C2f             [128, 128, 2, True]           \n",
            "  7                  -1  1    295424  ultralytics.nn.modules.conv.Conv             [128, 256, 3, 2]              \n",
            "  8                  -1  1    460288  ultralytics.nn.modules.block.C2f             [256, 256, 1, True]           \n",
            "  9                  -1  1    164608  ultralytics.nn.modules.block.SPPF            [256, 256, 5]                 \n",
            " 10                  -1  1         0  torch.nn.modules.upsampling.Upsample         [None, 2, 'nearest']          \n",
            " 11             [-1, 6]  1         0  ultralytics.nn.modules.conv.Concat           [1]                           \n",
            " 12                  -1  1    148224  ultralytics.nn.modules.block.C2f             [384, 128, 1]                 \n",
            " 13                  -1  1         0  torch.nn.modules.upsampling.Upsample         [None, 2, 'nearest']          \n",
            " 14             [-1, 4]  1         0  ultralytics.nn.modules.conv.Concat           [1]                           \n",
            " 15                  -1  1     37248  ultralytics.nn.modules.block.C2f             [192, 64, 1]                  \n",
            " 16                  -1  1     36992  ultralytics.nn.modules.conv.Conv             [64, 64, 3, 2]                \n",
            " 17            [-1, 12]  1         0  ultralytics.nn.modules.conv.Concat           [1]                           \n",
            " 18                  -1  1    123648  ultralytics.nn.modules.block.C2f             [192, 128, 1]                 \n",
            " 19                  -1  1    147712  ultralytics.nn.modules.conv.Conv             [128, 128, 3, 2]              \n",
            " 20             [-1, 9]  1         0  ultralytics.nn.modules.conv.Concat           [1]                           \n",
            " 21                  -1  1    493056  ultralytics.nn.modules.block.C2f             [384, 256, 1]                 \n",
            " 22        [15, 18, 21]  1    758722  ultralytics.nn.modules.head.Detect           [38, [64, 128, 256]]          \n",
            "Model summary: 225 layers, 3018258 parameters, 3018242 gradients, 8.2 GFLOPs\n",
            "\n",
            "Transferred 319/355 items from pretrained weights\n",
            "\u001b[34m\u001b[1mTensorBoard: \u001b[0mStart with 'tensorboard --logdir runs/detect/train', view at http://localhost:6006/\n",
            "Freezing layer 'model.22.dfl.conv.weight'\n",
            "\u001b[34m\u001b[1mAMP: \u001b[0mrunning Automatic Mixed Precision (AMP) checks with YOLOv8n...\n",
            "WARNING ⚠️ NMS time limit 0.550s exceeded\n",
            "\u001b[34m\u001b[1mAMP: \u001b[0mchecks passed ✅\n",
            "WARNING ⚠️ imgsz=[1014] must be multiple of max stride 32, updating to [1024]\n"
          ]
        },
        {
          "metadata": {
            "tags": null
          },
          "name": "stderr",
          "output_type": "stream",
          "text": [
            "\u001b[34m\u001b[1mtrain: \u001b[0mScanning /content/drive/My Drive/dataset-custom-1/train/labels.cache... 1758 images, 0 backgrounds, 0 corrupt: 100%|██████████| 1758/1758 [00:00<?, ?it/s]\n"
          ]
        },
        {
          "metadata": {
            "tags": null
          },
          "name": "stdout",
          "output_type": "stream",
          "text": [
            "\u001b[34m\u001b[1malbumentations: \u001b[0mBlur(p=0.01, blur_limit=(3, 7)), MedianBlur(p=0.01, blur_limit=(3, 7)), ToGray(p=0.01), CLAHE(p=0.01, clip_limit=(1, 4.0), tile_grid_size=(8, 8))\n"
          ]
        },
        {
          "metadata": {
            "tags": null
          },
          "name": "stderr",
          "output_type": "stream",
          "text": [
            "\u001b[34m\u001b[1mval: \u001b[0mScanning /content/drive/My Drive/dataset-custom-1/valid/labels.cache... 263 images, 0 backgrounds, 0 corrupt: 100%|██████████| 263/263 [00:00<?, ?it/s]\n"
          ]
        },
        {
          "metadata": {
            "tags": null
          },
          "name": "stdout",
          "output_type": "stream",
          "text": [
            "Plotting labels to runs/detect/train/labels.jpg... \n",
            "\u001b[34m\u001b[1moptimizer:\u001b[0m 'optimizer=auto' found, ignoring 'lr0=0.01' and 'momentum=0.937' and determining best 'optimizer', 'lr0' and 'momentum' automatically... \n",
            "\u001b[34m\u001b[1moptimizer:\u001b[0m AdamW(lr=0.000238, momentum=0.9) with parameter groups 57 weight(decay=0.0), 64 weight(decay=0.0005), 63 bias(decay=0.0)\n",
            "15 epochs...\n",
            "\n",
            "      Epoch    GPU_mem   box_loss   cls_loss   dfl_loss  Instances       Size\n"
          ]
        },
        {
          "metadata": {
            "tags": null
          },
          "name": "stderr",
          "output_type": "stream",
          "text": [
            "       1/15      7.96G       1.17      4.122      1.174        290       1024: 100%|██████████| 110/110 [06:11<00:00,  3.38s/it]\n",
            "                 Class     Images  Instances      Box(P          R      mAP50  mAP50-95): 100%|██████████| 9/9 [00:07<00:00,  1.20it/s]"
          ]
        },
        {
          "metadata": {
            "tags": null
          },
          "name": "stdout",
          "output_type": "stream",
          "text": [
            "                   all        263       1156     0.0593      0.555     0.0761     0.0379\n"
          ]
        },
        {
          "metadata": {
            "tags": null
          },
          "name": "stderr",
          "output_type": "stream",
          "text": [
            "\n"
          ]
        },
        {
          "metadata": {
            "tags": null
          },
          "name": "stdout",
          "output_type": "stream",
          "text": [
            "\n",
            "      Epoch    GPU_mem   box_loss   cls_loss   dfl_loss  Instances       Size\n"
          ]
        },
        {
          "metadata": {
            "tags": null
          },
          "name": "stderr",
          "output_type": "stream",
          "text": [
            "       2/15      7.13G     0.8647      2.712      1.034        328       1024: 100%|██████████| 110/110 [01:48<00:00,  1.01it/s]\n",
            "                 Class     Images  Instances      Box(P          R      mAP50  mAP50-95): 100%|██████████| 9/9 [00:06<00:00,  1.38it/s]"
          ]
        },
        {
          "metadata": {
            "tags": null
          },
          "name": "stdout",
          "output_type": "stream",
          "text": [
            "                   all        263       1156      0.365      0.227      0.188      0.088\n"
          ]
        },
        {
          "metadata": {
            "tags": null
          },
          "name": "stderr",
          "output_type": "stream",
          "text": [
            "\n"
          ]
        },
        {
          "metadata": {
            "tags": null
          },
          "name": "stdout",
          "output_type": "stream",
          "text": [
            "\n",
            "      Epoch    GPU_mem   box_loss   cls_loss   dfl_loss  Instances       Size\n"
          ]
        },
        {
          "metadata": {
            "tags": null
          },
          "name": "stderr",
          "output_type": "stream",
          "text": [
            "       3/15      8.87G     0.8258      2.004      1.036        454       1024: 100%|██████████| 110/110 [01:47<00:00,  1.03it/s]\n",
            "                 Class     Images  Instances      Box(P          R      mAP50  mAP50-95): 100%|██████████| 9/9 [00:06<00:00,  1.29it/s]"
          ]
        },
        {
          "metadata": {
            "tags": null
          },
          "name": "stdout",
          "output_type": "stream",
          "text": [
            "                   all        263       1156      0.287      0.379      0.271      0.138\n"
          ]
        },
        {
          "metadata": {
            "tags": null
          },
          "name": "stderr",
          "output_type": "stream",
          "text": [
            "\n"
          ]
        },
        {
          "metadata": {
            "tags": null
          },
          "name": "stdout",
          "output_type": "stream",
          "text": [
            "\n",
            "      Epoch    GPU_mem   box_loss   cls_loss   dfl_loss  Instances       Size\n"
          ]
        },
        {
          "metadata": {
            "tags": null
          },
          "name": "stderr",
          "output_type": "stream",
          "text": [
            "       4/15      7.63G     0.8046       1.62      1.015        205       1024: 100%|██████████| 110/110 [01:45<00:00,  1.04it/s]\n",
            "                 Class     Images  Instances      Box(P          R      mAP50  mAP50-95): 100%|██████████| 9/9 [00:08<00:00,  1.02it/s]\n"
          ]
        },
        {
          "metadata": {
            "tags": null
          },
          "name": "stdout",
          "output_type": "stream",
          "text": [
            "                   all        263       1156      0.324       0.42      0.341       0.18\n",
            "\n",
            "      Epoch    GPU_mem   box_loss   cls_loss   dfl_loss  Instances       Size\n"
          ]
        },
        {
          "metadata": {
            "tags": null
          },
          "name": "stderr",
          "output_type": "stream",
          "text": [
            "       5/15      8.64G     0.7787      1.386       1.01        290       1024: 100%|██████████| 110/110 [01:45<00:00,  1.04it/s]\n",
            "                 Class     Images  Instances      Box(P          R      mAP50  mAP50-95): 100%|██████████| 9/9 [00:08<00:00,  1.04it/s]\n"
          ]
        },
        {
          "metadata": {
            "tags": null
          },
          "name": "stdout",
          "output_type": "stream",
          "text": [
            "                   all        263       1156      0.384       0.46      0.411      0.218\n",
            "Closing dataloader mosaic\n",
            "\u001b[34m\u001b[1malbumentations: \u001b[0mBlur(p=0.01, blur_limit=(3, 7)), MedianBlur(p=0.01, blur_limit=(3, 7)), ToGray(p=0.01), CLAHE(p=0.01, clip_limit=(1, 4.0), tile_grid_size=(8, 8))\n",
            "\n",
            "      Epoch    GPU_mem   box_loss   cls_loss   dfl_loss  Instances       Size\n"
          ]
        },
        {
          "metadata": {
            "tags": null
          },
          "name": "stderr",
          "output_type": "stream",
          "text": [
            "       6/15      6.53G     0.7551      1.146      1.001        142       1024: 100%|██████████| 110/110 [01:45<00:00,  1.04it/s]\n",
            "                 Class     Images  Instances      Box(P          R      mAP50  mAP50-95): 100%|██████████| 9/9 [00:08<00:00,  1.12it/s]\n"
          ]
        },
        {
          "metadata": {
            "tags": null
          },
          "name": "stdout",
          "output_type": "stream",
          "text": [
            "                   all        263       1156      0.481      0.517      0.513      0.278\n",
            "\n",
            "      Epoch    GPU_mem   box_loss   cls_loss   dfl_loss  Instances       Size\n"
          ]
        },
        {
          "metadata": {
            "tags": null
          },
          "name": "stderr",
          "output_type": "stream",
          "text": [
            "       7/15      5.51G      0.732      0.994     0.9828        143       1024: 100%|██████████| 110/110 [01:38<00:00,  1.12it/s]\n",
            "                 Class     Images  Instances      Box(P          R      mAP50  mAP50-95): 100%|██████████| 9/9 [00:07<00:00,  1.18it/s]"
          ]
        },
        {
          "metadata": {
            "tags": null
          },
          "name": "stdout",
          "output_type": "stream",
          "text": [
            "                   all        263       1156      0.506       0.57      0.551      0.297\n"
          ]
        },
        {
          "metadata": {
            "tags": null
          },
          "name": "stderr",
          "output_type": "stream",
          "text": [
            "\n"
          ]
        },
        {
          "metadata": {
            "tags": null
          },
          "name": "stdout",
          "output_type": "stream",
          "text": [
            "\n",
            "      Epoch    GPU_mem   box_loss   cls_loss   dfl_loss  Instances       Size\n"
          ]
        },
        {
          "metadata": {
            "tags": null
          },
          "name": "stderr",
          "output_type": "stream",
          "text": [
            "       8/15      5.52G     0.7239     0.9134     0.9696        281       1024: 100%|██████████| 110/110 [01:39<00:00,  1.10it/s]\n",
            "                 Class     Images  Instances      Box(P          R      mAP50  mAP50-95): 100%|██████████| 9/9 [00:06<00:00,  1.35it/s]\n"
          ]
        },
        {
          "metadata": {
            "tags": null
          },
          "name": "stdout",
          "output_type": "stream",
          "text": [
            "                   all        263       1156      0.528      0.645      0.611      0.341\n",
            "\n",
            "      Epoch    GPU_mem   box_loss   cls_loss   dfl_loss  Instances       Size\n"
          ]
        },
        {
          "metadata": {
            "tags": null
          },
          "name": "stderr",
          "output_type": "stream",
          "text": [
            "       9/15      5.52G     0.7116     0.8606     0.9636        195       1024: 100%|██████████| 110/110 [01:38<00:00,  1.12it/s]\n",
            "                 Class     Images  Instances      Box(P          R      mAP50  mAP50-95): 100%|██████████| 9/9 [00:08<00:00,  1.05it/s]"
          ]
        },
        {
          "metadata": {
            "tags": null
          },
          "name": "stdout",
          "output_type": "stream",
          "text": [
            "                   all        263       1156      0.573      0.594      0.596      0.334\n"
          ]
        },
        {
          "metadata": {
            "tags": null
          },
          "name": "stderr",
          "output_type": "stream",
          "text": [
            "\n"
          ]
        },
        {
          "metadata": {
            "tags": null
          },
          "name": "stdout",
          "output_type": "stream",
          "text": [
            "\n",
            "      Epoch    GPU_mem   box_loss   cls_loss   dfl_loss  Instances       Size\n"
          ]
        },
        {
          "metadata": {
            "tags": null
          },
          "name": "stderr",
          "output_type": "stream",
          "text": [
            "      10/15      5.82G     0.7027      0.815     0.9549        228       1024: 100%|██████████| 110/110 [01:34<00:00,  1.16it/s]\n",
            "                 Class     Images  Instances      Box(P          R      mAP50  mAP50-95): 100%|██████████| 9/9 [00:08<00:00,  1.11it/s]\n"
          ]
        },
        {
          "metadata": {
            "tags": null
          },
          "name": "stdout",
          "output_type": "stream",
          "text": [
            "                   all        263       1156      0.617      0.625      0.653       0.37\n",
            "\n",
            "      Epoch    GPU_mem   box_loss   cls_loss   dfl_loss  Instances       Size\n"
          ]
        },
        {
          "output_type": "stream",
          "name": "stderr",
          "text": [
            "      11/15      5.51G     0.6939     0.7769     0.9483        178       1024: 100%|██████████| 110/110 [01:36<00:00,  1.14it/s]\n",
            "                 Class     Images  Instances      Box(P          R      mAP50  mAP50-95): 100%|██████████| 9/9 [00:08<00:00,  1.07it/s]\n"
          ]
        },
        {
          "output_type": "stream",
          "name": "stdout",
          "text": [
            "                   all        263       1156      0.621      0.618       0.66      0.384\n",
            "\n",
            "      Epoch    GPU_mem   box_loss   cls_loss   dfl_loss  Instances       Size\n"
          ]
        },
        {
          "output_type": "stream",
          "name": "stderr",
          "text": [
            "      12/15       5.5G     0.6854     0.7501      0.944        259       1024: 100%|██████████| 110/110 [01:35<00:00,  1.15it/s]\n",
            "                 Class     Images  Instances      Box(P          R      mAP50  mAP50-95): 100%|██████████| 9/9 [00:08<00:00,  1.08it/s]\n"
          ]
        },
        {
          "output_type": "stream",
          "name": "stdout",
          "text": [
            "                   all        263       1156      0.616      0.593      0.628       0.36\n",
            "\n",
            "      Epoch    GPU_mem   box_loss   cls_loss   dfl_loss  Instances       Size\n"
          ]
        },
        {
          "output_type": "stream",
          "name": "stderr",
          "text": [
            "      13/15      5.46G     0.6756      0.723     0.9369        171       1024: 100%|██████████| 110/110 [01:36<00:00,  1.14it/s]\n",
            "                 Class     Images  Instances      Box(P          R      mAP50  mAP50-95): 100%|██████████| 9/9 [00:08<00:00,  1.05it/s]"
          ]
        },
        {
          "output_type": "stream",
          "name": "stdout",
          "text": [
            "                   all        263       1156      0.724      0.587      0.692        0.4\n"
          ]
        },
        {
          "output_type": "stream",
          "name": "stderr",
          "text": [
            "\n"
          ]
        },
        {
          "output_type": "stream",
          "name": "stdout",
          "text": [
            "\n",
            "      Epoch    GPU_mem   box_loss   cls_loss   dfl_loss  Instances       Size\n"
          ]
        },
        {
          "output_type": "stream",
          "name": "stderr",
          "text": [
            "      14/15      5.51G     0.6693      0.708     0.9308        223       1024: 100%|██████████| 110/110 [01:35<00:00,  1.15it/s]\n",
            "                 Class     Images  Instances      Box(P          R      mAP50  mAP50-95): 100%|██████████| 9/9 [00:07<00:00,  1.13it/s]\n"
          ]
        },
        {
          "output_type": "stream",
          "name": "stdout",
          "text": [
            "                   all        263       1156      0.651      0.613      0.642      0.356\n",
            "\n",
            "      Epoch    GPU_mem   box_loss   cls_loss   dfl_loss  Instances       Size\n"
          ]
        },
        {
          "output_type": "stream",
          "name": "stderr",
          "text": [
            "      15/15      5.56G     0.6609      0.692     0.9245        216       1024: 100%|██████████| 110/110 [01:38<00:00,  1.12it/s]\n",
            "                 Class     Images  Instances      Box(P          R      mAP50  mAP50-95): 100%|██████████| 9/9 [00:08<00:00,  1.04it/s]\n"
          ]
        },
        {
          "output_type": "stream",
          "name": "stdout",
          "text": [
            "                   all        263       1156      0.681      0.614      0.673      0.389\n",
            "\n",
            "15 epochs completed in 0.537 hours.\n",
            "Optimizer stripped from runs/detect/train/weights/last.pt, 6.3MB\n",
            "Optimizer stripped from runs/detect/train/weights/best.pt, 6.3MB\n",
            "\n",
            "Validating runs/detect/train/weights/best.pt...\n",
            "Ultralytics YOLOv8.0.232 🚀 Python-3.10.12 torch-2.1.0+cu121 CUDA:0 (Tesla T4, 15102MiB)\n",
            "Model summary (fused): 168 layers, 3013058 parameters, 0 gradients, 8.1 GFLOPs\n"
          ]
        },
        {
          "output_type": "stream",
          "name": "stderr",
          "text": [
            "                 Class     Images  Instances      Box(P          R      mAP50  mAP50-95): 100%|██████████| 9/9 [00:12<00:00,  1.40s/it]\n"
          ]
        },
        {
          "output_type": "stream",
          "name": "stdout",
          "text": [
            "                   all        263       1156      0.724      0.588      0.691        0.4\n",
            "                     a        263         74      0.896      0.473      0.724      0.371\n",
            "                     b        263         19      0.976      0.632      0.753      0.481\n",
            "                     c        263         20      0.755      0.769      0.814      0.421\n",
            "                     d        263         21        0.9      0.524      0.755      0.424\n",
            "                     e        263         98      0.963      0.536      0.834      0.456\n",
            "                     f        263         16      0.411      0.438      0.375      0.222\n",
            "                     g        263         28      0.382      0.607      0.592      0.306\n",
            "                     h        263         51      0.891      0.608       0.75      0.448\n",
            "                     i        263         61      0.888       0.82      0.874      0.382\n",
            "                     j        263          5      0.352      0.762      0.665      0.296\n",
            "                     k        263         11      0.526      0.364      0.412      0.237\n",
            "                     l        263         49      0.826      0.583      0.779      0.444\n",
            "                     m        263         10      0.549        0.2      0.269      0.137\n",
            "                     n        263         56      0.832      0.714      0.795      0.456\n",
            "                     o        263         83      0.889      0.855      0.915      0.468\n",
            "                     p        263         16      0.686      0.438      0.608      0.331\n",
            "                     q        263          7          0          0          0          0\n",
            "                     r        263         50      0.717      0.507      0.659      0.351\n",
            "                     s        263         59      0.905      0.525      0.745       0.35\n",
            "                     t        263         78      0.866      0.663      0.853      0.475\n",
            "                     u        263         36       0.56      0.917      0.876      0.509\n",
            "                     v        263         17      0.695      0.403      0.659      0.305\n",
            "                     w        263         22      0.803       0.37      0.544      0.317\n",
            "                     x        263         16      0.862      0.688      0.744      0.451\n",
            "                     y        263         36      0.722      0.583      0.659      0.292\n",
            "                     z        263         14      0.238      0.214      0.313      0.224\n",
            "                 black        263         38      0.989          1      0.995      0.819\n",
            "                  blue        263          4      0.903          1      0.995      0.871\n",
            "                  Sofa        263         23       0.87      0.783      0.918      0.626\n",
            "                 Table        263        138      0.859      0.663       0.87      0.527\n",
            "Speed: 0.9ms preprocess, 6.6ms inference, 0.0ms loss, 5.3ms postprocess per image\n",
            "Results saved to \u001b[1mruns/detect/train\u001b[0m\n"
          ]
        }
      ]
    },
    {
      "cell_type": "markdown",
      "source": [
        "1. Detectia unor zaruri"
      ],
      "metadata": {
        "id": "NnBfzw-I0aLD"
      }
    },
    {
      "cell_type": "code",
      "source": [
        "model = YOLO('/content/runs/detect/train/weights/best.pt')\n",
        "# Validate the model"
      ],
      "metadata": {
        "id": "gYtsJwCi7X8Y"
      },
      "execution_count": null,
      "outputs": []
    },
    {
      "cell_type": "code",
      "source": [
        "# infer on a local image\n",
        "from PIL import Image\n",
        "import cv2\n",
        "results = model(detZar)              # run prediction on img\n",
        "for result in results:\n",
        "    print(result.boxes)\n",
        "    im = cv2.imread(detZar)  # RGB PIL image\n",
        "    im_array = result.plot()  # plot a BGR numpy array of predictions\n",
        "    boxes = result.boxes.cpu().numpy()\n",
        "    xyxys = boxes.xyxy                       # get boxes on cpu in numpy\n",
        "    for xyxy in xyxys:                                          # iterate boxes\n",
        "      cv2.rectangle(im, (int(xyxy[0]), int(xyxy[1])), (int(xyxy[2]), int(xyxy[3])), (0, 255, 0), 2)   # draw boxes on img\n",
        "      cv2.imwrite(\"Zarresults.jpg\",im)"
      ],
      "metadata": {
        "id": "yR0IXyF0CuFm",
        "colab": {
          "base_uri": "https://localhost:8080/"
        },
        "outputId": "7f858c43-4782-4a7a-802a-11ec753fe57c"
      },
      "execution_count": null,
      "outputs": [
        {
          "output_type": "stream",
          "name": "stdout",
          "text": [
            "\n",
            "image 1/1 /content/drive/My Drive/IMG-20231117-WA0000.jpg: 1024x768 2 as, 2 es, 1 g, 1 h, 1 i, 1 n, 1 o, 1 s, 1 t, 1 u, 1 w, 2 ys, 125.0ms\n",
            "Speed: 7.9ms preprocess, 125.0ms inference, 2.7ms postprocess per image at shape (1, 3, 1024, 768)\n",
            "ultralytics.engine.results.Boxes object with attributes:\n",
            "\n",
            "cls: tensor([26., 23., 31., 24., 11.,  9.,  5.,  8., 18., 31.,  0., 17.,  5., 28.,  0.], device='cuda:0')\n",
            "conf: tensor([0.9226, 0.9111, 0.8974, 0.8834, 0.8695, 0.8680, 0.7867, 0.7131, 0.6904, 0.5900, 0.5593, 0.5497, 0.4406, 0.3667, 0.2982], device='cuda:0')\n",
            "data: tensor([[3.9355e+02, 7.1468e+02, 4.9855e+02, 8.1360e+02, 9.2260e-01, 2.6000e+01],\n",
            "        [3.9428e+02, 8.2328e+02, 4.9697e+02, 9.2014e+02, 9.1113e-01, 2.3000e+01],\n",
            "        [7.2851e+02, 6.1284e+02, 8.3361e+02, 7.1142e+02, 8.9736e-01, 3.1000e+01],\n",
            "        [6.1802e+02, 8.2676e+02, 7.1685e+02, 9.2406e+02, 8.8336e-01, 2.4000e+01],\n",
            "        [7.2648e+02, 8.2804e+02, 8.1849e+02, 9.2588e+02, 8.6954e-01, 1.1000e+01],\n",
            "        [7.2463e+02, 7.2257e+02, 8.2492e+02, 8.1820e+02, 8.6799e-01, 9.0000e+00],\n",
            "        [7.1943e+02, 9.3815e+02, 8.1556e+02, 1.0320e+03, 7.8668e-01, 5.0000e+00],\n",
            "        [6.2126e+02, 6.1434e+02, 7.2071e+02, 7.0726e+02, 7.1315e-01, 8.0000e+00],\n",
            "        [3.9663e+02, 6.0299e+02, 5.0229e+02, 7.0315e+02, 6.9038e-01, 1.8000e+01],\n",
            "        [3.9266e+02, 9.2827e+02, 4.9465e+02, 1.0239e+03, 5.9003e-01, 3.1000e+01],\n",
            "        [5.0733e+02, 9.3051e+02, 6.0473e+02, 1.0241e+03, 5.5930e-01, 0.0000e+00],\n",
            "        [5.0859e+02, 6.0837e+02, 6.1169e+02, 7.0420e+02, 5.4969e-01, 1.7000e+01],\n",
            "        [5.0594e+02, 8.2476e+02, 6.0778e+02, 9.2117e+02, 4.4058e-01, 5.0000e+00],\n",
            "        [5.0595e+02, 7.1722e+02, 6.0855e+02, 8.1223e+02, 3.6665e-01, 2.8000e+01],\n",
            "        [3.9179e+02, 9.2745e+02, 4.9489e+02, 1.0248e+03, 2.9818e-01, 0.0000e+00]], device='cuda:0')\n",
            "id: None\n",
            "is_track: False\n",
            "orig_shape: (1600, 1200)\n",
            "shape: torch.Size([15, 6])\n",
            "xywh: tensor([[446.0483, 764.1422, 104.9944,  98.9246],\n",
            "        [445.6280, 871.7121, 102.6890,  96.8567],\n",
            "        [781.0583, 662.1306, 105.0952,  98.5855],\n",
            "        [667.4365, 875.4088,  98.8234,  97.3040],\n",
            "        [772.4862, 876.9634,  92.0107,  97.8409],\n",
            "        [774.7765, 770.3862, 100.2872,  95.6368],\n",
            "        [767.4966, 985.0872,  96.1365,  93.8828],\n",
            "        [670.9857, 660.7975,  99.4520,  92.9238],\n",
            "        [449.4615, 653.0685, 105.6549, 100.1630],\n",
            "        [443.6530, 976.0792, 101.9954,  95.6249],\n",
            "        [556.0304, 977.3140,  97.3938,  93.6074],\n",
            "        [560.1404, 656.2851, 103.1042,  95.8235],\n",
            "        [556.8589, 872.9677, 101.8475,  96.4067],\n",
            "        [557.2470, 764.7244, 102.5974,  95.0065],\n",
            "        [443.3394, 976.1177, 103.0988,  97.3362]], device='cuda:0')\n",
            "xywhn: tensor([[0.3717, 0.4776, 0.0875, 0.0618],\n",
            "        [0.3714, 0.5448, 0.0856, 0.0605],\n",
            "        [0.6509, 0.4138, 0.0876, 0.0616],\n",
            "        [0.5562, 0.5471, 0.0824, 0.0608],\n",
            "        [0.6437, 0.5481, 0.0767, 0.0612],\n",
            "        [0.6456, 0.4815, 0.0836, 0.0598],\n",
            "        [0.6396, 0.6157, 0.0801, 0.0587],\n",
            "        [0.5592, 0.4130, 0.0829, 0.0581],\n",
            "        [0.3746, 0.4082, 0.0880, 0.0626],\n",
            "        [0.3697, 0.6100, 0.0850, 0.0598],\n",
            "        [0.4634, 0.6108, 0.0812, 0.0585],\n",
            "        [0.4668, 0.4102, 0.0859, 0.0599],\n",
            "        [0.4640, 0.5456, 0.0849, 0.0603],\n",
            "        [0.4644, 0.4780, 0.0855, 0.0594],\n",
            "        [0.3694, 0.6101, 0.0859, 0.0608]], device='cuda:0')\n",
            "xyxy: tensor([[ 393.5511,  714.6799,  498.5455,  813.6046],\n",
            "        [ 394.2835,  823.2838,  496.9725,  920.1404],\n",
            "        [ 728.5107,  612.8379,  833.6060,  711.4234],\n",
            "        [ 618.0248,  826.7568,  716.8482,  924.0608],\n",
            "        [ 726.4808,  828.0430,  818.4916,  925.8839],\n",
            "        [ 724.6329,  722.5677,  824.9201,  818.2046],\n",
            "        [ 719.4283,  938.1458,  815.5648, 1032.0286],\n",
            "        [ 621.2597,  614.3356,  720.7117,  707.2594],\n",
            "        [ 396.6340,  602.9869,  502.2889,  703.1500],\n",
            "        [ 392.6553,  928.2667,  494.6507, 1023.8917],\n",
            "        [ 507.3335,  930.5103,  604.7273, 1024.1177],\n",
            "        [ 508.5883,  608.3734,  611.6926,  704.1968],\n",
            "        [ 505.9352,  824.7643,  607.7827,  921.1711],\n",
            "        [ 505.9483,  717.2212,  608.5457,  812.2277],\n",
            "        [ 391.7900,  927.4496,  494.8888, 1024.7858]], device='cuda:0')\n",
            "xyxyn: tensor([[0.3280, 0.4467, 0.4155, 0.5085],\n",
            "        [0.3286, 0.5146, 0.4141, 0.5751],\n",
            "        [0.6071, 0.3830, 0.6947, 0.4446],\n",
            "        [0.5150, 0.5167, 0.5974, 0.5775],\n",
            "        [0.6054, 0.5175, 0.6821, 0.5787],\n",
            "        [0.6039, 0.4516, 0.6874, 0.5114],\n",
            "        [0.5995, 0.5863, 0.6796, 0.6450],\n",
            "        [0.5177, 0.3840, 0.6006, 0.4420],\n",
            "        [0.3305, 0.3769, 0.4186, 0.4395],\n",
            "        [0.3272, 0.5802, 0.4122, 0.6399],\n",
            "        [0.4228, 0.5816, 0.5039, 0.6401],\n",
            "        [0.4238, 0.3802, 0.5097, 0.4401],\n",
            "        [0.4216, 0.5155, 0.5065, 0.5757],\n",
            "        [0.4216, 0.4483, 0.5071, 0.5076],\n",
            "        [0.3265, 0.5797, 0.4124, 0.6405]], device='cuda:0')\n"
          ]
        }
      ]
    },
    {
      "cell_type": "code",
      "source": [
        "results = model(detMark)              # run prediction on img\n",
        "for result in results:\n",
        "    print(result.boxes)\n",
        "    im = cv2.imread(detMark)  # RGB PIL image\n",
        "    im_array = result.plot()  # plot a BGR numpy array of predictions\n",
        "    boxes = result.boxes.cpu().numpy()\n",
        "    xyxys = boxes.xyxy                       # get boxes on cpu in numpy\n",
        "    for xyxy in xyxys:                                          # iterate boxes\n",
        "      cv2.rectangle(im, (int(xyxy[0]), int(xyxy[1])), (int(xyxy[2]), int(xyxy[3])), (0, 255, 0), 2)   # draw boxes on img\n",
        "      cv2.imwrite(\"Markresults.jpg\",im)"
      ],
      "metadata": {
        "id": "pOZR_GluvlVt",
        "colab": {
          "base_uri": "https://localhost:8080/"
        },
        "outputId": "dba3540e-8064-44bc-d58a-dbbe8be19315"
      },
      "execution_count": null,
      "outputs": [
        {
          "output_type": "stream",
          "name": "stdout",
          "text": [
            "\n",
            "image 1/1 /content/drive/My Drive/20231205_191020.jpg: 768x1024 1 black, 1 blue, 110.9ms\n",
            "Speed: 11.5ms preprocess, 110.9ms inference, 3.3ms postprocess per image at shape (1, 3, 768, 1024)\n",
            "ultralytics.engine.results.Boxes object with attributes:\n",
            "\n",
            "cls: tensor([34., 33.], device='cuda:0')\n",
            "conf: tensor([0.9615, 0.7139], device='cuda:0')\n",
            "data: tensor([[5.5556e+02, 1.4915e+03, 3.4029e+03, 2.4871e+03, 9.6151e-01, 3.4000e+01],\n",
            "        [5.6043e+02, 1.3949e+02, 3.7464e+03, 1.4447e+03, 7.1395e-01, 3.3000e+01]], device='cuda:0')\n",
            "id: None\n",
            "is_track: False\n",
            "orig_shape: (3096, 4128)\n",
            "shape: torch.Size([2, 6])\n",
            "xywh: tensor([[1979.2252, 1989.2612, 2847.3401,  995.5894],\n",
            "        [2153.4385,  792.0822, 3186.0112, 1305.1802]], device='cuda:0')\n",
            "xywhn: tensor([[0.4795, 0.6425, 0.6898, 0.3216],\n",
            "        [0.5217, 0.2558, 0.7718, 0.4216]], device='cuda:0')\n",
            "xyxy: tensor([[ 555.5552, 1491.4666, 3402.8953, 2487.0559],\n",
            "        [ 560.4329,  139.4921, 3746.4441, 1444.6722]], device='cuda:0')\n",
            "xyxyn: tensor([[0.1346, 0.4817, 0.8243, 0.8033],\n",
            "        [0.1358, 0.0451, 0.9076, 0.4666]], device='cuda:0')\n"
          ]
        }
      ]
    },
    {
      "cell_type": "code",
      "source": [
        "results = model(detMob)              # run prediction on img\n",
        "for result in results:\n",
        "    print(result.boxes)\n",
        "    im = cv2.imread(detMob)  # RGB PIL image\n",
        "    im_array = result.plot()  # plot a BGR numpy array of predictions\n",
        "    boxes = result.boxes.cpu().numpy()\n",
        "    xyxys = boxes.xyxy                       # get boxes on cpu in numpy\n",
        "    for xyxy in xyxys:                                          # iterate boxes\n",
        "      cv2.rectangle(im, (int(xyxy[0]), int(xyxy[1])), (int(xyxy[2]), int(xyxy[3])), (0, 255, 0), 2)   # draw boxes on img\n",
        "      cv2.imwrite(\"Mobresults.jpg\",im)"
      ],
      "metadata": {
        "id": "ycTBpRZgL83t",
        "colab": {
          "base_uri": "https://localhost:8080/"
        },
        "outputId": "1a9c01f6-4498-440a-da6e-d2b2352d8744"
      },
      "execution_count": null,
      "outputs": [
        {
          "output_type": "stream",
          "name": "stdout",
          "text": [
            "\n",
            "image 1/1 /content/drive/My Drive/index-luxuryfurniture-1659361945.png: 512x1024 2 Sofas, 67.0ms\n",
            "Speed: 4.5ms preprocess, 67.0ms inference, 2.2ms postprocess per image at shape (1, 3, 512, 1024)\n",
            "ultralytics.engine.results.Boxes object with attributes:\n",
            "\n",
            "cls: tensor([36., 36.], device='cuda:0')\n",
            "conf: tensor([0.8316, 0.7690], device='cuda:0')\n",
            "data: tensor([[1.3359e+02, 3.9600e+02, 2.0777e+03, 1.7448e+03, 8.3159e-01, 3.6000e+01],\n",
            "        [4.6801e+02, 3.8228e+02, 3.4176e+03, 1.9120e+03, 7.6898e-01, 3.6000e+01]], device='cuda:0')\n",
            "id: None\n",
            "is_track: False\n",
            "orig_shape: (2000, 4000)\n",
            "shape: torch.Size([2, 6])\n",
            "xywh: tensor([[1105.6356, 1070.3829, 1944.0979, 1348.7749],\n",
            "        [1942.8109, 1147.1199, 2949.5959, 1529.6788]], device='cuda:0')\n",
            "xywhn: tensor([[0.2764, 0.5352, 0.4860, 0.6744],\n",
            "        [0.4857, 0.5736, 0.7374, 0.7648]], device='cuda:0')\n",
            "xyxy: tensor([[ 133.5866,  395.9955, 2077.6846, 1744.7704],\n",
            "        [ 468.0130,  382.2805, 3417.6089, 1911.9594]], device='cuda:0')\n",
            "xyxyn: tensor([[0.0334, 0.1980, 0.5194, 0.8724],\n",
            "        [0.1170, 0.1911, 0.8544, 0.9560]], device='cuda:0')\n"
          ]
        }
      ]
    },
    {
      "cell_type": "code",
      "source": [
        "results = model(detFin)              # run prediction on img\n",
        "for result in results:\n",
        "    print(result.boxes)\n",
        "    im = cv2.imread(detFin)  # RGB PIL image\n",
        "    im_array = result.plot()  # plot a BGR numpy array of predictions\n",
        "    boxes = result.boxes.cpu().numpy()\n",
        "    xyxys = boxes.xyxy                       # get boxes on cpu in numpy\n",
        "    for xyxy in xyxys:                                          # iterate boxes\n",
        "      cv2.rectangle(im, (int(xyxy[0]), int(xyxy[1])), (int(xyxy[2]), int(xyxy[3])), (0, 255, 0), 2)   # draw boxes on img\n",
        "      cv2.imwrite(\"Finresults.jpg\",im)"
      ],
      "metadata": {
        "id": "_M-at6St_b1Z",
        "colab": {
          "base_uri": "https://localhost:8080/"
        },
        "outputId": "8f63dccc-0c9e-45a5-f096-0065832015da"
      },
      "execution_count": null,
      "outputs": [
        {
          "output_type": "stream",
          "name": "stdout",
          "text": [
            "\n",
            "image 1/1 /content/drive/My Drive/testfin.png: 608x1024 1 d, 1 e, 1 i, 1 l, 1 n, 2 os, 3 rs, 2 ss, 1 w, 2 Sofas, 65.8ms\n",
            "Speed: 4.1ms preprocess, 65.8ms inference, 2.0ms postprocess per image at shape (1, 3, 608, 1024)\n",
            "ultralytics.engine.results.Boxes object with attributes:\n",
            "\n",
            "cls: tensor([23., 36., 22., 28., 18., 36.,  5., 22., 15., 17., 22., 11., 18.,  4., 23.], device='cuda:0')\n",
            "conf: tensor([0.9226, 0.8641, 0.8139, 0.7993, 0.7478, 0.7465, 0.6501, 0.4288, 0.3957, 0.3596, 0.3436, 0.3409, 0.2701, 0.2611, 0.2586], device='cuda:0')\n",
            "data: tensor([[1.7764e+01, 2.8320e+02, 3.8368e+01, 3.0071e+02, 9.2264e-01, 2.3000e+01],\n",
            "        [9.3516e+00, 6.9512e+00, 4.6923e+02, 2.1224e+02, 8.6414e-01, 3.6000e+01],\n",
            "        [1.4933e+02, 2.1462e+02, 1.6882e+02, 2.2856e+02, 8.1392e-01, 2.2000e+01],\n",
            "        [4.7825e+01, 2.8217e+02, 6.8998e+01, 2.9963e+02, 7.9933e-01, 2.8000e+01],\n",
            "        [6.5287e+01, 2.3799e+02, 8.3799e+01, 2.5131e+02, 7.4785e-01, 1.8000e+01],\n",
            "        [4.0437e+02, 1.2779e+01, 6.3480e+02, 2.3536e+02, 7.4646e-01, 3.6000e+01],\n",
            "        [8.2704e+01, 2.8188e+02, 1.0380e+02, 2.9919e+02, 6.5008e-01, 5.0000e+00],\n",
            "        [1.5472e+02, 2.7986e+02, 1.7499e+02, 2.9640e+02, 4.2878e-01, 2.2000e+01],\n",
            "        [1.1683e+02, 2.8130e+02, 1.3708e+02, 2.9755e+02, 3.9570e-01, 1.5000e+01],\n",
            "        [4.7511e+01, 2.8207e+02, 6.8964e+01, 2.9972e+02, 3.5957e-01, 1.7000e+01],\n",
            "        [1.1671e+02, 2.0298e+02, 1.3625e+02, 2.1796e+02, 3.4362e-01, 2.2000e+01],\n",
            "        [1.5171e+02, 2.4366e+02, 1.7033e+02, 2.5823e+02, 3.4085e-01, 1.1000e+01],\n",
            "        [1.1395e+02, 2.9923e+02, 1.3686e+02, 3.1451e+02, 2.7012e-01, 1.8000e+01],\n",
            "        [8.1716e+01, 3.0134e+02, 1.0388e+02, 3.1560e+02, 2.6110e-01, 4.0000e+00],\n",
            "        [2.9123e+01, 2.1842e+02, 4.8080e+01, 2.3501e+02, 2.5863e-01, 2.3000e+01]], device='cuda:0')\n",
            "id: None\n",
            "is_track: False\n",
            "orig_shape: (370, 650)\n",
            "shape: torch.Size([15, 6])\n",
            "xywh: tensor([[ 28.0658, 291.9534,  20.6037,  17.5115],\n",
            "        [239.2903, 109.5970, 459.8775, 205.2915],\n",
            "        [159.0718, 221.5901,  19.4896,  13.9485],\n",
            "        [ 58.4116, 290.9039,  21.1725,  17.4587],\n",
            "        [ 74.5431, 244.6493,  18.5120,  13.3197],\n",
            "        [519.5833, 124.0699, 230.4362, 222.5813],\n",
            "        [ 93.2516, 290.5362,  21.0950,  17.3105],\n",
            "        [164.8554, 288.1327,  20.2742,  16.5395],\n",
            "        [126.9566, 289.4259,  20.2487,  16.2485],\n",
            "        [ 58.2372, 290.8923,  21.4533,  17.6499],\n",
            "        [126.4820, 210.4698,  19.5405,  14.9737],\n",
            "        [161.0168, 250.9473,  18.6166,  14.5716],\n",
            "        [125.4048, 306.8695,  22.9149,  15.2710],\n",
            "        [ 92.7958, 308.4692,  22.1593,  14.2649],\n",
            "        [ 38.6015, 226.7176,  18.9570,  16.5940]], device='cuda:0')\n",
            "xywhn: tensor([[0.0432, 0.7891, 0.0317, 0.0473],\n",
            "        [0.3681, 0.2962, 0.7075, 0.5548],\n",
            "        [0.2447, 0.5989, 0.0300, 0.0377],\n",
            "        [0.0899, 0.7862, 0.0326, 0.0472],\n",
            "        [0.1147, 0.6612, 0.0285, 0.0360],\n",
            "        [0.7994, 0.3353, 0.3545, 0.6016],\n",
            "        [0.1435, 0.7852, 0.0325, 0.0468],\n",
            "        [0.2536, 0.7787, 0.0312, 0.0447],\n",
            "        [0.1953, 0.7822, 0.0312, 0.0439],\n",
            "        [0.0896, 0.7862, 0.0330, 0.0477],\n",
            "        [0.1946, 0.5688, 0.0301, 0.0405],\n",
            "        [0.2477, 0.6782, 0.0286, 0.0394],\n",
            "        [0.1929, 0.8294, 0.0353, 0.0413],\n",
            "        [0.1428, 0.8337, 0.0341, 0.0386],\n",
            "        [0.0594, 0.6128, 0.0292, 0.0448]], device='cuda:0')\n",
            "xyxy: tensor([[ 17.7640, 283.1977,  38.3677, 300.7092],\n",
            "        [  9.3516,   6.9512, 469.2291, 212.2427],\n",
            "        [149.3270, 214.6159, 168.8166, 228.5644],\n",
            "        [ 47.8254, 282.1745,  68.9979, 299.6332],\n",
            "        [ 65.2871, 237.9895,  83.7991, 251.3091],\n",
            "        [404.3651,  12.7792, 634.8013, 235.3605],\n",
            "        [ 82.7041, 281.8810, 103.7991, 299.1914],\n",
            "        [154.7183, 279.8629, 174.9925, 296.4024],\n",
            "        [116.8323, 281.3016, 137.0809, 297.5501],\n",
            "        [ 47.5106, 282.0674,  68.9639, 299.7173],\n",
            "        [116.7117, 202.9830, 136.2522, 217.9567],\n",
            "        [151.7085, 243.6615, 170.3251, 258.2331],\n",
            "        [113.9474, 299.2340, 136.8622, 314.5050],\n",
            "        [ 81.7161, 301.3368, 103.8754, 315.6017],\n",
            "        [ 29.1230, 218.4206,  48.0800, 235.0146]], device='cuda:0')\n",
            "xyxyn: tensor([[0.0273, 0.7654, 0.0590, 0.8127],\n",
            "        [0.0144, 0.0188, 0.7219, 0.5736],\n",
            "        [0.2297, 0.5800, 0.2597, 0.6177],\n",
            "        [0.0736, 0.7626, 0.1062, 0.8098],\n",
            "        [0.1004, 0.6432, 0.1289, 0.6792],\n",
            "        [0.6221, 0.0345, 0.9766, 0.6361],\n",
            "        [0.1272, 0.7618, 0.1597, 0.8086],\n",
            "        [0.2380, 0.7564, 0.2692, 0.8011],\n",
            "        [0.1797, 0.7603, 0.2109, 0.8042],\n",
            "        [0.0731, 0.7623, 0.1061, 0.8100],\n",
            "        [0.1796, 0.5486, 0.2096, 0.5891],\n",
            "        [0.2334, 0.6585, 0.2620, 0.6979],\n",
            "        [0.1753, 0.8087, 0.2106, 0.8500],\n",
            "        [0.1257, 0.8144, 0.1598, 0.8530],\n",
            "        [0.0448, 0.5903, 0.0740, 0.6352]], device='cuda:0')\n"
          ]
        }
      ]
    }
  ]
}