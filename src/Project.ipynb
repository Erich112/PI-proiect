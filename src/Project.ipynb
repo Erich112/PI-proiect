{
  "nbformat": 4,
  "nbformat_minor": 0,
  "metadata": {
    "colab": {
      "provenance": [],
      "gpuType": "T4"
    },
    "kernelspec": {
      "name": "python3",
      "display_name": "Python 3"
    },
    "language_info": {
      "name": "python"
    },
    "accelerator": "GPU"
  },
  "cells": [
    {
      "cell_type": "markdown",
      "source": [
        "Initializare model + date"
      ],
      "metadata": {
        "id": "Xm98VKkMH2gc"
      }
    },
    {
      "cell_type": "code",
      "source": [
        "# Install the ultralytics package from PyPI\n",
        "!pip install ultralytics"
      ],
      "metadata": {
        "id": "ZuI95CBC6EXJ",
        "colab": {
          "base_uri": "https://localhost:8080/"
        },
        "outputId": "3602216e-948f-41ac-c556-23b632906bd2"
      },
      "execution_count": 1,
      "outputs": [
        {
          "output_type": "stream",
          "name": "stdout",
          "text": [
            "Collecting ultralytics\n",
            "  Downloading ultralytics-8.0.234-py3-none-any.whl (664 kB)\n",
            "\u001b[?25l     \u001b[90m━━━━━━━━━━━━━━━━━━━━━━━━━━━━━━━━━━━━━━━━\u001b[0m \u001b[32m0.0/664.3 kB\u001b[0m \u001b[31m?\u001b[0m eta \u001b[36m-:--:--\u001b[0m\r\u001b[2K     \u001b[91m━━━\u001b[0m\u001b[91m╸\u001b[0m\u001b[90m━━━━━━━━━━━━━━━━━━━━━━━━━━━━━━━━━━━━\u001b[0m \u001b[32m61.4/664.3 kB\u001b[0m \u001b[31m1.6 MB/s\u001b[0m eta \u001b[36m0:00:01\u001b[0m\r\u001b[2K     \u001b[91m━━━━━━━━━━━━━━━━━━━━━━━━━━━━━━━━━━━━━━━\u001b[0m\u001b[90m╺\u001b[0m \u001b[32m655.4/664.3 kB\u001b[0m \u001b[31m11.1 MB/s\u001b[0m eta \u001b[36m0:00:01\u001b[0m\r\u001b[2K     \u001b[90m━━━━━━━━━━━━━━━━━━━━━━━━━━━━━━━━━━━━━━━━\u001b[0m \u001b[32m664.3/664.3 kB\u001b[0m \u001b[31m9.0 MB/s\u001b[0m eta \u001b[36m0:00:00\u001b[0m\n",
            "\u001b[?25hRequirement already satisfied: matplotlib>=3.3.0 in /usr/local/lib/python3.10/dist-packages (from ultralytics) (3.7.1)\n",
            "Requirement already satisfied: numpy>=1.22.2 in /usr/local/lib/python3.10/dist-packages (from ultralytics) (1.23.5)\n",
            "Requirement already satisfied: opencv-python>=4.6.0 in /usr/local/lib/python3.10/dist-packages (from ultralytics) (4.8.0.76)\n",
            "Requirement already satisfied: pillow>=7.1.2 in /usr/local/lib/python3.10/dist-packages (from ultralytics) (9.4.0)\n",
            "Requirement already satisfied: pyyaml>=5.3.1 in /usr/local/lib/python3.10/dist-packages (from ultralytics) (6.0.1)\n",
            "Requirement already satisfied: requests>=2.23.0 in /usr/local/lib/python3.10/dist-packages (from ultralytics) (2.31.0)\n",
            "Requirement already satisfied: scipy>=1.4.1 in /usr/local/lib/python3.10/dist-packages (from ultralytics) (1.11.4)\n",
            "Requirement already satisfied: torch>=1.8.0 in /usr/local/lib/python3.10/dist-packages (from ultralytics) (2.1.0+cu121)\n",
            "Requirement already satisfied: torchvision>=0.9.0 in /usr/local/lib/python3.10/dist-packages (from ultralytics) (0.16.0+cu121)\n",
            "Requirement already satisfied: tqdm>=4.64.0 in /usr/local/lib/python3.10/dist-packages (from ultralytics) (4.66.1)\n",
            "Requirement already satisfied: psutil in /usr/local/lib/python3.10/dist-packages (from ultralytics) (5.9.5)\n",
            "Requirement already satisfied: py-cpuinfo in /usr/local/lib/python3.10/dist-packages (from ultralytics) (9.0.0)\n",
            "Collecting thop>=0.1.1 (from ultralytics)\n",
            "  Downloading thop-0.1.1.post2209072238-py3-none-any.whl (15 kB)\n",
            "Requirement already satisfied: pandas>=1.1.4 in /usr/local/lib/python3.10/dist-packages (from ultralytics) (1.5.3)\n",
            "Requirement already satisfied: seaborn>=0.11.0 in /usr/local/lib/python3.10/dist-packages (from ultralytics) (0.12.2)\n",
            "Requirement already satisfied: contourpy>=1.0.1 in /usr/local/lib/python3.10/dist-packages (from matplotlib>=3.3.0->ultralytics) (1.2.0)\n",
            "Requirement already satisfied: cycler>=0.10 in /usr/local/lib/python3.10/dist-packages (from matplotlib>=3.3.0->ultralytics) (0.12.1)\n",
            "Requirement already satisfied: fonttools>=4.22.0 in /usr/local/lib/python3.10/dist-packages (from matplotlib>=3.3.0->ultralytics) (4.47.0)\n",
            "Requirement already satisfied: kiwisolver>=1.0.1 in /usr/local/lib/python3.10/dist-packages (from matplotlib>=3.3.0->ultralytics) (1.4.5)\n",
            "Requirement already satisfied: packaging>=20.0 in /usr/local/lib/python3.10/dist-packages (from matplotlib>=3.3.0->ultralytics) (23.2)\n",
            "Requirement already satisfied: pyparsing>=2.3.1 in /usr/local/lib/python3.10/dist-packages (from matplotlib>=3.3.0->ultralytics) (3.1.1)\n",
            "Requirement already satisfied: python-dateutil>=2.7 in /usr/local/lib/python3.10/dist-packages (from matplotlib>=3.3.0->ultralytics) (2.8.2)\n",
            "Requirement already satisfied: pytz>=2020.1 in /usr/local/lib/python3.10/dist-packages (from pandas>=1.1.4->ultralytics) (2023.3.post1)\n",
            "Requirement already satisfied: charset-normalizer<4,>=2 in /usr/local/lib/python3.10/dist-packages (from requests>=2.23.0->ultralytics) (3.3.2)\n",
            "Requirement already satisfied: idna<4,>=2.5 in /usr/local/lib/python3.10/dist-packages (from requests>=2.23.0->ultralytics) (3.6)\n",
            "Requirement already satisfied: urllib3<3,>=1.21.1 in /usr/local/lib/python3.10/dist-packages (from requests>=2.23.0->ultralytics) (2.0.7)\n",
            "Requirement already satisfied: certifi>=2017.4.17 in /usr/local/lib/python3.10/dist-packages (from requests>=2.23.0->ultralytics) (2023.11.17)\n",
            "Requirement already satisfied: filelock in /usr/local/lib/python3.10/dist-packages (from torch>=1.8.0->ultralytics) (3.13.1)\n",
            "Requirement already satisfied: typing-extensions in /usr/local/lib/python3.10/dist-packages (from torch>=1.8.0->ultralytics) (4.5.0)\n",
            "Requirement already satisfied: sympy in /usr/local/lib/python3.10/dist-packages (from torch>=1.8.0->ultralytics) (1.12)\n",
            "Requirement already satisfied: networkx in /usr/local/lib/python3.10/dist-packages (from torch>=1.8.0->ultralytics) (3.2.1)\n",
            "Requirement already satisfied: jinja2 in /usr/local/lib/python3.10/dist-packages (from torch>=1.8.0->ultralytics) (3.1.2)\n",
            "Requirement already satisfied: fsspec in /usr/local/lib/python3.10/dist-packages (from torch>=1.8.0->ultralytics) (2023.6.0)\n",
            "Requirement already satisfied: triton==2.1.0 in /usr/local/lib/python3.10/dist-packages (from torch>=1.8.0->ultralytics) (2.1.0)\n",
            "Requirement already satisfied: six>=1.5 in /usr/local/lib/python3.10/dist-packages (from python-dateutil>=2.7->matplotlib>=3.3.0->ultralytics) (1.16.0)\n",
            "Requirement already satisfied: MarkupSafe>=2.0 in /usr/local/lib/python3.10/dist-packages (from jinja2->torch>=1.8.0->ultralytics) (2.1.3)\n",
            "Requirement already satisfied: mpmath>=0.19 in /usr/local/lib/python3.10/dist-packages (from sympy->torch>=1.8.0->ultralytics) (1.3.0)\n",
            "Installing collected packages: thop, ultralytics\n",
            "Successfully installed thop-0.1.1.post2209072238 ultralytics-8.0.234\n"
          ]
        }
      ]
    },
    {
      "cell_type": "code",
      "source": [
        "from google.colab import drive\n",
        "drive.mount('/content/drive')\n",
        "detZar = '/content/drive/My Drive/IMG-20231117-WA0000.jpg'\n",
        "detMob = '/content/drive/My Drive/index-luxuryfurniture-1659361945.png'\n",
        "detMark = '/content/drive/My Drive/20231205_191020.jpg'\n",
        "detFin = '/content/drive/My Drive/testfin.png'"
      ],
      "metadata": {
        "id": "D01YpYzGIEHS",
        "colab": {
          "base_uri": "https://localhost:8080/"
        },
        "outputId": "7ebc89e6-4f80-40c9-c2c7-5fd551b9cb91"
      },
      "execution_count": 2,
      "outputs": [
        {
          "output_type": "stream",
          "name": "stdout",
          "text": [
            "Mounted at /content/drive\n"
          ]
        }
      ]
    },
    {
      "cell_type": "code",
      "execution_count": 3,
      "metadata": {
        "id": "L6KGN3zw5iy-"
      },
      "outputs": [],
      "source": [
        "project = '/content/drive/My Drive/dataset-custom-1/'"
      ]
    },
    {
      "cell_type": "code",
      "source": [
        "from ultralytics import YOLO\n",
        "\n",
        "# Load a COCO-pretrained YOLOv8n model\n",
        "model = YOLO('yolov8n.pt')"
      ],
      "metadata": {
        "id": "QSxlXclB6dus",
        "colab": {
          "base_uri": "https://localhost:8080/"
        },
        "outputId": "0e312a6b-40b6-4680-8758-52869cff0226"
      },
      "execution_count": 4,
      "outputs": [
        {
          "output_type": "stream",
          "name": "stdout",
          "text": [
            "Downloading https://github.com/ultralytics/assets/releases/download/v0.0.0/yolov8n.pt to 'yolov8n.pt'...\n"
          ]
        },
        {
          "output_type": "stream",
          "name": "stderr",
          "text": [
            "100%|██████████| 6.23M/6.23M [00:00<00:00, 210MB/s]\n"
          ]
        }
      ]
    },
    {
      "cell_type": "code",
      "source": [
        "# Train the model on the COCO8 example dataset for 20 epochs\n",
        "results = model.train(data='/content/drive/My Drive/dataset-custom-1/data.yaml', epochs=20, imgsz=1024)"
      ],
      "metadata": {
        "id": "aVsMPfz26Lq2",
        "colab": {
          "base_uri": "https://localhost:8080/"
        },
        "outputId": "33db8edb-a1cf-4922-bacb-d71717e1b147"
      },
      "execution_count": 5,
      "outputs": [
        {
          "output_type": "stream",
          "name": "stdout",
          "text": [
            "Ultralytics YOLOv8.0.234 🚀 Python-3.10.12 torch-2.1.0+cu121 CUDA:0 (Tesla T4, 15102MiB)\n",
            "\u001b[34m\u001b[1mengine/trainer: \u001b[0mtask=detect, mode=train, model=yolov8n.pt, data=/content/drive/My Drive/dataset-custom-1/data.yaml, epochs=20, time=None, patience=50, batch=16, imgsz=1024, save=True, save_period=-1, cache=False, device=None, workers=8, project=None, name=train, exist_ok=False, pretrained=True, optimizer=auto, verbose=True, seed=0, deterministic=True, single_cls=False, rect=False, cos_lr=False, close_mosaic=10, resume=False, amp=True, fraction=1.0, profile=False, freeze=None, overlap_mask=True, mask_ratio=4, dropout=0.0, val=True, split=val, save_json=False, save_hybrid=False, conf=None, iou=0.7, max_det=300, half=False, dnn=False, plots=True, source=None, vid_stride=1, stream_buffer=False, visualize=False, augment=False, agnostic_nms=False, classes=None, retina_masks=False, embed=None, show=False, save_frames=False, save_txt=False, save_conf=False, save_crop=False, show_labels=True, show_conf=True, show_boxes=True, line_width=None, format=torchscript, keras=False, optimize=False, int8=False, dynamic=False, simplify=False, opset=None, workspace=4, nms=False, lr0=0.01, lrf=0.01, momentum=0.937, weight_decay=0.0005, warmup_epochs=3.0, warmup_momentum=0.8, warmup_bias_lr=0.1, box=7.5, cls=0.5, dfl=1.5, pose=12.0, kobj=1.0, label_smoothing=0.0, nbs=64, hsv_h=0.015, hsv_s=0.7, hsv_v=0.4, degrees=0.0, translate=0.1, scale=0.5, shear=0.0, perspective=0.0, flipud=0.0, fliplr=0.5, mosaic=1.0, mixup=0.0, copy_paste=0.0, auto_augment=randaugment, erasing=0.4, crop_fraction=1.0, cfg=None, tracker=botsort.yaml, save_dir=runs/detect/train\n",
            "Downloading https://ultralytics.com/assets/Arial.ttf to '/root/.config/Ultralytics/Arial.ttf'...\n"
          ]
        },
        {
          "output_type": "stream",
          "name": "stderr",
          "text": [
            "100%|██████████| 755k/755k [00:00<00:00, 114MB/s]\n"
          ]
        },
        {
          "output_type": "stream",
          "name": "stdout",
          "text": [
            "Overriding model.yaml nc=80 with nc=38\n",
            "\n",
            "                   from  n    params  module                                       arguments                     \n",
            "  0                  -1  1       464  ultralytics.nn.modules.conv.Conv             [3, 16, 3, 2]                 \n",
            "  1                  -1  1      4672  ultralytics.nn.modules.conv.Conv             [16, 32, 3, 2]                \n",
            "  2                  -1  1      7360  ultralytics.nn.modules.block.C2f             [32, 32, 1, True]             \n",
            "  3                  -1  1     18560  ultralytics.nn.modules.conv.Conv             [32, 64, 3, 2]                \n",
            "  4                  -1  2     49664  ultralytics.nn.modules.block.C2f             [64, 64, 2, True]             \n",
            "  5                  -1  1     73984  ultralytics.nn.modules.conv.Conv             [64, 128, 3, 2]               \n",
            "  6                  -1  2    197632  ultralytics.nn.modules.block.C2f             [128, 128, 2, True]           \n",
            "  7                  -1  1    295424  ultralytics.nn.modules.conv.Conv             [128, 256, 3, 2]              \n",
            "  8                  -1  1    460288  ultralytics.nn.modules.block.C2f             [256, 256, 1, True]           \n",
            "  9                  -1  1    164608  ultralytics.nn.modules.block.SPPF            [256, 256, 5]                 \n",
            " 10                  -1  1         0  torch.nn.modules.upsampling.Upsample         [None, 2, 'nearest']          \n",
            " 11             [-1, 6]  1         0  ultralytics.nn.modules.conv.Concat           [1]                           \n",
            " 12                  -1  1    148224  ultralytics.nn.modules.block.C2f             [384, 128, 1]                 \n",
            " 13                  -1  1         0  torch.nn.modules.upsampling.Upsample         [None, 2, 'nearest']          \n",
            " 14             [-1, 4]  1         0  ultralytics.nn.modules.conv.Concat           [1]                           \n",
            " 15                  -1  1     37248  ultralytics.nn.modules.block.C2f             [192, 64, 1]                  \n",
            " 16                  -1  1     36992  ultralytics.nn.modules.conv.Conv             [64, 64, 3, 2]                \n",
            " 17            [-1, 12]  1         0  ultralytics.nn.modules.conv.Concat           [1]                           \n",
            " 18                  -1  1    123648  ultralytics.nn.modules.block.C2f             [192, 128, 1]                 \n",
            " 19                  -1  1    147712  ultralytics.nn.modules.conv.Conv             [128, 128, 3, 2]              \n",
            " 20             [-1, 9]  1         0  ultralytics.nn.modules.conv.Concat           [1]                           \n",
            " 21                  -1  1    493056  ultralytics.nn.modules.block.C2f             [384, 256, 1]                 \n",
            " 22        [15, 18, 21]  1    758722  ultralytics.nn.modules.head.Detect           [38, [64, 128, 256]]          \n",
            "Model summary: 225 layers, 3018258 parameters, 3018242 gradients, 8.2 GFLOPs\n",
            "\n",
            "Transferred 319/355 items from pretrained weights\n",
            "\u001b[34m\u001b[1mTensorBoard: \u001b[0mStart with 'tensorboard --logdir runs/detect/train', view at http://localhost:6006/\n",
            "Freezing layer 'model.22.dfl.conv.weight'\n",
            "\u001b[34m\u001b[1mAMP: \u001b[0mrunning Automatic Mixed Precision (AMP) checks with YOLOv8n...\n",
            "WARNING ⚠️ NMS time limit 0.550s exceeded\n",
            "\u001b[34m\u001b[1mAMP: \u001b[0mchecks passed ✅\n"
          ]
        },
        {
          "output_type": "stream",
          "name": "stderr",
          "text": [
            "\u001b[34m\u001b[1mtrain: \u001b[0mScanning /content/drive/My Drive/dataset-custom-1/train/labels.cache... 1758 images, 0 backgrounds, 0 corrupt: 100%|██████████| 1758/1758 [00:00<?, ?it/s]\n"
          ]
        },
        {
          "output_type": "stream",
          "name": "stdout",
          "text": [
            "\u001b[34m\u001b[1malbumentations: \u001b[0mBlur(p=0.01, blur_limit=(3, 7)), MedianBlur(p=0.01, blur_limit=(3, 7)), ToGray(p=0.01), CLAHE(p=0.01, clip_limit=(1, 4.0), tile_grid_size=(8, 8))\n"
          ]
        },
        {
          "output_type": "stream",
          "name": "stderr",
          "text": [
            "\u001b[34m\u001b[1mval: \u001b[0mScanning /content/drive/My Drive/dataset-custom-1/valid/labels.cache... 263 images, 0 backgrounds, 0 corrupt: 100%|██████████| 263/263 [00:00<?, ?it/s]\n"
          ]
        },
        {
          "output_type": "stream",
          "name": "stdout",
          "text": [
            "Plotting labels to runs/detect/train/labels.jpg... \n",
            "\u001b[34m\u001b[1moptimizer:\u001b[0m 'optimizer=auto' found, ignoring 'lr0=0.01' and 'momentum=0.937' and determining best 'optimizer', 'lr0' and 'momentum' automatically... \n",
            "\u001b[34m\u001b[1moptimizer:\u001b[0m AdamW(lr=0.000238, momentum=0.9) with parameter groups 57 weight(decay=0.0), 64 weight(decay=0.0005), 63 bias(decay=0.0)\n",
            "20 epochs...\n",
            "\n",
            "      Epoch    GPU_mem   box_loss   cls_loss   dfl_loss  Instances       Size\n"
          ]
        },
        {
          "output_type": "stream",
          "name": "stderr",
          "text": [
            "       1/20      7.38G       1.17      4.122      1.174        290       1024: 100%|██████████| 110/110 [13:27<00:00,  7.34s/it]\n",
            "                 Class     Images  Instances      Box(P          R      mAP50  mAP50-95): 100%|██████████| 9/9 [00:09<00:00,  1.01s/it]"
          ]
        },
        {
          "output_type": "stream",
          "name": "stdout",
          "text": [
            "                   all        263       1156     0.0593      0.555     0.0761     0.0379\n"
          ]
        },
        {
          "output_type": "stream",
          "name": "stderr",
          "text": [
            "\n"
          ]
        },
        {
          "output_type": "stream",
          "name": "stdout",
          "text": [
            "\n",
            "      Epoch    GPU_mem   box_loss   cls_loss   dfl_loss  Instances       Size\n"
          ]
        },
        {
          "output_type": "stream",
          "name": "stderr",
          "text": [
            "       2/20      7.13G     0.8645      2.706      1.034        328       1024: 100%|██████████| 110/110 [01:52<00:00,  1.02s/it]\n",
            "                 Class     Images  Instances      Box(P          R      mAP50  mAP50-95): 100%|██████████| 9/9 [00:08<00:00,  1.04it/s]\n"
          ]
        },
        {
          "output_type": "stream",
          "name": "stdout",
          "text": [
            "                   all        263       1156      0.438      0.245      0.197     0.0943\n",
            "\n",
            "      Epoch    GPU_mem   box_loss   cls_loss   dfl_loss  Instances       Size\n"
          ]
        },
        {
          "output_type": "stream",
          "name": "stderr",
          "text": [
            "       3/20      8.87G     0.8247      1.993      1.035        454       1024: 100%|██████████| 110/110 [01:52<00:00,  1.02s/it]\n",
            "                 Class     Images  Instances      Box(P          R      mAP50  mAP50-95): 100%|██████████| 9/9 [00:06<00:00,  1.31it/s]\n"
          ]
        },
        {
          "output_type": "stream",
          "name": "stdout",
          "text": [
            "                   all        263       1156      0.294      0.397      0.278      0.145\n",
            "\n",
            "      Epoch    GPU_mem   box_loss   cls_loss   dfl_loss  Instances       Size\n"
          ]
        },
        {
          "output_type": "stream",
          "name": "stderr",
          "text": [
            "       4/20      7.63G     0.8056      1.614      1.016        205       1024: 100%|██████████| 110/110 [01:51<00:00,  1.02s/it]\n",
            "                 Class     Images  Instances      Box(P          R      mAP50  mAP50-95): 100%|██████████| 9/9 [00:09<00:00,  1.04s/it]\n"
          ]
        },
        {
          "output_type": "stream",
          "name": "stdout",
          "text": [
            "                   all        263       1156      0.326       0.41      0.348      0.185\n",
            "\n",
            "      Epoch    GPU_mem   box_loss   cls_loss   dfl_loss  Instances       Size\n"
          ]
        },
        {
          "output_type": "stream",
          "name": "stderr",
          "text": [
            "       5/20      8.64G     0.7798      1.379       1.01        290       1024: 100%|██████████| 110/110 [01:51<00:00,  1.01s/it]\n",
            "                 Class     Images  Instances      Box(P          R      mAP50  mAP50-95): 100%|██████████| 9/9 [00:08<00:00,  1.11it/s]\n"
          ]
        },
        {
          "output_type": "stream",
          "name": "stdout",
          "text": [
            "                   all        263       1156      0.407      0.451      0.436      0.231\n",
            "\n",
            "      Epoch    GPU_mem   box_loss   cls_loss   dfl_loss  Instances       Size\n"
          ]
        },
        {
          "output_type": "stream",
          "name": "stderr",
          "text": [
            "       6/20      7.37G     0.7612       1.23     0.9989        251       1024: 100%|██████████| 110/110 [01:52<00:00,  1.02s/it]\n",
            "                 Class     Images  Instances      Box(P          R      mAP50  mAP50-95): 100%|██████████| 9/9 [00:07<00:00,  1.17it/s]\n"
          ]
        },
        {
          "output_type": "stream",
          "name": "stdout",
          "text": [
            "                   all        263       1156       0.51      0.497      0.511      0.272\n",
            "\n",
            "      Epoch    GPU_mem   box_loss   cls_loss   dfl_loss  Instances       Size\n"
          ]
        },
        {
          "output_type": "stream",
          "name": "stderr",
          "text": [
            "       7/20      7.22G     0.7454      1.108     0.9797        415       1024: 100%|██████████| 110/110 [01:52<00:00,  1.02s/it]\n",
            "                 Class     Images  Instances      Box(P          R      mAP50  mAP50-95): 100%|██████████| 9/9 [00:09<00:00,  1.09s/it]\n"
          ]
        },
        {
          "output_type": "stream",
          "name": "stdout",
          "text": [
            "                   all        263       1156      0.518      0.482      0.482      0.263\n",
            "\n",
            "      Epoch    GPU_mem   box_loss   cls_loss   dfl_loss  Instances       Size\n"
          ]
        },
        {
          "output_type": "stream",
          "name": "stderr",
          "text": [
            "       8/20      7.18G      0.738      1.028     0.9804        266       1024: 100%|██████████| 110/110 [01:53<00:00,  1.03s/it]\n",
            "                 Class     Images  Instances      Box(P          R      mAP50  mAP50-95): 100%|██████████| 9/9 [00:07<00:00,  1.21it/s]\n"
          ]
        },
        {
          "output_type": "stream",
          "name": "stdout",
          "text": [
            "                   all        263       1156      0.582      0.469      0.535      0.276\n",
            "\n",
            "      Epoch    GPU_mem   box_loss   cls_loss   dfl_loss  Instances       Size\n"
          ]
        },
        {
          "output_type": "stream",
          "name": "stderr",
          "text": [
            "       9/20      7.44G     0.7384     0.9683     0.9748        350       1024: 100%|██████████| 110/110 [01:53<00:00,  1.03s/it]\n",
            "                 Class     Images  Instances      Box(P          R      mAP50  mAP50-95): 100%|██████████| 9/9 [00:08<00:00,  1.03it/s]"
          ]
        },
        {
          "output_type": "stream",
          "name": "stdout",
          "text": [
            "                   all        263       1156      0.532      0.497      0.523      0.283\n"
          ]
        },
        {
          "output_type": "stream",
          "name": "stderr",
          "text": [
            "\n"
          ]
        },
        {
          "output_type": "stream",
          "name": "stdout",
          "text": [
            "\n",
            "      Epoch    GPU_mem   box_loss   cls_loss   dfl_loss  Instances       Size\n"
          ]
        },
        {
          "output_type": "stream",
          "name": "stderr",
          "text": [
            "      10/20      7.82G     0.7235     0.9298     0.9673        149       1024: 100%|██████████| 110/110 [01:53<00:00,  1.03s/it]\n",
            "                 Class     Images  Instances      Box(P          R      mAP50  mAP50-95): 100%|██████████| 9/9 [00:08<00:00,  1.11it/s]\n"
          ]
        },
        {
          "output_type": "stream",
          "name": "stdout",
          "text": [
            "                   all        263       1156      0.602      0.565       0.61      0.333\n",
            "Closing dataloader mosaic\n",
            "\u001b[34m\u001b[1malbumentations: \u001b[0mBlur(p=0.01, blur_limit=(3, 7)), MedianBlur(p=0.01, blur_limit=(3, 7)), ToGray(p=0.01), CLAHE(p=0.01, clip_limit=(1, 4.0), tile_grid_size=(8, 8))\n",
            "\n",
            "      Epoch    GPU_mem   box_loss   cls_loss   dfl_loss  Instances       Size\n"
          ]
        },
        {
          "output_type": "stream",
          "name": "stderr",
          "text": [
            "      11/20      6.16G     0.7084     0.8141     0.9633        176       1024: 100%|██████████| 110/110 [01:52<00:00,  1.02s/it]\n",
            "                 Class     Images  Instances      Box(P          R      mAP50  mAP50-95): 100%|██████████| 9/9 [00:06<00:00,  1.37it/s]\n"
          ]
        },
        {
          "output_type": "stream",
          "name": "stdout",
          "text": [
            "                   all        263       1156      0.596      0.592       0.62      0.345\n",
            "\n",
            "      Epoch    GPU_mem   box_loss   cls_loss   dfl_loss  Instances       Size\n"
          ]
        },
        {
          "output_type": "stream",
          "name": "stderr",
          "text": [
            "      12/20      5.49G     0.6939     0.7579     0.9566        261       1024: 100%|██████████| 110/110 [01:44<00:00,  1.05it/s]\n",
            "                 Class     Images  Instances      Box(P          R      mAP50  mAP50-95): 100%|██████████| 9/9 [00:06<00:00,  1.29it/s]\n"
          ]
        },
        {
          "output_type": "stream",
          "name": "stdout",
          "text": [
            "                   all        263       1156      0.617      0.575      0.628      0.353\n",
            "\n",
            "      Epoch    GPU_mem   box_loss   cls_loss   dfl_loss  Instances       Size\n"
          ]
        },
        {
          "output_type": "stream",
          "name": "stderr",
          "text": [
            "      13/20      5.51G     0.6848      0.731     0.9483        170       1024: 100%|██████████| 110/110 [01:43<00:00,  1.06it/s]\n",
            "                 Class     Images  Instances      Box(P          R      mAP50  mAP50-95): 100%|██████████| 9/9 [00:07<00:00,  1.24it/s]\n"
          ]
        },
        {
          "output_type": "stream",
          "name": "stdout",
          "text": [
            "                   all        263       1156      0.617      0.567      0.604      0.332\n",
            "\n",
            "      Epoch    GPU_mem   box_loss   cls_loss   dfl_loss  Instances       Size\n"
          ]
        },
        {
          "output_type": "stream",
          "name": "stderr",
          "text": [
            "      14/20      5.51G     0.6796     0.6971     0.9398        221       1024: 100%|██████████| 110/110 [01:44<00:00,  1.05it/s]\n",
            "                 Class     Images  Instances      Box(P          R      mAP50  mAP50-95): 100%|██████████| 9/9 [00:08<00:00,  1.03it/s]\n"
          ]
        },
        {
          "output_type": "stream",
          "name": "stdout",
          "text": [
            "                   all        263       1156      0.651      0.567       0.62      0.342\n",
            "\n",
            "      Epoch    GPU_mem   box_loss   cls_loss   dfl_loss  Instances       Size\n"
          ]
        },
        {
          "output_type": "stream",
          "name": "stderr",
          "text": [
            "      15/20      5.56G     0.6674     0.6785     0.9354        221       1024: 100%|██████████| 110/110 [01:44<00:00,  1.05it/s]\n",
            "                 Class     Images  Instances      Box(P          R      mAP50  mAP50-95): 100%|██████████| 9/9 [00:09<00:00,  1.00s/it]\n"
          ]
        },
        {
          "output_type": "stream",
          "name": "stdout",
          "text": [
            "                   all        263       1156      0.704       0.56      0.638      0.369\n",
            "\n",
            "      Epoch    GPU_mem   box_loss   cls_loss   dfl_loss  Instances       Size\n"
          ]
        },
        {
          "output_type": "stream",
          "name": "stderr",
          "text": [
            "      16/20      5.51G     0.6582     0.6651     0.9285        236       1024: 100%|██████████| 110/110 [01:43<00:00,  1.06it/s]\n",
            "                 Class     Images  Instances      Box(P          R      mAP50  mAP50-95): 100%|██████████| 9/9 [00:09<00:00,  1.09s/it]\n"
          ]
        },
        {
          "output_type": "stream",
          "name": "stdout",
          "text": [
            "                   all        263       1156      0.696      0.593      0.647       0.38\n",
            "\n",
            "      Epoch    GPU_mem   box_loss   cls_loss   dfl_loss  Instances       Size\n"
          ]
        },
        {
          "output_type": "stream",
          "name": "stderr",
          "text": [
            "      17/20      5.51G     0.6558     0.6615     0.9269        214       1024: 100%|██████████| 110/110 [01:42<00:00,  1.07it/s]\n",
            "                 Class     Images  Instances      Box(P          R      mAP50  mAP50-95): 100%|██████████| 9/9 [00:08<00:00,  1.07it/s]"
          ]
        },
        {
          "output_type": "stream",
          "name": "stdout",
          "text": [
            "                   all        263       1156      0.654      0.623      0.669      0.377\n"
          ]
        },
        {
          "output_type": "stream",
          "name": "stderr",
          "text": [
            "\n"
          ]
        },
        {
          "output_type": "stream",
          "name": "stdout",
          "text": [
            "\n",
            "      Epoch    GPU_mem   box_loss   cls_loss   dfl_loss  Instances       Size\n"
          ]
        },
        {
          "output_type": "stream",
          "name": "stderr",
          "text": [
            "      18/20      5.51G     0.6481     0.6499     0.9205        228       1024: 100%|██████████| 110/110 [01:43<00:00,  1.06it/s]\n",
            "                 Class     Images  Instances      Box(P          R      mAP50  mAP50-95): 100%|██████████| 9/9 [00:07<00:00,  1.15it/s]\n"
          ]
        },
        {
          "output_type": "stream",
          "name": "stdout",
          "text": [
            "                   all        263       1156      0.651      0.653      0.667      0.384\n",
            "\n",
            "      Epoch    GPU_mem   box_loss   cls_loss   dfl_loss  Instances       Size\n"
          ]
        },
        {
          "output_type": "stream",
          "name": "stderr",
          "text": [
            "      19/20      5.79G     0.6409     0.6406     0.9183        154       1024: 100%|██████████| 110/110 [01:44<00:00,  1.05it/s]\n",
            "                 Class     Images  Instances      Box(P          R      mAP50  mAP50-95): 100%|██████████| 9/9 [00:06<00:00,  1.39it/s]\n"
          ]
        },
        {
          "output_type": "stream",
          "name": "stdout",
          "text": [
            "                   all        263       1156      0.652       0.63       0.66      0.385\n",
            "\n",
            "      Epoch    GPU_mem   box_loss   cls_loss   dfl_loss  Instances       Size\n"
          ]
        },
        {
          "output_type": "stream",
          "name": "stderr",
          "text": [
            "      20/20      5.51G     0.6349     0.6249     0.9116        257       1024: 100%|██████████| 110/110 [01:44<00:00,  1.05it/s]\n",
            "                 Class     Images  Instances      Box(P          R      mAP50  mAP50-95): 100%|██████████| 9/9 [00:07<00:00,  1.18it/s]\n"
          ]
        },
        {
          "output_type": "stream",
          "name": "stdout",
          "text": [
            "                   all        263       1156       0.71      0.587      0.657       0.38\n",
            "\n",
            "20 epochs completed in 0.854 hours.\n",
            "Optimizer stripped from runs/detect/train/weights/last.pt, 6.3MB\n",
            "Optimizer stripped from runs/detect/train/weights/best.pt, 6.3MB\n",
            "\n",
            "Validating runs/detect/train/weights/best.pt...\n",
            "Ultralytics YOLOv8.0.234 🚀 Python-3.10.12 torch-2.1.0+cu121 CUDA:0 (Tesla T4, 15102MiB)\n",
            "Model summary (fused): 168 layers, 3013058 parameters, 0 gradients, 8.1 GFLOPs\n"
          ]
        },
        {
          "output_type": "stream",
          "name": "stderr",
          "text": [
            "                 Class     Images  Instances      Box(P          R      mAP50  mAP50-95): 100%|██████████| 9/9 [00:13<00:00,  1.46s/it]\n"
          ]
        },
        {
          "output_type": "stream",
          "name": "stdout",
          "text": [
            "                   all        263       1156      0.647      0.631      0.659      0.384\n",
            "                     a        263         74      0.817      0.608      0.762      0.383\n",
            "                     b        263         19      0.853      0.526      0.666        0.4\n",
            "                     c        263         20      0.263        0.8      0.633      0.351\n",
            "                     d        263         21      0.874      0.476      0.725       0.39\n",
            "                     e        263         98      0.955      0.437      0.775      0.426\n",
            "                     f        263         16      0.483       0.25       0.32      0.198\n",
            "                     g        263         28      0.322      0.786      0.486      0.266\n",
            "                     h        263         51      0.919      0.668      0.809      0.475\n",
            "                     i        263         61      0.781      0.821      0.891      0.391\n",
            "                     j        263          5      0.111        0.8      0.417      0.137\n",
            "                     k        263         11      0.623      0.603      0.495      0.302\n",
            "                     l        263         49      0.851      0.633      0.793       0.44\n",
            "                     m        263         10      0.447        0.2      0.249      0.139\n",
            "                     n        263         56      0.706       0.75       0.73       0.41\n",
            "                     o        263         83      0.817      0.867      0.906      0.436\n",
            "                     p        263         16          1      0.345      0.584      0.329\n",
            "                     q        263          7          0          0          0          0\n",
            "                     r        263         50      0.507      0.576      0.601      0.315\n",
            "                     s        263         59      0.533       0.78      0.688      0.327\n",
            "                     t        263         78      0.846      0.707      0.872      0.474\n",
            "                     u        263         36       0.44          1      0.839      0.463\n",
            "                     v        263         17      0.441      0.557      0.494      0.208\n",
            "                     w        263         22      0.808      0.384      0.534      0.325\n",
            "                     x        263         16      0.803      0.688      0.744       0.46\n",
            "                     y        263         36      0.538      0.694      0.661      0.292\n",
            "                     z        263         14      0.239      0.225      0.271      0.196\n",
            "                 black        263         38      0.981          1      0.995      0.851\n",
            "                  blue        263          4      0.835          1      0.995      0.933\n",
            "                  Sofa        263         23      0.815      0.955      0.957       0.65\n",
            "                 Table        263        138      0.797      0.783      0.887      0.558\n",
            "Speed: 0.7ms preprocess, 6.9ms inference, 0.0ms loss, 5.7ms postprocess per image\n",
            "Results saved to \u001b[1mruns/detect/train\u001b[0m\n"
          ]
        }
      ]
    },
    {
      "cell_type": "markdown",
      "source": [
        "1. Detectia unor zaruri"
      ],
      "metadata": {
        "id": "NnBfzw-I0aLD"
      }
    },
    {
      "cell_type": "code",
      "source": [
        "model = YOLO('/content/runs/detect/train/weights/best.pt')\n",
        "# Validate the model"
      ],
      "metadata": {
        "id": "gYtsJwCi7X8Y"
      },
      "execution_count": 6,
      "outputs": []
    },
    {
      "cell_type": "code",
      "source": [
        "# infer on a local image\n",
        "from PIL import Image\n",
        "import cv2\n",
        "results = model(detZar)              # run prediction on img\n",
        "for result in results:\n",
        "    print(result.boxes)\n",
        "    im = cv2.imread(detZar)  # RGB PIL image\n",
        "    im_array = result.plot()  # plot a BGR numpy array of predictions\n",
        "    boxes = result.boxes.cpu().numpy()\n",
        "    xyxys = boxes.xyxy                       # get boxes on cpu in numpy\n",
        "    for xyxy in xyxys:                                          # iterate boxes\n",
        "      cv2.rectangle(im, (int(xyxy[0]), int(xyxy[1])), (int(xyxy[2]), int(xyxy[3])), (0, 255, 0), 2)   # draw boxes on img\n",
        "      cv2.imwrite(\"Zarresults.jpg\",im)"
      ],
      "metadata": {
        "id": "yR0IXyF0CuFm",
        "colab": {
          "base_uri": "https://localhost:8080/"
        },
        "outputId": "ae8290f2-15c7-4755-adfa-25455560106c"
      },
      "execution_count": 7,
      "outputs": [
        {
          "output_type": "stream",
          "name": "stdout",
          "text": [
            "\n",
            "image 1/1 /content/drive/My Drive/IMG-20231117-WA0000.jpg: 1024x768 2 as, 2 es, 1 g, 1 h, 1 i, 1 o, 1 s, 1 t, 1 u, 1 w, 2 ys, 72.3ms\n",
            "Speed: 5.4ms preprocess, 72.3ms inference, 2.4ms postprocess per image at shape (1, 3, 1024, 768)\n",
            "ultralytics.engine.results.Boxes object with attributes:\n",
            "\n",
            "cls: tensor([31.,  9., 24.,  0., 26., 23., 11., 31., 18.,  5.,  8.,  5., 28.,  0.], device='cuda:0')\n",
            "conf: tensor([0.9557, 0.9525, 0.9338, 0.9076, 0.9027, 0.8965, 0.8930, 0.8919, 0.8311, 0.8099, 0.7538, 0.6245, 0.4846, 0.3787], device='cuda:0')\n",
            "data: tensor([[7.2629e+02, 6.1187e+02, 8.3402e+02, 7.1106e+02, 9.5571e-01, 3.1000e+01],\n",
            "        [7.2359e+02, 7.2204e+02, 8.2418e+02, 8.1868e+02, 9.5250e-01, 9.0000e+00],\n",
            "        [6.1826e+02, 8.2603e+02, 7.1654e+02, 9.2335e+02, 9.3381e-01, 2.4000e+01],\n",
            "        [5.0505e+02, 9.3018e+02, 6.0462e+02, 1.0238e+03, 9.0758e-01, 0.0000e+00],\n",
            "        [3.9263e+02, 7.1359e+02, 4.9901e+02, 8.1554e+02, 9.0268e-01, 2.6000e+01],\n",
            "        [3.9438e+02, 8.2305e+02, 4.9875e+02, 9.2165e+02, 8.9650e-01, 2.3000e+01],\n",
            "        [7.2450e+02, 8.2752e+02, 8.1866e+02, 9.2777e+02, 8.9299e-01, 1.1000e+01],\n",
            "        [3.9092e+02, 9.2801e+02, 4.9556e+02, 1.0258e+03, 8.9188e-01, 3.1000e+01],\n",
            "        [3.9485e+02, 6.0251e+02, 5.0322e+02, 7.0506e+02, 8.3111e-01, 1.8000e+01],\n",
            "        [7.1840e+02, 9.3716e+02, 8.1571e+02, 1.0326e+03, 8.0988e-01, 5.0000e+00],\n",
            "        [6.1932e+02, 6.1163e+02, 7.2236e+02, 7.0799e+02, 7.5383e-01, 8.0000e+00],\n",
            "        [5.0492e+02, 8.2375e+02, 6.0775e+02, 9.2186e+02, 6.2450e-01, 5.0000e+00],\n",
            "        [5.0527e+02, 7.1636e+02, 6.0949e+02, 8.1369e+02, 4.8459e-01, 2.8000e+01],\n",
            "        [6.1498e+02, 7.1887e+02, 7.1906e+02, 8.1913e+02, 3.7866e-01, 0.0000e+00]], device='cuda:0')\n",
            "id: None\n",
            "is_track: False\n",
            "orig_shape: (1600, 1200)\n",
            "shape: torch.Size([14, 6])\n",
            "xywh: tensor([[780.1560, 661.4662, 107.7326,  99.1843],\n",
            "        [773.8871, 770.3562, 100.5930,  96.6419],\n",
            "        [667.3992, 874.6870,  98.2748,  97.3186],\n",
            "        [554.8340, 976.9742,  99.5747,  93.5806],\n",
            "        [445.8222, 764.5619, 106.3853, 101.9529],\n",
            "        [446.5627, 872.3503, 104.3729,  98.5941],\n",
            "        [771.5814, 877.6470,  94.1643, 100.2537],\n",
            "        [443.2416, 976.8895, 104.6410,  97.7532],\n",
            "        [449.0391, 653.7822, 108.3715, 102.5480],\n",
            "        [767.0546, 984.8708,  97.3145,  95.4155],\n",
            "        [670.8361, 659.8096, 103.0399,  96.3633],\n",
            "        [556.3378, 872.8075, 102.8259,  98.1144],\n",
            "        [557.3796, 765.0266, 104.2221,  97.3362],\n",
            "        [667.0166, 769.0004, 104.0782, 100.2678]], device='cuda:0')\n",
            "xywhn: tensor([[0.6501, 0.4134, 0.0898, 0.0620],\n",
            "        [0.6449, 0.4815, 0.0838, 0.0604],\n",
            "        [0.5562, 0.5467, 0.0819, 0.0608],\n",
            "        [0.4624, 0.6106, 0.0830, 0.0585],\n",
            "        [0.3715, 0.4779, 0.0887, 0.0637],\n",
            "        [0.3721, 0.5452, 0.0870, 0.0616],\n",
            "        [0.6430, 0.5485, 0.0785, 0.0627],\n",
            "        [0.3694, 0.6106, 0.0872, 0.0611],\n",
            "        [0.3742, 0.4086, 0.0903, 0.0641],\n",
            "        [0.6392, 0.6155, 0.0811, 0.0596],\n",
            "        [0.5590, 0.4124, 0.0859, 0.0602],\n",
            "        [0.4636, 0.5455, 0.0857, 0.0613],\n",
            "        [0.4645, 0.4781, 0.0869, 0.0608],\n",
            "        [0.5558, 0.4806, 0.0867, 0.0627]], device='cuda:0')\n",
            "xyxy: tensor([[ 726.2897,  611.8740,  834.0223,  711.0583],\n",
            "        [ 723.5906,  722.0352,  824.1835,  818.6771],\n",
            "        [ 618.2618,  826.0277,  716.5366,  923.3463],\n",
            "        [ 505.0467,  930.1840,  604.6214, 1023.7646],\n",
            "        [ 392.6296,  713.5854,  499.0149,  815.5383],\n",
            "        [ 394.3763,  823.0533,  498.7492,  921.6473],\n",
            "        [ 724.4992,  827.5202,  818.6635,  927.7739],\n",
            "        [ 390.9211,  928.0129,  495.5621, 1025.7661],\n",
            "        [ 394.8533,  602.5082,  503.2249,  705.0562],\n",
            "        [ 718.3973,  937.1631,  815.7118, 1032.5786],\n",
            "        [ 619.3161,  611.6279,  722.3560,  707.9912],\n",
            "        [ 504.9249,  823.7503,  607.7508,  921.8647],\n",
            "        [ 505.2685,  716.3585,  609.4907,  813.6946],\n",
            "        [ 614.9775,  718.8665,  719.0557,  819.1343]], device='cuda:0')\n",
            "xyxyn: tensor([[0.6052, 0.3824, 0.6950, 0.4444],\n",
            "        [0.6030, 0.4513, 0.6868, 0.5117],\n",
            "        [0.5152, 0.5163, 0.5971, 0.5771],\n",
            "        [0.4209, 0.5814, 0.5039, 0.6399],\n",
            "        [0.3272, 0.4460, 0.4158, 0.5097],\n",
            "        [0.3286, 0.5144, 0.4156, 0.5760],\n",
            "        [0.6037, 0.5172, 0.6822, 0.5799],\n",
            "        [0.3258, 0.5800, 0.4130, 0.6411],\n",
            "        [0.3290, 0.3766, 0.4194, 0.4407],\n",
            "        [0.5987, 0.5857, 0.6798, 0.6454],\n",
            "        [0.5161, 0.3823, 0.6020, 0.4425],\n",
            "        [0.4208, 0.5148, 0.5065, 0.5762],\n",
            "        [0.4211, 0.4477, 0.5079, 0.5086],\n",
            "        [0.5125, 0.4493, 0.5992, 0.5120]], device='cuda:0')\n"
          ]
        }
      ]
    },
    {
      "cell_type": "code",
      "source": [
        "results = model(detMark)              # run prediction on img\n",
        "for result in results:\n",
        "    print(result.boxes)\n",
        "    im = cv2.imread(detMark)  # RGB PIL image\n",
        "    im_array = result.plot()  # plot a BGR numpy array of predictions\n",
        "    boxes = result.boxes.cpu().numpy()\n",
        "    xyxys = boxes.xyxy                       # get boxes on cpu in numpy\n",
        "    for xyxy in xyxys:                                          # iterate boxes\n",
        "      cv2.rectangle(im, (int(xyxy[0]), int(xyxy[1])), (int(xyxy[2]), int(xyxy[3])), (0, 255, 0), 2)   # draw boxes on img\n",
        "      cv2.imwrite(\"Markresults.jpg\",im)"
      ],
      "metadata": {
        "id": "pOZR_GluvlVt",
        "colab": {
          "base_uri": "https://localhost:8080/"
        },
        "outputId": "f08bac1e-6d01-4dd8-83e8-2e369d873de3"
      },
      "execution_count": 8,
      "outputs": [
        {
          "output_type": "stream",
          "name": "stdout",
          "text": [
            "\n",
            "image 1/1 /content/drive/My Drive/20231205_191020.jpg: 768x1024 1 black, 1 blue, 68.4ms\n",
            "Speed: 6.8ms preprocess, 68.4ms inference, 2.1ms postprocess per image at shape (1, 3, 768, 1024)\n",
            "ultralytics.engine.results.Boxes object with attributes:\n",
            "\n",
            "cls: tensor([34., 33.], device='cuda:0')\n",
            "conf: tensor([0.9218, 0.5902], device='cuda:0')\n",
            "data: tensor([[5.4338e+02, 1.4881e+03, 3.4292e+03, 2.5331e+03, 9.2184e-01, 3.4000e+01],\n",
            "        [5.0092e+02, 5.2077e+01, 3.7139e+03, 1.4455e+03, 5.9021e-01, 3.3000e+01]], device='cuda:0')\n",
            "id: None\n",
            "is_track: False\n",
            "orig_shape: (3096, 4128)\n",
            "shape: torch.Size([2, 6])\n",
            "xywh: tensor([[1986.3135, 2010.6082, 2885.8706, 1044.9757],\n",
            "        [2107.4153,  748.7736, 3212.9907, 1393.3926]], device='cuda:0')\n",
            "xywhn: tensor([[0.4812, 0.6494, 0.6991, 0.3375],\n",
            "        [0.5105, 0.2419, 0.7783, 0.4501]], device='cuda:0')\n",
            "xyxy: tensor([[ 543.3782, 1488.1202, 3429.2488, 2533.0959],\n",
            "        [ 500.9198,   52.0773, 3713.9106, 1445.4698]], device='cuda:0')\n",
            "xyxyn: tensor([[0.1316, 0.4807, 0.8307, 0.8182],\n",
            "        [0.1213, 0.0168, 0.8997, 0.4669]], device='cuda:0')\n"
          ]
        }
      ]
    },
    {
      "cell_type": "code",
      "source": [
        "results = model(detMob)              # run prediction on img\n",
        "for result in results:\n",
        "    print(result.boxes)\n",
        "    im = cv2.imread(detMob)  # RGB PIL image\n",
        "    im_array = result.plot()  # plot a BGR numpy array of predictions\n",
        "    boxes = result.boxes.cpu().numpy()\n",
        "    xyxys = boxes.xyxy                       # get boxes on cpu in numpy\n",
        "    for xyxy in xyxys:                                          # iterate boxes\n",
        "      cv2.rectangle(im, (int(xyxy[0]), int(xyxy[1])), (int(xyxy[2]), int(xyxy[3])), (0, 255, 0), 2)   # draw boxes on img\n",
        "      cv2.imwrite(\"Mobresults.jpg\",im)"
      ],
      "metadata": {
        "id": "ycTBpRZgL83t",
        "colab": {
          "base_uri": "https://localhost:8080/"
        },
        "outputId": "bb610b51-8eeb-45cb-eb7e-c0bfa8f8830d"
      },
      "execution_count": 9,
      "outputs": [
        {
          "output_type": "stream",
          "name": "stdout",
          "text": [
            "\n",
            "image 1/1 /content/drive/My Drive/index-luxuryfurniture-1659361945.png: 512x1024 3 Sofas, 66.5ms\n",
            "Speed: 4.5ms preprocess, 66.5ms inference, 2.0ms postprocess per image at shape (1, 3, 512, 1024)\n",
            "ultralytics.engine.results.Boxes object with attributes:\n",
            "\n",
            "cls: tensor([36., 36., 36.], device='cuda:0')\n",
            "conf: tensor([0.7211, 0.4511, 0.2998], device='cuda:0')\n",
            "data: tensor([[7.4453e+01, 3.9535e+02, 2.4082e+03, 1.7468e+03, 7.2108e-01, 3.6000e+01],\n",
            "        [2.8674e+02, 3.8856e+02, 3.0126e+03, 1.8354e+03, 4.5106e-01, 3.6000e+01],\n",
            "        [4.1119e+02, 3.7339e+02, 3.7544e+03, 1.9832e+03, 2.9977e-01, 3.6000e+01]], device='cuda:0')\n",
            "id: None\n",
            "is_track: False\n",
            "orig_shape: (2000, 4000)\n",
            "shape: torch.Size([3, 6])\n",
            "xywh: tensor([[1241.3168, 1071.0807, 2333.7283, 1351.4680],\n",
            "        [1649.6816, 1112.0034, 2725.8745, 1446.8783],\n",
            "        [2082.7817, 1178.2993, 3343.1863, 1609.8171]], device='cuda:0')\n",
            "xywhn: tensor([[0.3103, 0.5355, 0.5834, 0.6757],\n",
            "        [0.4124, 0.5560, 0.6815, 0.7234],\n",
            "        [0.5207, 0.5891, 0.8358, 0.8049]], device='cuda:0')\n",
            "xyxy: tensor([[  74.4526,  395.3467, 2408.1809, 1746.8147],\n",
            "        [ 286.7443,  388.5643, 3012.6189, 1835.4426],\n",
            "        [ 411.1886,  373.3908, 3754.3748, 1983.2079]], device='cuda:0')\n",
            "xyxyn: tensor([[0.0186, 0.1977, 0.6020, 0.8734],\n",
            "        [0.0717, 0.1943, 0.7532, 0.9177],\n",
            "        [0.1028, 0.1867, 0.9386, 0.9916]], device='cuda:0')\n"
          ]
        }
      ]
    },
    {
      "cell_type": "code",
      "source": [
        "results = model(detFin)              # run prediction on img\n",
        "for result in results:\n",
        "    print(result.boxes)\n",
        "    im = cv2.imread(detFin)  # RGB PIL image\n",
        "    im_array = result.plot()  # plot a BGR numpy array of predictions\n",
        "    boxes = result.boxes.cpu().numpy()\n",
        "    xyxys = boxes.xyxy                       # get boxes on cpu in numpy\n",
        "    for xyxy in xyxys:                                          # iterate boxes\n",
        "      cv2.rectangle(im, (int(xyxy[0]), int(xyxy[1])), (int(xyxy[2]), int(xyxy[3])), (0, 255, 0), 2)   # draw boxes on img\n",
        "      cv2.imwrite(\"Finresults.jpg\",im)"
      ],
      "metadata": {
        "id": "_M-at6St_b1Z",
        "colab": {
          "base_uri": "https://localhost:8080/"
        },
        "outputId": "550ba42b-3aa5-45ad-db58-e577aacee7c2"
      },
      "execution_count": 10,
      "outputs": [
        {
          "output_type": "stream",
          "name": "stdout",
          "text": [
            "\n",
            "image 1/1 /content/drive/My Drive/testfin.png: 768x1024 1 c, 4 es, 1 g, 1 l, 2 ns, 2 os, 1 p, 3 rs, 2 ss, 1 v, 1 w, 1 y, 1 black, 1 Sofa, 12.0ms\n",
            "Speed: 4.3ms preprocess, 12.0ms inference, 2.0ms postprocess per image at shape (1, 3, 768, 1024)\n",
            "ultralytics.engine.results.Boxes object with attributes:\n",
            "\n",
            "cls: tensor([ 5.,  3., 28., 18.,  5., 31., 19., 17., 23., 36., 22., 23., 17., 15.,  8., 22., 22.,  5., 33., 18., 27.,  5.], device='cuda:0')\n",
            "conf: tensor([0.9756, 0.9169, 0.9139, 0.9109, 0.9090, 0.9055, 0.8761, 0.8674, 0.8618, 0.8298, 0.7115, 0.6643, 0.6607, 0.6106, 0.5286, 0.5018, 0.4393, 0.3828, 0.3616, 0.3446, 0.2964, 0.2615], device='cuda:0')\n",
            "data: tensor([[1.1945e+02, 4.0747e+02, 1.4638e+02, 4.3080e+02, 9.7558e-01, 5.0000e+00],\n",
            "        [1.3366e+02, 3.5126e+02, 1.5704e+02, 3.6940e+02, 9.1692e-01, 3.0000e+00],\n",
            "        [8.0970e+01, 3.8527e+02, 1.0586e+02, 4.0757e+02, 9.1387e-01, 2.8000e+01],\n",
            "        [1.7818e+02, 3.9305e+02, 2.0512e+02, 4.1575e+02, 9.1095e-01, 1.8000e+01],\n",
            "        [1.5326e+02, 3.2505e+02, 1.7697e+02, 3.4177e+02, 9.0899e-01, 5.0000e+00],\n",
            "        [7.6583e+01, 3.6054e+02, 1.0131e+02, 3.8078e+02, 9.0546e-01, 3.1000e+01],\n",
            "        [1.0527e+02, 3.5459e+02, 1.2828e+02, 3.7447e+02, 8.7613e-01, 1.9000e+01],\n",
            "        [1.6887e+02, 3.6819e+02, 1.9480e+02, 3.8849e+02, 8.6736e-01, 1.7000e+01],\n",
            "        [1.4028e+02, 3.7438e+02, 1.6623e+02, 3.9544e+02, 8.6182e-01, 2.3000e+01],\n",
            "        [2.1806e+02, 1.9358e+02, 6.1199e+02, 3.7826e+02, 8.2976e-01, 3.6000e+01],\n",
            "        [1.2794e+02, 3.3017e+02, 1.4987e+02, 3.4743e+02, 7.1149e-01, 2.2000e+01],\n",
            "        [1.6104e+02, 3.4571e+02, 1.8565e+02, 3.6376e+02, 6.6428e-01, 2.3000e+01],\n",
            "        [1.1154e+02, 3.7948e+02, 1.3679e+02, 4.0119e+02, 6.6072e-01, 1.7000e+01],\n",
            "        [8.7273e+01, 4.1200e+02, 1.1369e+02, 4.3665e+02, 6.1059e-01, 1.5000e+01],\n",
            "        [1.4943e+02, 3.9913e+02, 1.7594e+02, 4.2275e+02, 5.2857e-01, 8.0000e+00],\n",
            "        [7.3161e+01, 3.3967e+02, 9.5972e+01, 3.5715e+02, 5.0180e-01, 2.2000e+01],\n",
            "        [1.0057e+02, 3.3363e+02, 1.2276e+02, 3.5089e+02, 4.3927e-01, 2.2000e+01],\n",
            "        [1.2799e+02, 3.2994e+02, 1.4994e+02, 3.4766e+02, 3.8282e-01, 5.0000e+00],\n",
            "        [2.2519e+02, 3.3819e+02, 4.4220e+02, 4.6500e+02, 3.6159e-01, 3.3000e+01],\n",
            "        [1.3347e+02, 3.5111e+02, 1.5713e+02, 3.6993e+02, 3.4456e-01, 1.8000e+01],\n",
            "        [1.1115e+02, 3.7949e+02, 1.3693e+02, 4.0108e+02, 2.9636e-01, 2.7000e+01],\n",
            "        [1.0087e+02, 3.3369e+02, 1.2290e+02, 3.5075e+02, 2.6153e-01, 5.0000e+00]], device='cuda:0')\n",
            "id: None\n",
            "is_track: False\n",
            "orig_shape: (465, 620)\n",
            "shape: torch.Size([22, 6])\n",
            "xywh: tensor([[132.9158, 419.1344,  26.9361,  23.3279],\n",
            "        [145.3494, 360.3313,  23.3754,  18.1416],\n",
            "        [ 93.4156, 396.4166,  24.8906,  22.2990],\n",
            "        [191.6514, 404.4000,  26.9376,  22.6938],\n",
            "        [165.1180, 333.4129,  23.7138,  16.7217],\n",
            "        [ 88.9445, 370.6603,  24.7234,  20.2344],\n",
            "        [116.7735, 364.5303,  23.0163,  19.8804],\n",
            "        [181.8351, 378.3402,  25.9226,  20.2971],\n",
            "        [153.2530, 384.9099,  25.9450,  21.0692],\n",
            "        [415.0263, 285.9200, 393.9308, 184.6763],\n",
            "        [138.9035, 338.8015,  21.9236,  17.2625],\n",
            "        [173.3453, 354.7319,  24.6113,  18.0468],\n",
            "        [124.1679, 390.3359,  25.2542,  21.7048],\n",
            "        [100.4807, 424.3251,  26.4145,  24.6434],\n",
            "        [162.6870, 410.9378,  26.5099,  23.6201],\n",
            "        [ 84.5663, 348.4073,  22.8107,  17.4839],\n",
            "        [111.6638, 342.2578,  22.1863,  17.2579],\n",
            "        [138.9654, 338.7979,  21.9536,  17.7150],\n",
            "        [333.6992, 401.5949, 217.0085, 126.8102],\n",
            "        [145.3024, 360.5180,  23.6593,  18.8163],\n",
            "        [124.0364, 390.2841,  25.7804,  21.5970],\n",
            "        [111.8887, 342.2189,  22.0302,  17.0578]], device='cuda:0')\n",
            "xywhn: tensor([[0.2144, 0.9014, 0.0434, 0.0502],\n",
            "        [0.2344, 0.7749, 0.0377, 0.0390],\n",
            "        [0.1507, 0.8525, 0.0401, 0.0480],\n",
            "        [0.3091, 0.8697, 0.0434, 0.0488],\n",
            "        [0.2663, 0.7170, 0.0382, 0.0360],\n",
            "        [0.1435, 0.7971, 0.0399, 0.0435],\n",
            "        [0.1883, 0.7839, 0.0371, 0.0428],\n",
            "        [0.2933, 0.8136, 0.0418, 0.0436],\n",
            "        [0.2472, 0.8278, 0.0418, 0.0453],\n",
            "        [0.6694, 0.6149, 0.6354, 0.3972],\n",
            "        [0.2240, 0.7286, 0.0354, 0.0371],\n",
            "        [0.2796, 0.7629, 0.0397, 0.0388],\n",
            "        [0.2003, 0.8394, 0.0407, 0.0467],\n",
            "        [0.1621, 0.9125, 0.0426, 0.0530],\n",
            "        [0.2624, 0.8837, 0.0428, 0.0508],\n",
            "        [0.1364, 0.7493, 0.0368, 0.0376],\n",
            "        [0.1801, 0.7360, 0.0358, 0.0371],\n",
            "        [0.2241, 0.7286, 0.0354, 0.0381],\n",
            "        [0.5382, 0.8636, 0.3500, 0.2727],\n",
            "        [0.2344, 0.7753, 0.0382, 0.0405],\n",
            "        [0.2001, 0.8393, 0.0416, 0.0464],\n",
            "        [0.1805, 0.7360, 0.0355, 0.0367]], device='cuda:0')\n",
            "xyxy: tensor([[119.4478, 407.4704, 146.3839, 430.7983],\n",
            "        [133.6617, 351.2605, 157.0371, 369.4021],\n",
            "        [ 80.9703, 385.2670, 105.8609, 407.5661],\n",
            "        [178.1826, 393.0531, 205.1201, 415.7469],\n",
            "        [153.2611, 325.0520, 176.9750, 341.7737],\n",
            "        [ 76.5827, 360.5431, 101.3062, 380.7775],\n",
            "        [105.2653, 354.5901, 128.2817, 374.4705],\n",
            "        [168.8738, 368.1917, 194.7964, 388.4888],\n",
            "        [140.2805, 374.3752, 166.2254, 395.4445],\n",
            "        [218.0609, 193.5818, 611.9917, 378.2581],\n",
            "        [127.9417, 330.1702, 149.8653, 347.4327],\n",
            "        [161.0396, 345.7085, 185.6509, 363.7553],\n",
            "        [111.5408, 379.4835, 136.7950, 401.1883],\n",
            "        [ 87.2735, 412.0034, 113.6879, 436.6468],\n",
            "        [149.4321, 399.1278, 175.9420, 422.7479],\n",
            "        [ 73.1609, 339.6654,  95.9717, 357.1493],\n",
            "        [100.5707, 333.6288, 122.7569, 350.8867],\n",
            "        [127.9886, 329.9403, 149.9422, 347.6553],\n",
            "        [225.1949, 338.1898, 442.2034, 465.0000],\n",
            "        [133.4727, 351.1098, 157.1320, 369.9261],\n",
            "        [111.1462, 379.4856, 136.9266, 401.0826],\n",
            "        [100.8736, 333.6900, 122.9037, 350.7478]], device='cuda:0')\n",
            "xyxyn: tensor([[0.1927, 0.8763, 0.2361, 0.9264],\n",
            "        [0.2156, 0.7554, 0.2533, 0.7944],\n",
            "        [0.1306, 0.8285, 0.1707, 0.8765],\n",
            "        [0.2874, 0.8453, 0.3308, 0.8941],\n",
            "        [0.2472, 0.6990, 0.2854, 0.7350],\n",
            "        [0.1235, 0.7754, 0.1634, 0.8189],\n",
            "        [0.1698, 0.7626, 0.2069, 0.8053],\n",
            "        [0.2724, 0.7918, 0.3142, 0.8355],\n",
            "        [0.2263, 0.8051, 0.2681, 0.8504],\n",
            "        [0.3517, 0.4163, 0.9871, 0.8135],\n",
            "        [0.2064, 0.7100, 0.2417, 0.7472],\n",
            "        [0.2597, 0.7435, 0.2994, 0.7823],\n",
            "        [0.1799, 0.8161, 0.2206, 0.8628],\n",
            "        [0.1408, 0.8860, 0.1834, 0.9390],\n",
            "        [0.2410, 0.8583, 0.2838, 0.9091],\n",
            "        [0.1180, 0.7305, 0.1548, 0.7681],\n",
            "        [0.1622, 0.7175, 0.1980, 0.7546],\n",
            "        [0.2064, 0.7095, 0.2418, 0.7476],\n",
            "        [0.3632, 0.7273, 0.7132, 1.0000],\n",
            "        [0.2153, 0.7551, 0.2534, 0.7955],\n",
            "        [0.1793, 0.8161, 0.2208, 0.8625],\n",
            "        [0.1627, 0.7176, 0.1982, 0.7543]], device='cuda:0')\n"
          ]
        }
      ]
    }
  ]
}