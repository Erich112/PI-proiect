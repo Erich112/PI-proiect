{
  "cells": [
    {
      "cell_type": "markdown",
      "metadata": {
        "id": "Xm98VKkMH2gc"
      },
      "source": [
        "Initializare model + date"
      ]
    },
    {
      "cell_type": "code",
      "execution_count": 4,
      "metadata": {
        "colab": {
          "base_uri": "https://localhost:8080/"
        },
        "id": "ZuI95CBC6EXJ",
        "outputId": "d7e2f001-3d29-42e9-c96d-561d31e46907"
      },
      "outputs": [
        {
          "output_type": "stream",
          "name": "stdout",
          "text": [
            "Collecting ultralytics\n",
            "  Downloading ultralytics-8.1.0-py3-none-any.whl (699 kB)\n",
            "\u001b[?25l     \u001b[90m━━━━━━━━━━━━━━━━━━━━━━━━━━━━━━━━━━━━━━━━\u001b[0m \u001b[32m0.0/699.2 kB\u001b[0m \u001b[31m?\u001b[0m eta \u001b[36m-:--:--\u001b[0m\r\u001b[2K     \u001b[91m━━━━━━━\u001b[0m\u001b[90m╺\u001b[0m\u001b[90m━━━━━━━━━━━━━━━━━━━━━━━━━━━━━━━━\u001b[0m \u001b[32m122.9/699.2 kB\u001b[0m \u001b[31m3.9 MB/s\u001b[0m eta \u001b[36m0:00:01\u001b[0m\r\u001b[2K     \u001b[91m━━━━━━━━━━━━━━━━━━━━━━━━━━━━\u001b[0m\u001b[90m╺\u001b[0m\u001b[90m━━━━━━━━━━━\u001b[0m \u001b[32m491.5/699.2 kB\u001b[0m \u001b[31m7.5 MB/s\u001b[0m eta \u001b[36m0:00:01\u001b[0m\r\u001b[2K     \u001b[90m━━━━━━━━━━━━━━━━━━━━━━━━━━━━━━━━━━━━━━━━\u001b[0m \u001b[32m699.2/699.2 kB\u001b[0m \u001b[31m7.5 MB/s\u001b[0m eta \u001b[36m0:00:00\u001b[0m\n",
            "\u001b[?25hRequirement already satisfied: matplotlib>=3.3.0 in /usr/local/lib/python3.10/dist-packages (from ultralytics) (3.7.1)\n",
            "Requirement already satisfied: numpy>=1.22.2 in /usr/local/lib/python3.10/dist-packages (from ultralytics) (1.23.5)\n",
            "Requirement already satisfied: opencv-python>=4.6.0 in /usr/local/lib/python3.10/dist-packages (from ultralytics) (4.8.0.76)\n",
            "Requirement already satisfied: pillow>=7.1.2 in /usr/local/lib/python3.10/dist-packages (from ultralytics) (9.4.0)\n",
            "Requirement already satisfied: pyyaml>=5.3.1 in /usr/local/lib/python3.10/dist-packages (from ultralytics) (6.0.1)\n",
            "Requirement already satisfied: requests>=2.23.0 in /usr/local/lib/python3.10/dist-packages (from ultralytics) (2.31.0)\n",
            "Requirement already satisfied: scipy>=1.4.1 in /usr/local/lib/python3.10/dist-packages (from ultralytics) (1.11.4)\n",
            "Requirement already satisfied: torch>=1.8.0 in /usr/local/lib/python3.10/dist-packages (from ultralytics) (2.1.0+cu121)\n",
            "Requirement already satisfied: torchvision>=0.9.0 in /usr/local/lib/python3.10/dist-packages (from ultralytics) (0.16.0+cu121)\n",
            "Requirement already satisfied: tqdm>=4.64.0 in /usr/local/lib/python3.10/dist-packages (from ultralytics) (4.66.1)\n",
            "Requirement already satisfied: psutil in /usr/local/lib/python3.10/dist-packages (from ultralytics) (5.9.5)\n",
            "Requirement already satisfied: py-cpuinfo in /usr/local/lib/python3.10/dist-packages (from ultralytics) (9.0.0)\n",
            "Collecting thop>=0.1.1 (from ultralytics)\n",
            "  Downloading thop-0.1.1.post2209072238-py3-none-any.whl (15 kB)\n",
            "Requirement already satisfied: pandas>=1.1.4 in /usr/local/lib/python3.10/dist-packages (from ultralytics) (1.5.3)\n",
            "Requirement already satisfied: seaborn>=0.11.0 in /usr/local/lib/python3.10/dist-packages (from ultralytics) (0.12.2)\n",
            "Collecting hub-sdk>=0.0.2 (from ultralytics)\n",
            "  Downloading hub_sdk-0.0.2-py3-none-any.whl (37 kB)\n",
            "Requirement already satisfied: contourpy>=1.0.1 in /usr/local/lib/python3.10/dist-packages (from matplotlib>=3.3.0->ultralytics) (1.2.0)\n",
            "Requirement already satisfied: cycler>=0.10 in /usr/local/lib/python3.10/dist-packages (from matplotlib>=3.3.0->ultralytics) (0.12.1)\n",
            "Requirement already satisfied: fonttools>=4.22.0 in /usr/local/lib/python3.10/dist-packages (from matplotlib>=3.3.0->ultralytics) (4.47.0)\n",
            "Requirement already satisfied: kiwisolver>=1.0.1 in /usr/local/lib/python3.10/dist-packages (from matplotlib>=3.3.0->ultralytics) (1.4.5)\n",
            "Requirement already satisfied: packaging>=20.0 in /usr/local/lib/python3.10/dist-packages (from matplotlib>=3.3.0->ultralytics) (23.2)\n",
            "Requirement already satisfied: pyparsing>=2.3.1 in /usr/local/lib/python3.10/dist-packages (from matplotlib>=3.3.0->ultralytics) (3.1.1)\n",
            "Requirement already satisfied: python-dateutil>=2.7 in /usr/local/lib/python3.10/dist-packages (from matplotlib>=3.3.0->ultralytics) (2.8.2)\n",
            "Requirement already satisfied: pytz>=2020.1 in /usr/local/lib/python3.10/dist-packages (from pandas>=1.1.4->ultralytics) (2023.3.post1)\n",
            "Requirement already satisfied: charset-normalizer<4,>=2 in /usr/local/lib/python3.10/dist-packages (from requests>=2.23.0->ultralytics) (3.3.2)\n",
            "Requirement already satisfied: idna<4,>=2.5 in /usr/local/lib/python3.10/dist-packages (from requests>=2.23.0->ultralytics) (3.6)\n",
            "Requirement already satisfied: urllib3<3,>=1.21.1 in /usr/local/lib/python3.10/dist-packages (from requests>=2.23.0->ultralytics) (2.0.7)\n",
            "Requirement already satisfied: certifi>=2017.4.17 in /usr/local/lib/python3.10/dist-packages (from requests>=2.23.0->ultralytics) (2023.11.17)\n",
            "Requirement already satisfied: filelock in /usr/local/lib/python3.10/dist-packages (from torch>=1.8.0->ultralytics) (3.13.1)\n",
            "Requirement already satisfied: typing-extensions in /usr/local/lib/python3.10/dist-packages (from torch>=1.8.0->ultralytics) (4.5.0)\n",
            "Requirement already satisfied: sympy in /usr/local/lib/python3.10/dist-packages (from torch>=1.8.0->ultralytics) (1.12)\n",
            "Requirement already satisfied: networkx in /usr/local/lib/python3.10/dist-packages (from torch>=1.8.0->ultralytics) (3.2.1)\n",
            "Requirement already satisfied: jinja2 in /usr/local/lib/python3.10/dist-packages (from torch>=1.8.0->ultralytics) (3.1.2)\n",
            "Requirement already satisfied: fsspec in /usr/local/lib/python3.10/dist-packages (from torch>=1.8.0->ultralytics) (2023.6.0)\n",
            "Requirement already satisfied: triton==2.1.0 in /usr/local/lib/python3.10/dist-packages (from torch>=1.8.0->ultralytics) (2.1.0)\n",
            "Requirement already satisfied: six>=1.5 in /usr/local/lib/python3.10/dist-packages (from python-dateutil>=2.7->matplotlib>=3.3.0->ultralytics) (1.16.0)\n",
            "Requirement already satisfied: MarkupSafe>=2.0 in /usr/local/lib/python3.10/dist-packages (from jinja2->torch>=1.8.0->ultralytics) (2.1.3)\n",
            "Requirement already satisfied: mpmath>=0.19 in /usr/local/lib/python3.10/dist-packages (from sympy->torch>=1.8.0->ultralytics) (1.3.0)\n",
            "Installing collected packages: hub-sdk, thop, ultralytics\n",
            "Successfully installed hub-sdk-0.0.2 thop-0.1.1.post2209072238 ultralytics-8.1.0\n"
          ]
        }
      ],
      "source": [
        "# Install the ultralytics package from PyPI\n",
        "import locale\n",
        "locale.getpreferredencoding = lambda: \"UTF-8\"\n",
        "!pip install ultralytics"
      ]
    },
    {
      "cell_type": "code",
      "execution_count": 1,
      "metadata": {
        "id": "D01YpYzGIEHS",
        "colab": {
          "base_uri": "https://localhost:8080/"
        },
        "outputId": "f2bb4f1e-bba1-4389-a206-10f16c929025"
      },
      "outputs": [
        {
          "output_type": "stream",
          "name": "stdout",
          "text": [
            "Mounted at /content/drive\n"
          ]
        }
      ],
      "source": [
        "from google.colab import drive\n",
        "drive.mount('/content/drive')\n",
        "detZar = '/content/drive/My Drive/IMG-20231117-WA0000.jpg'\n",
        "detMob = '/content/drive/My Drive/index-luxuryfurniture-1659361945.png'\n",
        "detMark = '/content/drive/My Drive/20231205_191020.jpg'\n",
        "detFin = '/content/drive/My Drive/testfin.png'"
      ]
    },
    {
      "cell_type": "code",
      "execution_count": 2,
      "metadata": {
        "id": "L6KGN3zw5iy-"
      },
      "outputs": [],
      "source": [
        "project = '/content/drive/My Drive/dataset-custom-1/'"
      ]
    },
    {
      "cell_type": "code",
      "execution_count": 5,
      "metadata": {
        "id": "QSxlXclB6dus",
        "colab": {
          "base_uri": "https://localhost:8080/"
        },
        "outputId": "ff322bdf-4c6d-44b3-d10d-3f47f4faedb9"
      },
      "outputs": [
        {
          "output_type": "stream",
          "name": "stdout",
          "text": [
            "Downloading https://github.com/ultralytics/assets/releases/download/v8.1.0/yolov8n.pt to 'yolov8n.pt'...\n"
          ]
        },
        {
          "output_type": "stream",
          "name": "stderr",
          "text": [
            "100%|██████████| 6.23M/6.23M [00:00<00:00, 68.1MB/s]\n"
          ]
        }
      ],
      "source": [
        "from ultralytics import YOLO\n",
        "\n",
        "# Load a COCO-pretrained YOLOv8n model\n",
        "model = YOLO('yolov8n.pt')"
      ]
    },
    {
      "cell_type": "code",
      "execution_count": 20,
      "metadata": {
        "id": "aVsMPfz26Lq2",
        "colab": {
          "base_uri": "https://localhost:8080/"
        },
        "outputId": "3d0a2807-d545-4a86-e748-3f5087add8b1"
      },
      "outputs": [
        {
          "output_type": "stream",
          "name": "stdout",
          "text": [
            "Ultralytics YOLOv8.1.0 🚀 Python-3.10.12 torch-2.1.0+cu121 CUDA:0 (Tesla T4, 15102MiB)\n",
            "\u001b[34m\u001b[1mengine/trainer: \u001b[0mtask=detect, mode=train, model=/content/runs/detect/train/weights/best.pt, data=/content/drive/My Drive/dataset-custom-1/data.yaml, epochs=15, time=None, patience=50, batch=16, imgsz=1024, save=True, save_period=-1, cache=False, device=None, workers=8, project=None, name=train2, exist_ok=False, pretrained=True, optimizer=auto, verbose=True, seed=0, deterministic=True, single_cls=False, rect=False, cos_lr=False, close_mosaic=10, resume=False, amp=True, fraction=1.0, profile=False, freeze=None, multi_scale=False, overlap_mask=True, mask_ratio=4, dropout=0.0, val=True, split=val, save_json=False, save_hybrid=False, conf=None, iou=0.7, max_det=300, half=False, dnn=False, plots=True, source=None, vid_stride=1, stream_buffer=False, visualize=False, augment=False, agnostic_nms=False, classes=None, retina_masks=False, embed=None, show=False, save_frames=False, save_txt=False, save_conf=False, save_crop=False, show_labels=True, show_conf=True, show_boxes=True, line_width=None, format=torchscript, keras=False, optimize=False, int8=False, dynamic=False, simplify=False, opset=None, workspace=4, nms=False, lr0=0.01, lrf=0.01, momentum=0.937, weight_decay=0.0005, warmup_epochs=3.0, warmup_momentum=0.8, warmup_bias_lr=0.1, box=7.5, cls=0.5, dfl=1.5, pose=12.0, kobj=1.0, label_smoothing=0.0, nbs=64, hsv_h=0.015, hsv_s=0.7, hsv_v=0.4, degrees=0.0, translate=0.1, scale=0.5, shear=0.0, perspective=0.0, flipud=0.0, fliplr=0.5, mosaic=1.0, mixup=0.0, copy_paste=0.0, auto_augment=randaugment, erasing=0.4, crop_fraction=1.0, cfg=None, tracker=botsort.yaml, save_dir=runs/detect/train2\n",
            "\n",
            "                   from  n    params  module                                       arguments                     \n",
            "  0                  -1  1       464  ultralytics.nn.modules.conv.Conv             [3, 16, 3, 2]                 \n",
            "  1                  -1  1      4672  ultralytics.nn.modules.conv.Conv             [16, 32, 3, 2]                \n",
            "  2                  -1  1      7360  ultralytics.nn.modules.block.C2f             [32, 32, 1, True]             \n",
            "  3                  -1  1     18560  ultralytics.nn.modules.conv.Conv             [32, 64, 3, 2]                \n",
            "  4                  -1  2     49664  ultralytics.nn.modules.block.C2f             [64, 64, 2, True]             \n",
            "  5                  -1  1     73984  ultralytics.nn.modules.conv.Conv             [64, 128, 3, 2]               \n",
            "  6                  -1  2    197632  ultralytics.nn.modules.block.C2f             [128, 128, 2, True]           \n",
            "  7                  -1  1    295424  ultralytics.nn.modules.conv.Conv             [128, 256, 3, 2]              \n",
            "  8                  -1  1    460288  ultralytics.nn.modules.block.C2f             [256, 256, 1, True]           \n",
            "  9                  -1  1    164608  ultralytics.nn.modules.block.SPPF            [256, 256, 5]                 \n",
            " 10                  -1  1         0  torch.nn.modules.upsampling.Upsample         [None, 2, 'nearest']          \n",
            " 11             [-1, 6]  1         0  ultralytics.nn.modules.conv.Concat           [1]                           \n",
            " 12                  -1  1    148224  ultralytics.nn.modules.block.C2f             [384, 128, 1]                 \n",
            " 13                  -1  1         0  torch.nn.modules.upsampling.Upsample         [None, 2, 'nearest']          \n",
            " 14             [-1, 4]  1         0  ultralytics.nn.modules.conv.Concat           [1]                           \n",
            " 15                  -1  1     37248  ultralytics.nn.modules.block.C2f             [192, 64, 1]                  \n",
            " 16                  -1  1     36992  ultralytics.nn.modules.conv.Conv             [64, 64, 3, 2]                \n",
            " 17            [-1, 12]  1         0  ultralytics.nn.modules.conv.Concat           [1]                           \n",
            " 18                  -1  1    123648  ultralytics.nn.modules.block.C2f             [192, 128, 1]                 \n",
            " 19                  -1  1    147712  ultralytics.nn.modules.conv.Conv             [128, 128, 3, 2]              \n",
            " 20             [-1, 9]  1         0  ultralytics.nn.modules.conv.Concat           [1]                           \n",
            " 21                  -1  1    493056  ultralytics.nn.modules.block.C2f             [384, 256, 1]                 \n",
            " 22        [15, 18, 21]  1    758722  ultralytics.nn.modules.head.Detect           [38, [64, 128, 256]]          \n",
            "Model summary: 225 layers, 3018258 parameters, 3018242 gradients, 8.2 GFLOPs\n",
            "\n",
            "Transferred 70/355 items from pretrained weights\n",
            "\u001b[34m\u001b[1mTensorBoard: \u001b[0mStart with 'tensorboard --logdir runs/detect/train2', view at http://localhost:6006/\n",
            "Freezing layer 'model.22.dfl.conv.weight'\n",
            "\u001b[34m\u001b[1mAMP: \u001b[0mrunning Automatic Mixed Precision (AMP) checks with YOLOv8n...\n",
            "\u001b[34m\u001b[1mAMP: \u001b[0mchecks passed ✅\n"
          ]
        },
        {
          "output_type": "stream",
          "name": "stderr",
          "text": [
            "\u001b[34m\u001b[1mtrain: \u001b[0mScanning /content/drive/My Drive/dataset-custom-1/train/labels.cache... 1758 images, 0 backgrounds, 0 corrupt: 100%|██████████| 1758/1758 [00:00<?, ?it/s]"
          ]
        },
        {
          "output_type": "stream",
          "name": "stdout",
          "text": [
            "\u001b[34m\u001b[1malbumentations: \u001b[0mBlur(p=0.01, blur_limit=(3, 7)), MedianBlur(p=0.01, blur_limit=(3, 7)), ToGray(p=0.01), CLAHE(p=0.01, clip_limit=(1, 4.0), tile_grid_size=(8, 8))\n"
          ]
        },
        {
          "output_type": "stream",
          "name": "stderr",
          "text": [
            "\n",
            "\u001b[34m\u001b[1mval: \u001b[0mScanning /content/drive/My Drive/dataset-custom-1/valid/labels.cache... 263 images, 0 backgrounds, 0 corrupt: 100%|██████████| 263/263 [00:00<?, ?it/s]\n"
          ]
        },
        {
          "output_type": "stream",
          "name": "stdout",
          "text": [
            "Plotting labels to runs/detect/train2/labels.jpg... \n",
            "\u001b[34m\u001b[1moptimizer:\u001b[0m 'optimizer=auto' found, ignoring 'lr0=0.01' and 'momentum=0.937' and determining best 'optimizer', 'lr0' and 'momentum' automatically... \n",
            "\u001b[34m\u001b[1moptimizer:\u001b[0m AdamW(lr=0.000238, momentum=0.9) with parameter groups 57 weight(decay=0.0), 64 weight(decay=0.0005), 63 bias(decay=0.0)\n",
            "15 epochs...\n",
            "\n",
            "      Epoch    GPU_mem   box_loss   cls_loss   dfl_loss  Instances       Size\n"
          ]
        },
        {
          "output_type": "stream",
          "name": "stderr",
          "text": [
            "       1/15      7.99G      1.524      3.118      1.432        290       1024: 100%|██████████| 110/110 [01:59<00:00,  1.09s/it]\n",
            "                 Class     Images  Instances      Box(P          R      mAP50  mAP50-95): 100%|██████████| 9/9 [00:06<00:00,  1.34it/s]\n"
          ]
        },
        {
          "output_type": "stream",
          "name": "stdout",
          "text": [
            "                   all        263       1156      0.333      0.242      0.206      0.103\n",
            "\n",
            "      Epoch    GPU_mem   box_loss   cls_loss   dfl_loss  Instances       Size\n"
          ]
        },
        {
          "output_type": "stream",
          "name": "stderr",
          "text": [
            "       2/15      7.15G      1.014      1.785      1.116        328       1024: 100%|██████████| 110/110 [01:44<00:00,  1.05it/s]\n",
            "                 Class     Images  Instances      Box(P          R      mAP50  mAP50-95): 100%|██████████| 9/9 [00:07<00:00,  1.18it/s]\n"
          ]
        },
        {
          "output_type": "stream",
          "name": "stdout",
          "text": [
            "                   all        263       1156      0.368       0.43      0.352      0.171\n",
            "\n",
            "      Epoch    GPU_mem   box_loss   cls_loss   dfl_loss  Instances       Size\n"
          ]
        },
        {
          "output_type": "stream",
          "name": "stderr",
          "text": [
            "       3/15      8.88G     0.9211      1.475      1.052        454       1024: 100%|██████████| 110/110 [01:43<00:00,  1.06it/s]\n",
            "                 Class     Images  Instances      Box(P          R      mAP50  mAP50-95): 100%|██████████| 9/9 [00:07<00:00,  1.14it/s]\n"
          ]
        },
        {
          "output_type": "stream",
          "name": "stdout",
          "text": [
            "                   all        263       1156      0.474      0.466      0.455      0.227\n",
            "\n",
            "      Epoch    GPU_mem   box_loss   cls_loss   dfl_loss  Instances       Size\n"
          ]
        },
        {
          "output_type": "stream",
          "name": "stderr",
          "text": [
            "       4/15      7.65G     0.8732      1.316      1.017        205       1024: 100%|██████████| 110/110 [01:45<00:00,  1.04it/s]\n",
            "                 Class     Images  Instances      Box(P          R      mAP50  mAP50-95): 100%|██████████| 9/9 [00:09<00:00,  1.00s/it]\n"
          ]
        },
        {
          "output_type": "stream",
          "name": "stdout",
          "text": [
            "                   all        263       1156      0.465      0.506      0.493      0.254\n",
            "\n",
            "      Epoch    GPU_mem   box_loss   cls_loss   dfl_loss  Instances       Size\n"
          ]
        },
        {
          "output_type": "stream",
          "name": "stderr",
          "text": [
            "       5/15      8.65G     0.8416      1.219      1.004        290       1024: 100%|██████████| 110/110 [01:42<00:00,  1.07it/s]\n",
            "                 Class     Images  Instances      Box(P          R      mAP50  mAP50-95): 100%|██████████| 9/9 [00:08<00:00,  1.02it/s]\n"
          ]
        },
        {
          "output_type": "stream",
          "name": "stdout",
          "text": [
            "                   all        263       1156       0.51      0.539      0.515      0.255\n",
            "Closing dataloader mosaic\n",
            "\u001b[34m\u001b[1malbumentations: \u001b[0mBlur(p=0.01, blur_limit=(3, 7)), MedianBlur(p=0.01, blur_limit=(3, 7)), ToGray(p=0.01), CLAHE(p=0.01, clip_limit=(1, 4.0), tile_grid_size=(8, 8))\n",
            "\n",
            "      Epoch    GPU_mem   box_loss   cls_loss   dfl_loss  Instances       Size\n"
          ]
        },
        {
          "output_type": "stream",
          "name": "stderr",
          "text": [
            "       6/15      6.29G     0.7791     0.9787     0.9657        142       1024: 100%|██████████| 110/110 [01:45<00:00,  1.04it/s]\n",
            "                 Class     Images  Instances      Box(P          R      mAP50  mAP50-95): 100%|██████████| 9/9 [00:07<00:00,  1.21it/s]\n"
          ]
        },
        {
          "output_type": "stream",
          "name": "stdout",
          "text": [
            "                   all        263       1156      0.521      0.571      0.568      0.294\n",
            "\n",
            "      Epoch    GPU_mem   box_loss   cls_loss   dfl_loss  Instances       Size\n"
          ]
        },
        {
          "output_type": "stream",
          "name": "stderr",
          "text": [
            "       7/15      5.52G      0.764     0.9159     0.9551        143       1024: 100%|██████████| 110/110 [01:36<00:00,  1.15it/s]\n",
            "                 Class     Images  Instances      Box(P          R      mAP50  mAP50-95): 100%|██████████| 9/9 [00:06<00:00,  1.34it/s]\n"
          ]
        },
        {
          "output_type": "stream",
          "name": "stdout",
          "text": [
            "                   all        263       1156      0.558       0.56      0.597      0.312\n",
            "\n",
            "      Epoch    GPU_mem   box_loss   cls_loss   dfl_loss  Instances       Size\n"
          ]
        },
        {
          "output_type": "stream",
          "name": "stderr",
          "text": [
            "       8/15      5.52G     0.7544     0.8824     0.9498        281       1024: 100%|██████████| 110/110 [01:36<00:00,  1.14it/s]\n",
            "                 Class     Images  Instances      Box(P          R      mAP50  mAP50-95): 100%|██████████| 9/9 [00:06<00:00,  1.29it/s]\n"
          ]
        },
        {
          "output_type": "stream",
          "name": "stdout",
          "text": [
            "                   all        263       1156       0.57      0.553      0.601      0.325\n",
            "\n",
            "      Epoch    GPU_mem   box_loss   cls_loss   dfl_loss  Instances       Size\n"
          ]
        },
        {
          "output_type": "stream",
          "name": "stderr",
          "text": [
            "       9/15      5.52G     0.7449     0.8566     0.9467        195       1024: 100%|██████████| 110/110 [01:38<00:00,  1.12it/s]\n",
            "                 Class     Images  Instances      Box(P          R      mAP50  mAP50-95): 100%|██████████| 9/9 [00:06<00:00,  1.29it/s]"
          ]
        },
        {
          "output_type": "stream",
          "name": "stdout",
          "text": [
            "                   all        263       1156      0.582      0.574      0.613      0.327\n"
          ]
        },
        {
          "output_type": "stream",
          "name": "stderr",
          "text": [
            "\n"
          ]
        },
        {
          "output_type": "stream",
          "name": "stdout",
          "text": [
            "\n",
            "      Epoch    GPU_mem   box_loss   cls_loss   dfl_loss  Instances       Size\n"
          ]
        },
        {
          "output_type": "stream",
          "name": "stderr",
          "text": [
            "      10/15      5.82G     0.7388     0.8316     0.9435        228       1024: 100%|██████████| 110/110 [01:35<00:00,  1.16it/s]\n",
            "                 Class     Images  Instances      Box(P          R      mAP50  mAP50-95): 100%|██████████| 9/9 [00:07<00:00,  1.20it/s]\n"
          ]
        },
        {
          "output_type": "stream",
          "name": "stdout",
          "text": [
            "                   all        263       1156      0.597      0.618      0.634      0.331\n",
            "\n",
            "      Epoch    GPU_mem   box_loss   cls_loss   dfl_loss  Instances       Size\n"
          ]
        },
        {
          "output_type": "stream",
          "name": "stderr",
          "text": [
            "      11/15      5.51G     0.7317     0.8125      0.938        178       1024: 100%|██████████| 110/110 [01:36<00:00,  1.14it/s]\n",
            "                 Class     Images  Instances      Box(P          R      mAP50  mAP50-95): 100%|██████████| 9/9 [00:07<00:00,  1.14it/s]\n"
          ]
        },
        {
          "output_type": "stream",
          "name": "stdout",
          "text": [
            "                   all        263       1156      0.599      0.609       0.64      0.348\n",
            "\n",
            "      Epoch    GPU_mem   box_loss   cls_loss   dfl_loss  Instances       Size\n"
          ]
        },
        {
          "output_type": "stream",
          "name": "stderr",
          "text": [
            "      12/15       5.5G     0.7274     0.7992     0.9391        259       1024: 100%|██████████| 110/110 [01:37<00:00,  1.13it/s]\n",
            "                 Class     Images  Instances      Box(P          R      mAP50  mAP50-95): 100%|██████████| 9/9 [00:06<00:00,  1.44it/s]"
          ]
        },
        {
          "output_type": "stream",
          "name": "stdout",
          "text": [
            "                   all        263       1156      0.625      0.592      0.642      0.354\n"
          ]
        },
        {
          "output_type": "stream",
          "name": "stderr",
          "text": [
            "\n"
          ]
        },
        {
          "output_type": "stream",
          "name": "stdout",
          "text": [
            "\n",
            "      Epoch    GPU_mem   box_loss   cls_loss   dfl_loss  Instances       Size\n"
          ]
        },
        {
          "output_type": "stream",
          "name": "stderr",
          "text": [
            "      13/15      5.46G     0.7181     0.7828     0.9326        171       1024: 100%|██████████| 110/110 [01:36<00:00,  1.14it/s]\n",
            "                 Class     Images  Instances      Box(P          R      mAP50  mAP50-95): 100%|██████████| 9/9 [00:08<00:00,  1.04it/s]\n"
          ]
        },
        {
          "output_type": "stream",
          "name": "stdout",
          "text": [
            "                   all        263       1156      0.622      0.604      0.643      0.352\n",
            "\n",
            "      Epoch    GPU_mem   box_loss   cls_loss   dfl_loss  Instances       Size\n"
          ]
        },
        {
          "output_type": "stream",
          "name": "stderr",
          "text": [
            "      14/15      5.52G     0.7223     0.7724     0.9324        223       1024: 100%|██████████| 110/110 [01:36<00:00,  1.14it/s]\n",
            "                 Class     Images  Instances      Box(P          R      mAP50  mAP50-95): 100%|██████████| 9/9 [00:06<00:00,  1.49it/s]\n"
          ]
        },
        {
          "output_type": "stream",
          "name": "stdout",
          "text": [
            "                   all        263       1156      0.634      0.613       0.65      0.355\n",
            "\n",
            "      Epoch    GPU_mem   box_loss   cls_loss   dfl_loss  Instances       Size\n"
          ]
        },
        {
          "output_type": "stream",
          "name": "stderr",
          "text": [
            "      15/15      5.56G     0.7157     0.7645     0.9268        216       1024: 100%|██████████| 110/110 [01:38<00:00,  1.11it/s]\n",
            "                 Class     Images  Instances      Box(P          R      mAP50  mAP50-95): 100%|██████████| 9/9 [00:07<00:00,  1.13it/s]"
          ]
        },
        {
          "output_type": "stream",
          "name": "stdout",
          "text": [
            "                   all        263       1156      0.649      0.584      0.648      0.357\n"
          ]
        },
        {
          "output_type": "stream",
          "name": "stderr",
          "text": [
            "\n"
          ]
        },
        {
          "output_type": "stream",
          "name": "stdout",
          "text": [
            "\n",
            "15 epochs completed in 0.461 hours.\n",
            "Optimizer stripped from runs/detect/train2/weights/last.pt, 6.3MB\n",
            "Optimizer stripped from runs/detect/train2/weights/best.pt, 6.3MB\n",
            "\n",
            "Validating runs/detect/train2/weights/best.pt...\n",
            "Ultralytics YOLOv8.1.0 🚀 Python-3.10.12 torch-2.1.0+cu121 CUDA:0 (Tesla T4, 15102MiB)\n",
            "Model summary (fused): 168 layers, 3013058 parameters, 0 gradients, 8.1 GFLOPs\n"
          ]
        },
        {
          "output_type": "stream",
          "name": "stderr",
          "text": [
            "                 Class     Images  Instances      Box(P          R      mAP50  mAP50-95): 100%|██████████| 9/9 [00:12<00:00,  1.40s/it]\n"
          ]
        },
        {
          "output_type": "stream",
          "name": "stdout",
          "text": [
            "                   all        263       1156      0.653      0.581      0.649      0.358\n",
            "                     a        263         74       0.53      0.703      0.662      0.315\n",
            "                     b        263         19      0.665      0.632      0.645      0.372\n",
            "                     c        263         20      0.872      0.679       0.74      0.397\n",
            "                     d        263         21      0.763      0.429      0.622      0.289\n",
            "                     e        263         98      0.899      0.455      0.803      0.419\n",
            "                     f        263         16      0.272      0.282      0.168     0.0908\n",
            "                     g        263         28      0.469      0.757      0.648      0.357\n",
            "                     h        263         51      0.946      0.343       0.67      0.395\n",
            "                     i        263         61      0.726      0.827      0.856      0.383\n",
            "                     j        263          5      0.465        0.8      0.795      0.292\n",
            "                     k        263         11      0.436      0.636      0.396      0.237\n",
            "                     l        263         49      0.632      0.592      0.728      0.392\n",
            "                     m        263         10      0.219        0.2      0.169     0.0999\n",
            "                     n        263         56      0.935      0.516      0.786      0.458\n",
            "                     o        263         83        0.8      0.795       0.87       0.43\n",
            "                     p        263         16      0.486      0.438      0.357      0.225\n",
            "                     q        263          7          0          0          0          0\n",
            "                     r        263         50      0.645       0.64      0.659      0.332\n",
            "                     s        263         59      0.858      0.559      0.722       0.32\n",
            "                     t        263         78      0.819      0.564      0.801      0.416\n",
            "                     u        263         36      0.619      0.889      0.869      0.505\n",
            "                     v        263         17      0.919      0.647      0.816      0.433\n",
            "                     w        263         22      0.761      0.455      0.616      0.398\n",
            "                     x        263         16      0.916      0.683      0.718       0.42\n",
            "                     y        263         36       0.75      0.583      0.717      0.307\n",
            "                     z        263         14      0.122      0.143      0.135     0.0877\n",
            "                 black        263         38      0.948          1      0.995       0.79\n",
            "                  blue        263          4      0.546          1      0.945      0.664\n",
            "                  Sofa        263         23      0.694      0.609      0.746      0.487\n",
            "                 Table        263        138      0.861      0.586       0.82      0.429\n",
            "Speed: 0.8ms preprocess, 6.2ms inference, 0.0ms loss, 4.7ms postprocess per image\n",
            "Results saved to \u001b[1mruns/detect/train2\u001b[0m\n"
          ]
        }
      ],
      "source": [
        "# Train the model on the COCO8 example dataset for 20 epochs\n",
        "results = model.train(data='/content/drive/My Drive/dataset-custom-1/data.yaml', epochs=15, imgsz=1024)"
      ]
    },
    {
      "cell_type": "markdown",
      "metadata": {
        "id": "NnBfzw-I0aLD"
      },
      "source": [
        "1. Detectia unor zaruri"
      ]
    },
    {
      "cell_type": "code",
      "execution_count": 7,
      "metadata": {
        "id": "gYtsJwCi7X8Y"
      },
      "outputs": [],
      "source": [
        "model = YOLO('/content/runs/detect/train/weights/best.pt')\n",
        "# Validate the model"
      ]
    },
    {
      "cell_type": "code",
      "source": [
        "# infer on a local image\n",
        "from PIL import Image\n",
        "import cv2\n",
        "results = model(detZar)              # run prediction on img\n",
        "for result in results:\n",
        "    print(result.boxes)\n",
        "    im = cv2.imread(detZar)  # RGB PIL image\n",
        "    im_array = result.plot()  # plot a BGR numpy array of predictions\n",
        "    boxes = result.boxes.cpu().numpy()\n",
        "    xyxys = boxes.xyxy                       # get boxes on cpu in numpy\n",
        "    for box in boxes:\n",
        "      c = box.cls\n",
        "      print(box.xyxy)\n",
        "      print(box.xyxy[0][0])\n",
        "      cv2.putText(im, model.names[int(c)], (int(box.xyxy[0][0]), int(box.xyxy[0][1]-10)), cv2.FONT_HERSHEY_SIMPLEX, 1, (0,0,0), 2)\n",
        "      cv2.rectangle(im, (int(box.xyxy[0][0]), int(box.xyxy[0][1])), (int(box.xyxy[0][2]), int(box.xyxy[0][3])), (0, 255, 0), 2)   # draw boxes on img\n",
        "      cv2.imwrite(\"Zarresults.jpg\",im)"
      ],
      "metadata": {
        "id": "qLc5gy5WUeBg"
      },
      "execution_count": null,
      "outputs": []
    },
    {
      "cell_type": "code",
      "execution_count": null,
      "metadata": {
        "id": "pOZR_GluvlVt"
      },
      "outputs": [],
      "source": [
        "results = model(detMark)              # run prediction on img\n",
        "for result in results:\n",
        "    print(result.boxes)\n",
        "    im = cv2.imread(detMark)  # RGB PIL image\n",
        "    im_array = result.plot()  # plot a BGR numpy array of predictions\n",
        "    boxes = result.boxes.cpu().numpy()\n",
        "    xyxys = boxes.xyxy                       # get boxes on cpu in numpy\n",
        "    for box in boxes:\n",
        "      c = box.cls\n",
        "      print(box.xyxy)\n",
        "      print(box.xyxy[0][0])\n",
        "      cv2.putText(im, model.names[int(c)], (int(box.xyxy[0][0]), int(box.xyxy[0][1]-10)), cv2.FONT_HERSHEY_SIMPLEX, 1, (0,0,0), 2)\n",
        "      cv2.rectangle(im, (int(box.xyxy[0][0]), int(box.xyxy[0][1])), (int(box.xyxy[0][2]), int(box.xyxy[0][3])), (0, 255, 0), 2)   # draw boxes on img\n",
        "      cv2.imwrite(\"Markresults.jpg\",im)"
      ]
    },
    {
      "cell_type": "code",
      "execution_count": null,
      "metadata": {
        "id": "ycTBpRZgL83t"
      },
      "outputs": [],
      "source": [
        "results = model(detMob)              # run prediction on img\n",
        "for result in results:\n",
        "    print(result.boxes)\n",
        "    im = cv2.imread(detMob)  # RGB PIL image\n",
        "    im_array = result.plot()  # plot a BGR numpy array of predictions\n",
        "    boxes = result.boxes.cpu().numpy()\n",
        "    xyxys = boxes.xyxy                       # get boxes on cpu in numpy\n",
        "    for box in boxes:\n",
        "      c = box.cls\n",
        "      print(box.xyxy)\n",
        "      print(box.xyxy[0][0])\n",
        "      cv2.putText(im, model.names[int(c)], (int(box.xyxy[0][0]), int(box.xyxy[0][1]-10)), cv2.FONT_HERSHEY_SIMPLEX, 1, (0,0,0), 2)\n",
        "      cv2.rectangle(im, (int(box.xyxy[0][0]), int(box.xyxy[0][1])), (int(box.xyxy[0][2]), int(box.xyxy[0][3])), (0, 255, 0), 2)   # draw boxes on img\n",
        "      cv2.imwrite(\"Mobresults.jpg\",im)"
      ]
    },
    {
      "cell_type": "code",
      "execution_count": 55,
      "metadata": {
        "id": "_M-at6St_b1Z",
        "colab": {
          "base_uri": "https://localhost:8080/"
        },
        "outputId": "849e6eef-07d6-4f4b-aa41-e117a87388e3"
      },
      "outputs": [
        {
          "output_type": "stream",
          "name": "stdout",
          "text": [
            "\n",
            "image 1/1 /content/drive/My Drive/testfin.png: 768x1024 3 es, 1 i, 1 l, 3 ns, 5 os, 1 r, 1 s, 1 u, 2 vs, 1 w, 1 y, 1 Sofa, 11.5ms\n",
            "Speed: 4.2ms preprocess, 11.5ms inference, 1.5ms postprocess per image at shape (1, 3, 768, 1024)\n",
            "ultralytics.engine.results.Boxes object with attributes:\n",
            "\n",
            "cls: tensor([18., 18., 18.,  5., 36., 27., 18., 31., 17., 15., 17., 27., 22.,  5., 11., 18., 28., 26.,  5., 23., 17.], device='cuda:0')\n",
            "conf: tensor([0.9928, 0.9013, 0.8960, 0.8117, 0.7697, 0.7299, 0.7110, 0.6888, 0.6349, 0.6095, 0.5118, 0.4357, 0.4087, 0.4043, 0.4018, 0.3919, 0.3693, 0.3639, 0.3357, 0.3191, 0.2675], device='cuda:0')\n",
            "data: tensor([[1.7830e+02, 3.9325e+02, 2.0482e+02, 4.1552e+02, 9.9284e-01, 1.8000e+01],\n",
            "        [1.3394e+02, 3.5095e+02, 1.5689e+02, 3.7003e+02, 9.0131e-01, 1.8000e+01],\n",
            "        [1.6132e+02, 3.4553e+02, 1.8503e+02, 3.6399e+02, 8.9601e-01, 1.8000e+01],\n",
            "        [1.1973e+02, 4.0713e+02, 1.4566e+02, 4.3051e+02, 8.1165e-01, 5.0000e+00],\n",
            "        [2.2363e+02, 1.9428e+02, 6.1264e+02, 3.7286e+02, 7.6965e-01, 3.6000e+01],\n",
            "        [7.7352e+01, 3.5991e+02, 1.0106e+02, 3.8047e+02, 7.2986e-01, 2.7000e+01],\n",
            "        [1.4976e+02, 3.9945e+02, 1.7508e+02, 4.2190e+02, 7.1104e-01, 1.8000e+01],\n",
            "        [7.7449e+01, 3.6006e+02, 1.0080e+02, 3.8003e+02, 6.8879e-01, 3.1000e+01],\n",
            "        [1.1195e+02, 3.7940e+02, 1.3660e+02, 4.0108e+02, 6.3488e-01, 1.7000e+01],\n",
            "        [8.6891e+01, 4.1220e+02, 1.1420e+02, 4.3651e+02, 6.0946e-01, 1.5000e+01],\n",
            "        [1.6925e+02, 3.6852e+02, 1.9419e+02, 3.8890e+02, 5.1182e-01, 1.7000e+01],\n",
            "        [1.1186e+02, 3.7918e+02, 1.3647e+02, 4.0106e+02, 4.3565e-01, 2.7000e+01],\n",
            "        [1.2837e+02, 3.3000e+02, 1.4989e+02, 3.4773e+02, 4.0869e-01, 2.2000e+01],\n",
            "        [1.5285e+02, 3.2493e+02, 1.7676e+02, 3.4237e+02, 4.0434e-01, 5.0000e+00],\n",
            "        [8.7247e+01, 4.1286e+02, 1.1417e+02, 4.3676e+02, 4.0183e-01, 1.1000e+01],\n",
            "        [1.4068e+02, 3.7407e+02, 1.6561e+02, 3.9549e+02, 3.9190e-01, 1.8000e+01],\n",
            "        [8.1326e+01, 3.8502e+02, 1.0568e+02, 4.0748e+02, 3.6931e-01, 2.8000e+01],\n",
            "        [1.6137e+02, 3.4542e+02, 1.8497e+02, 3.6434e+02, 3.6386e-01, 2.6000e+01],\n",
            "        [1.0152e+02, 3.3349e+02, 1.2232e+02, 3.5107e+02, 3.3569e-01, 5.0000e+00],\n",
            "        [1.4078e+02, 3.7378e+02, 1.6557e+02, 3.9557e+02, 3.1912e-01, 2.3000e+01],\n",
            "        [8.0892e+01, 3.8541e+02, 1.0541e+02, 4.0711e+02, 2.6751e-01, 1.7000e+01]], device='cuda:0')\n",
            "id: None\n",
            "is_track: False\n",
            "orig_shape: (465, 620)\n",
            "shape: torch.Size([21, 6])\n",
            "xywh: tensor([[191.5595, 404.3849,  26.5287,  22.2637],\n",
            "        [145.4146, 360.4893,  22.9554,  19.0885],\n",
            "        [173.1737, 354.7599,  23.7137,  18.4586],\n",
            "        [132.6939, 418.8239,  25.9312,  23.3821],\n",
            "        [418.1371, 283.5701, 389.0099, 178.5849],\n",
            "        [ 89.2082, 370.1909,  23.7120,  20.5638],\n",
            "        [162.4180, 410.6746,  25.3163,  22.4516],\n",
            "        [ 89.1260, 370.0443,  23.3536,  19.9766],\n",
            "        [124.2739, 390.2409,  24.6446,  21.6763],\n",
            "        [100.5452, 424.3540,  27.3085,  24.3105],\n",
            "        [181.7240, 378.7126,  24.9409,  20.3782],\n",
            "        [124.1662, 390.1223,  24.6110,  21.8777],\n",
            "        [139.1325, 338.8619,  21.5225,  17.7336],\n",
            "        [164.8040, 333.6516,  23.9126,  17.4362],\n",
            "        [100.7064, 424.8137,  26.9180,  23.8984],\n",
            "        [153.1433, 384.7838,  24.9237,  21.4194],\n",
            "        [ 93.5007, 396.2505,  24.3491,  22.4604],\n",
            "        [173.1689, 354.8802,  23.5983,  18.9149],\n",
            "        [111.9220, 342.2765,  20.7989,  17.5771],\n",
            "        [153.1758, 384.6743,  24.7939,  21.7888],\n",
            "        [ 93.1497, 396.2632,  24.5146,  21.6998]], device='cuda:0')\n",
            "xywhn: tensor([[0.3090, 0.8696, 0.0428, 0.0479],\n",
            "        [0.2345, 0.7752, 0.0370, 0.0411],\n",
            "        [0.2793, 0.7629, 0.0382, 0.0397],\n",
            "        [0.2140, 0.9007, 0.0418, 0.0503],\n",
            "        [0.6744, 0.6098, 0.6274, 0.3841],\n",
            "        [0.1439, 0.7961, 0.0382, 0.0442],\n",
            "        [0.2620, 0.8832, 0.0408, 0.0483],\n",
            "        [0.1438, 0.7958, 0.0377, 0.0430],\n",
            "        [0.2004, 0.8392, 0.0397, 0.0466],\n",
            "        [0.1622, 0.9126, 0.0440, 0.0523],\n",
            "        [0.2931, 0.8144, 0.0402, 0.0438],\n",
            "        [0.2003, 0.8390, 0.0397, 0.0470],\n",
            "        [0.2244, 0.7287, 0.0347, 0.0381],\n",
            "        [0.2658, 0.7175, 0.0386, 0.0375],\n",
            "        [0.1624, 0.9136, 0.0434, 0.0514],\n",
            "        [0.2470, 0.8275, 0.0402, 0.0461],\n",
            "        [0.1508, 0.8522, 0.0393, 0.0483],\n",
            "        [0.2793, 0.7632, 0.0381, 0.0407],\n",
            "        [0.1805, 0.7361, 0.0335, 0.0378],\n",
            "        [0.2471, 0.8273, 0.0400, 0.0469],\n",
            "        [0.1502, 0.8522, 0.0395, 0.0467]], device='cuda:0')\n",
            "xyxy: tensor([[178.2951, 393.2531, 204.8238, 415.5168],\n",
            "        [133.9369, 350.9450, 156.8922, 370.0336],\n",
            "        [161.3168, 345.5306, 185.0305, 363.9892],\n",
            "        [119.7283, 407.1329, 145.6595, 430.5150],\n",
            "        [223.6322, 194.2776, 612.6421, 372.8625],\n",
            "        [ 77.3522, 359.9090, 101.0642, 380.4727],\n",
            "        [149.7598, 399.4488, 175.0761, 421.9003],\n",
            "        [ 77.4492, 360.0560, 100.8028, 380.0326],\n",
            "        [111.9516, 379.4028, 136.5962, 401.0790],\n",
            "        [ 86.8909, 412.1988, 114.1994, 436.5092],\n",
            "        [169.2536, 368.5236, 194.1945, 388.9017],\n",
            "        [111.8607, 379.1834, 136.4717, 401.0612],\n",
            "        [128.3712, 329.9951, 149.8937, 347.7287],\n",
            "        [152.8477, 324.9335, 176.7603, 342.3697],\n",
            "        [ 87.2474, 412.8645, 114.1654, 436.7629],\n",
            "        [140.6815, 374.0741, 165.6052, 395.4935],\n",
            "        [ 81.3262, 385.0203, 105.6753, 407.4807],\n",
            "        [161.3697, 345.4228, 184.9680, 364.3376],\n",
            "        [101.5226, 333.4879, 122.3215, 351.0650],\n",
            "        [140.7788, 373.7799, 165.5728, 395.5687],\n",
            "        [ 80.8923, 385.4133, 105.4070, 407.1131]], device='cuda:0')\n",
            "xyxyn: tensor([[0.2876, 0.8457, 0.3304, 0.8936],\n",
            "        [0.2160, 0.7547, 0.2531, 0.7958],\n",
            "        [0.2602, 0.7431, 0.2984, 0.7828],\n",
            "        [0.1931, 0.8756, 0.2349, 0.9258],\n",
            "        [0.3607, 0.4178, 0.9881, 0.8019],\n",
            "        [0.1248, 0.7740, 0.1630, 0.8182],\n",
            "        [0.2415, 0.8590, 0.2824, 0.9073],\n",
            "        [0.1249, 0.7743, 0.1626, 0.8173],\n",
            "        [0.1806, 0.8159, 0.2203, 0.8625],\n",
            "        [0.1401, 0.8864, 0.1842, 0.9387],\n",
            "        [0.2730, 0.7925, 0.3132, 0.8363],\n",
            "        [0.1804, 0.8154, 0.2201, 0.8625],\n",
            "        [0.2071, 0.7097, 0.2418, 0.7478],\n",
            "        [0.2465, 0.6988, 0.2851, 0.7363],\n",
            "        [0.1407, 0.8879, 0.1841, 0.9393],\n",
            "        [0.2269, 0.8045, 0.2671, 0.8505],\n",
            "        [0.1312, 0.8280, 0.1704, 0.8763],\n",
            "        [0.2603, 0.7428, 0.2983, 0.7835],\n",
            "        [0.1637, 0.7172, 0.1973, 0.7550],\n",
            "        [0.2271, 0.8038, 0.2671, 0.8507],\n",
            "        [0.1305, 0.8288, 0.1700, 0.8755]], device='cuda:0')\n",
            "[[      178.3      393.25      204.82      415.52]]\n",
            "178.29514\n",
            "[[     133.94      350.95      156.89      370.03]]\n",
            "133.93686\n",
            "[[     161.32      345.53      185.03      363.99]]\n",
            "161.31685\n",
            "[[     119.73      407.13      145.66      430.51]]\n",
            "119.728325\n",
            "[[     223.63      194.28      612.64      372.86]]\n",
            "223.63223\n",
            "[[     77.352      359.91      101.06      380.47]]\n",
            "77.35218\n",
            "[[     149.76      399.45      175.08       421.9]]\n",
            "149.7598\n",
            "[[     77.449      360.06       100.8      380.03]]\n",
            "77.44916\n",
            "[[     111.95       379.4       136.6      401.08]]\n",
            "111.95164\n",
            "[[     86.891       412.2       114.2      436.51]]\n",
            "86.890915\n",
            "[[     169.25      368.52      194.19       388.9]]\n",
            "169.25357\n",
            "[[     111.86      379.18      136.47      401.06]]\n",
            "111.86071\n",
            "[[     128.37         330      149.89      347.73]]\n",
            "128.37122\n",
            "[[     152.85      324.93      176.76      342.37]]\n",
            "152.84773\n",
            "[[     87.247      412.86      114.17      436.76]]\n",
            "87.24738\n",
            "[[     140.68      374.07      165.61      395.49]]\n",
            "140.6815\n",
            "[[     81.326      385.02      105.68      407.48]]\n",
            "81.326195\n",
            "[[     161.37      345.42      184.97      364.34]]\n",
            "161.36972\n",
            "[[     101.52      333.49      122.32      351.07]]\n",
            "101.522575\n",
            "[[     140.78      373.78      165.57      395.57]]\n",
            "140.77884\n",
            "[[     80.892      385.41      105.41      407.11]]\n",
            "80.89235\n"
          ]
        }
      ],
      "source": [
        "results = model(detFin)              # run prediction on img\n",
        "for result in results:\n",
        "    print(result.boxes)\n",
        "    im = cv2.imread(detFin)  # RGB PIL image\n",
        "    im_array = result.plot()  # plot a BGR numpy array of predictions\n",
        "    boxes = result.boxes.cpu().numpy()\n",
        "    xyxys = boxes.xyxy                       # get boxes on cpu in numpy\n",
        "    for box in boxes:\n",
        "      c = box.cls\n",
        "      print(box.xyxy)\n",
        "      print(box.xyxy[0][0])\n",
        "      cv2.putText(im, model.names[int(c)], (int(box.xyxy[0][0]), int(box.xyxy[0][1]-10)), cv2.FONT_HERSHEY_SIMPLEX, 1, (0,0,0), 2)\n",
        "      cv2.rectangle(im, (int(box.xyxy[0][0]), int(box.xyxy[0][1])), (int(box.xyxy[0][2]), int(box.xyxy[0][3])), (0, 255, 0), 2)   # draw boxes on img\n",
        "      cv2.imwrite(\"Finresults.jpg\",im)\n",
        ""
      ]
    }
  ],
  "metadata": {
    "accelerator": "GPU",
    "colab": {
      "provenance": []
    },
    "kernelspec": {
      "display_name": "Python 3",
      "name": "python3"
    },
    "language_info": {
      "name": "python"
    }
  },
  "nbformat": 4,
  "nbformat_minor": 0
}