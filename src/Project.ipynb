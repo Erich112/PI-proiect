{
  "nbformat": 4,
  "nbformat_minor": 0,
  "metadata": {
    "colab": {
      "provenance": [],
      "gpuType": "T4"
    },
    "kernelspec": {
      "name": "python3",
      "display_name": "Python 3"
    },
    "language_info": {
      "name": "python"
    },
    "accelerator": "GPU"
  },
  "cells": [
    {
      "cell_type": "markdown",
      "source": [
        "Initializare model + date"
      ],
      "metadata": {
        "id": "Xm98VKkMH2gc"
      }
    },
    {
      "cell_type": "code",
      "source": [
        "# Install the ultralytics package from PyPI\n",
        "!pip install ultralytics"
      ],
      "metadata": {
        "id": "ZuI95CBC6EXJ",
        "colab": {
          "base_uri": "https://localhost:8080/"
        },
        "outputId": "a30f7fda-e588-44da-dbd5-8bfc4c6dcaba"
      },
      "execution_count": 1,
      "outputs": [
        {
          "output_type": "stream",
          "name": "stdout",
          "text": [
            "Collecting ultralytics\n",
            "  Downloading ultralytics-8.0.227-py3-none-any.whl (660 kB)\n",
            "\u001b[2K     \u001b[90m━━━━━━━━━━━━━━━━━━━━━━━━━━━━━━━━━━━━━━━━\u001b[0m \u001b[32m660.5/660.5 kB\u001b[0m \u001b[31m3.3 MB/s\u001b[0m eta \u001b[36m0:00:00\u001b[0m\n",
            "\u001b[?25hRequirement already satisfied: matplotlib>=3.3.0 in /usr/local/lib/python3.10/dist-packages (from ultralytics) (3.7.1)\n",
            "Requirement already satisfied: numpy>=1.22.2 in /usr/local/lib/python3.10/dist-packages (from ultralytics) (1.23.5)\n",
            "Requirement already satisfied: opencv-python>=4.6.0 in /usr/local/lib/python3.10/dist-packages (from ultralytics) (4.8.0.76)\n",
            "Requirement already satisfied: pillow>=7.1.2 in /usr/local/lib/python3.10/dist-packages (from ultralytics) (9.4.0)\n",
            "Requirement already satisfied: pyyaml>=5.3.1 in /usr/local/lib/python3.10/dist-packages (from ultralytics) (6.0.1)\n",
            "Requirement already satisfied: requests>=2.23.0 in /usr/local/lib/python3.10/dist-packages (from ultralytics) (2.31.0)\n",
            "Requirement already satisfied: scipy>=1.4.1 in /usr/local/lib/python3.10/dist-packages (from ultralytics) (1.11.4)\n",
            "Requirement already satisfied: torch>=1.8.0 in /usr/local/lib/python3.10/dist-packages (from ultralytics) (2.1.0+cu121)\n",
            "Requirement already satisfied: torchvision>=0.9.0 in /usr/local/lib/python3.10/dist-packages (from ultralytics) (0.16.0+cu121)\n",
            "Requirement already satisfied: tqdm>=4.64.0 in /usr/local/lib/python3.10/dist-packages (from ultralytics) (4.66.1)\n",
            "Requirement already satisfied: pandas>=1.1.4 in /usr/local/lib/python3.10/dist-packages (from ultralytics) (1.5.3)\n",
            "Requirement already satisfied: seaborn>=0.11.0 in /usr/local/lib/python3.10/dist-packages (from ultralytics) (0.12.2)\n",
            "Requirement already satisfied: psutil in /usr/local/lib/python3.10/dist-packages (from ultralytics) (5.9.5)\n",
            "Requirement already satisfied: py-cpuinfo in /usr/local/lib/python3.10/dist-packages (from ultralytics) (9.0.0)\n",
            "Collecting thop>=0.1.1 (from ultralytics)\n",
            "  Downloading thop-0.1.1.post2209072238-py3-none-any.whl (15 kB)\n",
            "Requirement already satisfied: contourpy>=1.0.1 in /usr/local/lib/python3.10/dist-packages (from matplotlib>=3.3.0->ultralytics) (1.2.0)\n",
            "Requirement already satisfied: cycler>=0.10 in /usr/local/lib/python3.10/dist-packages (from matplotlib>=3.3.0->ultralytics) (0.12.1)\n",
            "Requirement already satisfied: fonttools>=4.22.0 in /usr/local/lib/python3.10/dist-packages (from matplotlib>=3.3.0->ultralytics) (4.46.0)\n",
            "Requirement already satisfied: kiwisolver>=1.0.1 in /usr/local/lib/python3.10/dist-packages (from matplotlib>=3.3.0->ultralytics) (1.4.5)\n",
            "Requirement already satisfied: packaging>=20.0 in /usr/local/lib/python3.10/dist-packages (from matplotlib>=3.3.0->ultralytics) (23.2)\n",
            "Requirement already satisfied: pyparsing>=2.3.1 in /usr/local/lib/python3.10/dist-packages (from matplotlib>=3.3.0->ultralytics) (3.1.1)\n",
            "Requirement already satisfied: python-dateutil>=2.7 in /usr/local/lib/python3.10/dist-packages (from matplotlib>=3.3.0->ultralytics) (2.8.2)\n",
            "Requirement already satisfied: pytz>=2020.1 in /usr/local/lib/python3.10/dist-packages (from pandas>=1.1.4->ultralytics) (2023.3.post1)\n",
            "Requirement already satisfied: charset-normalizer<4,>=2 in /usr/local/lib/python3.10/dist-packages (from requests>=2.23.0->ultralytics) (3.3.2)\n",
            "Requirement already satisfied: idna<4,>=2.5 in /usr/local/lib/python3.10/dist-packages (from requests>=2.23.0->ultralytics) (3.6)\n",
            "Requirement already satisfied: urllib3<3,>=1.21.1 in /usr/local/lib/python3.10/dist-packages (from requests>=2.23.0->ultralytics) (2.0.7)\n",
            "Requirement already satisfied: certifi>=2017.4.17 in /usr/local/lib/python3.10/dist-packages (from requests>=2.23.0->ultralytics) (2023.11.17)\n",
            "Requirement already satisfied: filelock in /usr/local/lib/python3.10/dist-packages (from torch>=1.8.0->ultralytics) (3.13.1)\n",
            "Requirement already satisfied: typing-extensions in /usr/local/lib/python3.10/dist-packages (from torch>=1.8.0->ultralytics) (4.5.0)\n",
            "Requirement already satisfied: sympy in /usr/local/lib/python3.10/dist-packages (from torch>=1.8.0->ultralytics) (1.12)\n",
            "Requirement already satisfied: networkx in /usr/local/lib/python3.10/dist-packages (from torch>=1.8.0->ultralytics) (3.2.1)\n",
            "Requirement already satisfied: jinja2 in /usr/local/lib/python3.10/dist-packages (from torch>=1.8.0->ultralytics) (3.1.2)\n",
            "Requirement already satisfied: fsspec in /usr/local/lib/python3.10/dist-packages (from torch>=1.8.0->ultralytics) (2023.6.0)\n",
            "Requirement already satisfied: triton==2.1.0 in /usr/local/lib/python3.10/dist-packages (from torch>=1.8.0->ultralytics) (2.1.0)\n",
            "Requirement already satisfied: six>=1.5 in /usr/local/lib/python3.10/dist-packages (from python-dateutil>=2.7->matplotlib>=3.3.0->ultralytics) (1.16.0)\n",
            "Requirement already satisfied: MarkupSafe>=2.0 in /usr/local/lib/python3.10/dist-packages (from jinja2->torch>=1.8.0->ultralytics) (2.1.3)\n",
            "Requirement already satisfied: mpmath>=0.19 in /usr/local/lib/python3.10/dist-packages (from sympy->torch>=1.8.0->ultralytics) (1.3.0)\n",
            "Installing collected packages: thop, ultralytics\n",
            "Successfully installed thop-0.1.1.post2209072238 ultralytics-8.0.227\n"
          ]
        }
      ]
    },
    {
      "cell_type": "code",
      "source": [
        "from google.colab import drive\n",
        "drive.mount('/content/drive')\n",
        "detZar = '/content/drive/My Drive/IMG-20231117-WA0000.jpg'\n",
        "detMob = '/content/drive/My Drive/index-luxuryfurniture-1659361945.png'"
      ],
      "metadata": {
        "id": "D01YpYzGIEHS",
        "colab": {
          "base_uri": "https://localhost:8080/"
        },
        "outputId": "16cf3bc3-f4cc-4f70-aea1-647682c311a4"
      },
      "execution_count": 2,
      "outputs": [
        {
          "output_type": "stream",
          "name": "stdout",
          "text": [
            "Mounted at /content/drive\n"
          ]
        }
      ]
    },
    {
      "cell_type": "code",
      "execution_count": 3,
      "metadata": {
        "id": "L6KGN3zw5iy-"
      },
      "outputs": [],
      "source": [
        "project = '/content/drive/My Drive/dataset-custom-1/'"
      ]
    },
    {
      "cell_type": "code",
      "source": [
        "from ultralytics import YOLO\n",
        "\n",
        "# Load a COCO-pretrained YOLOv8n model\n",
        "model = YOLO('yolov8n.pt')"
      ],
      "metadata": {
        "id": "QSxlXclB6dus",
        "colab": {
          "base_uri": "https://localhost:8080/"
        },
        "outputId": "cb7957fe-7e87-48f0-a91a-32d0d70067e4"
      },
      "execution_count": 4,
      "outputs": [
        {
          "output_type": "stream",
          "name": "stdout",
          "text": [
            "Downloading https://github.com/ultralytics/assets/releases/download/v0.0.0/yolov8n.pt to 'yolov8n.pt'...\n"
          ]
        },
        {
          "output_type": "stream",
          "name": "stderr",
          "text": [
            "100%|██████████| 6.23M/6.23M [00:00<00:00, 87.6MB/s]\n"
          ]
        }
      ]
    },
    {
      "cell_type": "code",
      "source": [
        "# Train the model on the COCO8 example dataset for 10 epochs\n",
        "results = model.train(data='/content/drive/My Drive/dataset-custom-1/data.yaml', epochs=10, imgsz=640)"
      ],
      "metadata": {
        "id": "aVsMPfz26Lq2",
        "colab": {
          "base_uri": "https://localhost:8080/"
        },
        "outputId": "4bb4f9e0-d7f7-4c8b-9bd3-f7ded190221f"
      },
      "execution_count": 6,
      "outputs": [
        {
          "output_type": "stream",
          "name": "stdout",
          "text": [
            "Ultralytics YOLOv8.0.227 🚀 Python-3.10.12 torch-2.1.0+cu121 CUDA:0 (Tesla T4, 15102MiB)\n",
            "\u001b[34m\u001b[1mengine/trainer: \u001b[0mtask=detect, mode=train, model=yolov8n.pt, data=/content/drive/My Drive/dataset-custom-1/data.yaml, epochs=10, patience=50, batch=16, imgsz=640, save=True, save_period=-1, cache=False, device=None, workers=8, project=None, name=train2, exist_ok=False, pretrained=True, optimizer=auto, verbose=True, seed=0, deterministic=True, single_cls=False, rect=False, cos_lr=False, close_mosaic=10, resume=False, amp=True, fraction=1.0, profile=False, freeze=None, overlap_mask=True, mask_ratio=4, dropout=0.0, val=True, split=val, save_json=False, save_hybrid=False, conf=None, iou=0.7, max_det=300, half=False, dnn=False, plots=True, source=None, vid_stride=1, stream_buffer=False, visualize=False, augment=False, agnostic_nms=False, classes=None, retina_masks=False, show=False, save_frames=False, save_txt=False, save_conf=False, save_crop=False, show_labels=True, show_conf=True, show_boxes=True, line_width=None, format=torchscript, keras=False, optimize=False, int8=False, dynamic=False, simplify=False, opset=None, workspace=4, nms=False, lr0=0.01, lrf=0.01, momentum=0.937, weight_decay=0.0005, warmup_epochs=3.0, warmup_momentum=0.8, warmup_bias_lr=0.1, box=7.5, cls=0.5, dfl=1.5, pose=12.0, kobj=1.0, label_smoothing=0.0, nbs=64, hsv_h=0.015, hsv_s=0.7, hsv_v=0.4, degrees=0.0, translate=0.1, scale=0.5, shear=0.0, perspective=0.0, flipud=0.0, fliplr=0.5, mosaic=1.0, mixup=0.0, copy_paste=0.0, cfg=None, tracker=botsort.yaml, save_dir=runs/detect/train2\n",
            "Downloading https://ultralytics.com/assets/Arial.ttf to '/root/.config/Ultralytics/Arial.ttf'...\n"
          ]
        },
        {
          "output_type": "stream",
          "name": "stderr",
          "text": [
            "100%|██████████| 755k/755k [00:00<00:00, 16.7MB/s]\n"
          ]
        },
        {
          "output_type": "stream",
          "name": "stdout",
          "text": [
            "Overriding model.yaml nc=80 with nc=35\n",
            "\n",
            "                   from  n    params  module                                       arguments                     \n",
            "  0                  -1  1       464  ultralytics.nn.modules.conv.Conv             [3, 16, 3, 2]                 \n",
            "  1                  -1  1      4672  ultralytics.nn.modules.conv.Conv             [16, 32, 3, 2]                \n",
            "  2                  -1  1      7360  ultralytics.nn.modules.block.C2f             [32, 32, 1, True]             \n",
            "  3                  -1  1     18560  ultralytics.nn.modules.conv.Conv             [32, 64, 3, 2]                \n",
            "  4                  -1  2     49664  ultralytics.nn.modules.block.C2f             [64, 64, 2, True]             \n",
            "  5                  -1  1     73984  ultralytics.nn.modules.conv.Conv             [64, 128, 3, 2]               \n",
            "  6                  -1  2    197632  ultralytics.nn.modules.block.C2f             [128, 128, 2, True]           \n",
            "  7                  -1  1    295424  ultralytics.nn.modules.conv.Conv             [128, 256, 3, 2]              \n",
            "  8                  -1  1    460288  ultralytics.nn.modules.block.C2f             [256, 256, 1, True]           \n",
            "  9                  -1  1    164608  ultralytics.nn.modules.block.SPPF            [256, 256, 5]                 \n",
            " 10                  -1  1         0  torch.nn.modules.upsampling.Upsample         [None, 2, 'nearest']          \n",
            " 11             [-1, 6]  1         0  ultralytics.nn.modules.conv.Concat           [1]                           \n",
            " 12                  -1  1    148224  ultralytics.nn.modules.block.C2f             [384, 128, 1]                 \n",
            " 13                  -1  1         0  torch.nn.modules.upsampling.Upsample         [None, 2, 'nearest']          \n",
            " 14             [-1, 4]  1         0  ultralytics.nn.modules.conv.Concat           [1]                           \n",
            " 15                  -1  1     37248  ultralytics.nn.modules.block.C2f             [192, 64, 1]                  \n",
            " 16                  -1  1     36992  ultralytics.nn.modules.conv.Conv             [64, 64, 3, 2]                \n",
            " 17            [-1, 12]  1         0  ultralytics.nn.modules.conv.Concat           [1]                           \n",
            " 18                  -1  1    123648  ultralytics.nn.modules.block.C2f             [192, 128, 1]                 \n",
            " 19                  -1  1    147712  ultralytics.nn.modules.conv.Conv             [128, 128, 3, 2]              \n",
            " 20             [-1, 9]  1         0  ultralytics.nn.modules.conv.Concat           [1]                           \n",
            " 21                  -1  1    493056  ultralytics.nn.modules.block.C2f             [384, 256, 1]                 \n",
            " 22        [15, 18, 21]  1    758137  ultralytics.nn.modules.head.Detect           [35, [64, 128, 256]]          \n",
            "Model summary: 225 layers, 3017673 parameters, 3017657 gradients, 8.2 GFLOPs\n",
            "\n",
            "Transferred 319/355 items from pretrained weights\n",
            "\u001b[34m\u001b[1mTensorBoard: \u001b[0mStart with 'tensorboard --logdir runs/detect/train2', view at http://localhost:6006/\n",
            "Freezing layer 'model.22.dfl.conv.weight'\n",
            "\u001b[34m\u001b[1mAMP: \u001b[0mrunning Automatic Mixed Precision (AMP) checks with YOLOv8n...\n",
            "WARNING ⚠️ NMS time limit 0.550s exceeded\n",
            "\u001b[34m\u001b[1mAMP: \u001b[0mchecks passed ✅\n"
          ]
        },
        {
          "output_type": "stream",
          "name": "stderr",
          "text": [
            "\u001b[34m\u001b[1mtrain: \u001b[0mScanning /content/drive/My Drive/dataset-custom-1/train/labels... 1304 images, 0 backgrounds, 0 corrupt: 100%|██████████| 1304/1304 [08:41<00:00,  2.50it/s]\n"
          ]
        },
        {
          "output_type": "stream",
          "name": "stdout",
          "text": [
            "\u001b[34m\u001b[1mtrain: \u001b[0mNew cache created: /content/drive/My Drive/dataset-custom-1/train/labels.cache\n",
            "\u001b[34m\u001b[1malbumentations: \u001b[0mBlur(p=0.01, blur_limit=(3, 7)), MedianBlur(p=0.01, blur_limit=(3, 7)), ToGray(p=0.01), CLAHE(p=0.01, clip_limit=(1, 4.0), tile_grid_size=(8, 8))\n"
          ]
        },
        {
          "output_type": "stream",
          "name": "stderr",
          "text": [
            "\u001b[34m\u001b[1mval: \u001b[0mScanning /content/drive/My Drive/dataset-custom-1/valid/labels... 102 images, 0 backgrounds, 0 corrupt: 100%|██████████| 102/102 [00:50<00:00,  2.03it/s]"
          ]
        },
        {
          "output_type": "stream",
          "name": "stdout",
          "text": [
            "\u001b[34m\u001b[1mval: \u001b[0mNew cache created: /content/drive/My Drive/dataset-custom-1/valid/labels.cache\n"
          ]
        },
        {
          "output_type": "stream",
          "name": "stderr",
          "text": [
            "\n"
          ]
        },
        {
          "output_type": "stream",
          "name": "stdout",
          "text": [
            "Plotting labels to runs/detect/train2/labels.jpg... \n",
            "\u001b[34m\u001b[1moptimizer:\u001b[0m 'optimizer=auto' found, ignoring 'lr0=0.01' and 'momentum=0.937' and determining best 'optimizer', 'lr0' and 'momentum' automatically... \n",
            "\u001b[34m\u001b[1moptimizer:\u001b[0m AdamW(lr=0.000256, momentum=0.9) with parameter groups 57 weight(decay=0.0), 64 weight(decay=0.0005), 63 bias(decay=0.0)\n",
            "Image sizes 640 train, 640 val\n",
            "Using 2 dataloader workers\n",
            "Logging results to \u001b[1mruns/detect/train2\u001b[0m\n",
            "Starting training for 10 epochs...\n",
            "Closing dataloader mosaic\n",
            "\u001b[34m\u001b[1malbumentations: \u001b[0mBlur(p=0.01, blur_limit=(3, 7)), MedianBlur(p=0.01, blur_limit=(3, 7)), ToGray(p=0.01), CLAHE(p=0.01, clip_limit=(1, 4.0), tile_grid_size=(8, 8))\n",
            "\n",
            "      Epoch    GPU_mem   box_loss   cls_loss   dfl_loss  Instances       Size\n"
          ]
        },
        {
          "output_type": "stream",
          "name": "stderr",
          "text": [
            "       1/10      2.75G       1.24      4.359      1.121        133        640: 100%|██████████| 82/82 [00:53<00:00,  1.54it/s]\n",
            "                 Class     Images  Instances      Box(P          R      mAP50  mAP50-95): 100%|██████████| 4/4 [00:03<00:00,  1.18it/s]"
          ]
        },
        {
          "output_type": "stream",
          "name": "stdout",
          "text": [
            "                   all        102        995     0.0352      0.564     0.0664     0.0363\n"
          ]
        },
        {
          "output_type": "stream",
          "name": "stderr",
          "text": [
            "\n"
          ]
        },
        {
          "output_type": "stream",
          "name": "stdout",
          "text": [
            "\n",
            "      Epoch    GPU_mem   box_loss   cls_loss   dfl_loss  Instances       Size\n"
          ]
        },
        {
          "output_type": "stream",
          "name": "stderr",
          "text": [
            "       2/10      2.24G      0.884       3.09     0.9195        178        640: 100%|██████████| 82/82 [00:44<00:00,  1.85it/s]\n",
            "                 Class     Images  Instances      Box(P          R      mAP50  mAP50-95): 100%|██████████| 4/4 [00:01<00:00,  2.15it/s]"
          ]
        },
        {
          "output_type": "stream",
          "name": "stdout",
          "text": [
            "                   all        102        995        0.5      0.156      0.149     0.0807\n"
          ]
        },
        {
          "output_type": "stream",
          "name": "stderr",
          "text": [
            "\n"
          ]
        },
        {
          "output_type": "stream",
          "name": "stdout",
          "text": [
            "\n",
            "      Epoch    GPU_mem   box_loss   cls_loss   dfl_loss  Instances       Size\n"
          ]
        },
        {
          "output_type": "stream",
          "name": "stderr",
          "text": [
            "       3/10       2.3G     0.8352      2.439     0.9282        154        640: 100%|██████████| 82/82 [00:44<00:00,  1.83it/s]\n",
            "                 Class     Images  Instances      Box(P          R      mAP50  mAP50-95): 100%|██████████| 4/4 [00:02<00:00,  1.84it/s]\n"
          ]
        },
        {
          "output_type": "stream",
          "name": "stdout",
          "text": [
            "                   all        102        995      0.357      0.299      0.211      0.115\n",
            "\n",
            "      Epoch    GPU_mem   box_loss   cls_loss   dfl_loss  Instances       Size\n"
          ]
        },
        {
          "output_type": "stream",
          "name": "stderr",
          "text": [
            "       4/10       2.3G     0.8072          2     0.9278        141        640: 100%|██████████| 82/82 [00:44<00:00,  1.84it/s]\n",
            "                 Class     Images  Instances      Box(P          R      mAP50  mAP50-95): 100%|██████████| 4/4 [00:02<00:00,  1.90it/s]"
          ]
        },
        {
          "output_type": "stream",
          "name": "stdout",
          "text": [
            "                   all        102        995      0.405      0.367      0.301       0.18\n"
          ]
        },
        {
          "output_type": "stream",
          "name": "stderr",
          "text": [
            "\n"
          ]
        },
        {
          "output_type": "stream",
          "name": "stdout",
          "text": [
            "\n",
            "      Epoch    GPU_mem   box_loss   cls_loss   dfl_loss  Instances       Size\n"
          ]
        },
        {
          "output_type": "stream",
          "name": "stderr",
          "text": [
            "       5/10       2.3G     0.7991      1.656     0.9309        146        640: 100%|██████████| 82/82 [00:45<00:00,  1.79it/s]\n",
            "                 Class     Images  Instances      Box(P          R      mAP50  mAP50-95): 100%|██████████| 4/4 [00:03<00:00,  1.08it/s]\n"
          ]
        },
        {
          "output_type": "stream",
          "name": "stdout",
          "text": [
            "                   all        102        995       0.38      0.502      0.348      0.204\n",
            "\n",
            "      Epoch    GPU_mem   box_loss   cls_loss   dfl_loss  Instances       Size\n"
          ]
        },
        {
          "output_type": "stream",
          "name": "stderr",
          "text": [
            "       6/10       2.3G     0.7724      1.424      0.925        106        640: 100%|██████████| 82/82 [00:41<00:00,  1.97it/s]\n",
            "                 Class     Images  Instances      Box(P          R      mAP50  mAP50-95): 100%|██████████| 4/4 [00:02<00:00,  1.34it/s]\n"
          ]
        },
        {
          "output_type": "stream",
          "name": "stdout",
          "text": [
            "                   all        102        995      0.458       0.52      0.458      0.265\n",
            "\n",
            "      Epoch    GPU_mem   box_loss   cls_loss   dfl_loss  Instances       Size\n"
          ]
        },
        {
          "output_type": "stream",
          "name": "stderr",
          "text": [
            "       7/10       2.3G     0.7543      1.253     0.9174        171        640: 100%|██████████| 82/82 [00:42<00:00,  1.93it/s]\n",
            "                 Class     Images  Instances      Box(P          R      mAP50  mAP50-95): 100%|██████████| 4/4 [00:01<00:00,  2.00it/s]\n"
          ]
        },
        {
          "output_type": "stream",
          "name": "stdout",
          "text": [
            "                   all        102        995      0.566      0.558       0.54      0.313\n",
            "\n",
            "      Epoch    GPU_mem   box_loss   cls_loss   dfl_loss  Instances       Size\n"
          ]
        },
        {
          "output_type": "stream",
          "name": "stderr",
          "text": [
            "       8/10       2.3G     0.7498      1.142     0.9173        173        640: 100%|██████████| 82/82 [00:43<00:00,  1.88it/s]\n",
            "                 Class     Images  Instances      Box(P          R      mAP50  mAP50-95): 100%|██████████| 4/4 [00:02<00:00,  1.72it/s]"
          ]
        },
        {
          "output_type": "stream",
          "name": "stdout",
          "text": [
            "                   all        102        995      0.593      0.537      0.566      0.328\n"
          ]
        },
        {
          "output_type": "stream",
          "name": "stderr",
          "text": [
            "\n"
          ]
        },
        {
          "output_type": "stream",
          "name": "stdout",
          "text": [
            "\n",
            "      Epoch    GPU_mem   box_loss   cls_loss   dfl_loss  Instances       Size\n"
          ]
        },
        {
          "output_type": "stream",
          "name": "stderr",
          "text": [
            "       9/10       2.3G     0.7365      1.072     0.9114        118        640: 100%|██████████| 82/82 [00:44<00:00,  1.84it/s]\n",
            "                 Class     Images  Instances      Box(P          R      mAP50  mAP50-95): 100%|██████████| 4/4 [00:01<00:00,  2.19it/s]"
          ]
        },
        {
          "output_type": "stream",
          "name": "stdout",
          "text": [
            "                   all        102        995      0.547      0.554      0.543      0.313\n"
          ]
        },
        {
          "output_type": "stream",
          "name": "stderr",
          "text": [
            "\n"
          ]
        },
        {
          "output_type": "stream",
          "name": "stdout",
          "text": [
            "\n",
            "      Epoch    GPU_mem   box_loss   cls_loss   dfl_loss  Instances       Size\n"
          ]
        },
        {
          "output_type": "stream",
          "name": "stderr",
          "text": [
            "      10/10      2.26G     0.7254      1.023     0.9046        155        640: 100%|██████████| 82/82 [00:44<00:00,  1.84it/s]\n",
            "                 Class     Images  Instances      Box(P          R      mAP50  mAP50-95): 100%|██████████| 4/4 [00:02<00:00,  1.75it/s]"
          ]
        },
        {
          "output_type": "stream",
          "name": "stdout",
          "text": [
            "                   all        102        995      0.592      0.557      0.587      0.333\n"
          ]
        },
        {
          "output_type": "stream",
          "name": "stderr",
          "text": [
            "\n"
          ]
        },
        {
          "output_type": "stream",
          "name": "stdout",
          "text": [
            "\n",
            "10 epochs completed in 0.137 hours.\n",
            "Optimizer stripped from runs/detect/train2/weights/last.pt, 6.3MB\n",
            "Optimizer stripped from runs/detect/train2/weights/best.pt, 6.3MB\n",
            "\n",
            "Validating runs/detect/train2/weights/best.pt...\n",
            "Ultralytics YOLOv8.0.227 🚀 Python-3.10.12 torch-2.1.0+cu121 CUDA:0 (Tesla T4, 15102MiB)\n",
            "Model summary (fused): 168 layers, 3012473 parameters, 0 gradients, 8.1 GFLOPs\n"
          ]
        },
        {
          "output_type": "stream",
          "name": "stderr",
          "text": [
            "                 Class     Images  Instances      Box(P          R      mAP50  mAP50-95): 100%|██████████| 4/4 [00:04<00:00,  1.00s/it]\n"
          ]
        },
        {
          "output_type": "stream",
          "name": "stdout",
          "text": [
            "                   all        102        995       0.59      0.557      0.587      0.333\n",
            "                     a        102         74      0.709      0.189      0.526      0.254\n",
            "                     b        102         19      0.467      0.684      0.689      0.389\n",
            "                     c        102         20      0.316        0.5      0.484      0.245\n",
            "                     d        102         21      0.692      0.641      0.708      0.379\n",
            "                     e        102         98      0.847      0.684      0.754      0.376\n",
            "                     f        102         16      0.555      0.375      0.342      0.177\n",
            "                     g        102         28      0.275      0.714      0.479      0.258\n",
            "                     h        102         51       0.94      0.627       0.79      0.467\n",
            "                     i        102         61      0.798      0.836      0.818      0.316\n",
            "                     j        102          5     0.0988        0.8      0.585      0.166\n",
            "                     k        102         11       0.42      0.273      0.363      0.213\n",
            "                     l        102         49      0.569      0.429      0.531      0.294\n",
            "                     m        102         10      0.269        0.3      0.152     0.0842\n",
            "                     n        102         56      0.608      0.643      0.724      0.418\n",
            "                     o        102         83      0.866      0.777      0.873      0.415\n",
            "                     p        102         16      0.211      0.688      0.347      0.205\n",
            "                     q        102          7          1          0          0          0\n",
            "                     r        102         50      0.369        0.3      0.388      0.189\n",
            "                     s        102         59      0.766      0.499      0.652      0.273\n",
            "                     t        102         78      0.791      0.615      0.777      0.406\n",
            "                     u        102         36      0.437      0.889      0.813      0.491\n",
            "                     v        102         17      0.632      0.706      0.706      0.382\n",
            "                     w        102         22      0.758      0.286      0.495      0.302\n",
            "                     x        102         16      0.638        0.5      0.611      0.356\n",
            "                     y        102         36      0.663      0.639      0.682       0.31\n",
            "                     z        102         14          0          0      0.145     0.0966\n",
            "                 black        102         38       0.98          1      0.995      0.922\n",
            "                  blue        102          4      0.857          1      0.995      0.933\n",
            "Speed: 0.3ms preprocess, 3.6ms inference, 0.0ms loss, 6.9ms postprocess per image\n",
            "Results saved to \u001b[1mruns/detect/train2\u001b[0m\n"
          ]
        }
      ]
    },
    {
      "cell_type": "markdown",
      "source": [
        "1. Detectia unor zaruri"
      ],
      "metadata": {
        "id": "NnBfzw-I0aLD"
      }
    },
    {
      "cell_type": "code",
      "source": [
        "model = YOLO('/content/runs/detect/train2/weights/best.pt')\n",
        "# Validate the model"
      ],
      "metadata": {
        "id": "gYtsJwCi7X8Y"
      },
      "execution_count": 7,
      "outputs": []
    },
    {
      "cell_type": "code",
      "source": [
        "# infer on a local image\n",
        "from PIL import Image\n",
        "import cv2\n",
        "results = model(detZar)              # run prediction on img\n",
        "for result in results:\n",
        "    print(result.boxes)\n",
        "    im = cv2.imread(detZar)  # RGB PIL image\n",
        "    im_array = result.plot()  # plot a BGR numpy array of predictions\n",
        "    boxes = result.boxes.cpu().numpy()\n",
        "    xyxys = boxes.xyxy                       # get boxes on cpu in numpy\n",
        "    for xyxy in xyxys:                                          # iterate boxes\n",
        "      cv2.rectangle(im, (int(xyxy[0]), int(xyxy[1])), (int(xyxy[2]), int(xyxy[3])), (0, 255, 0), 2)   # draw boxes on img\n",
        "      cv2.imwrite(\"results.jpg\",im)"
      ],
      "metadata": {
        "id": "yR0IXyF0CuFm",
        "colab": {
          "base_uri": "https://localhost:8080/"
        },
        "outputId": "74dc9354-6048-4f88-9ac9-c4a5b1ef6477"
      },
      "execution_count": 25,
      "outputs": [
        {
          "output_type": "stream",
          "name": "stdout",
          "text": [
            "\n",
            "image 1/1 /content/drive/My Drive/IMG-20231117-WA0000.jpg: 640x480 2 as, 4 es, 2 hs, 1 i, 1 o, 1 r, 2 ss, 2 ts, 1 u, 2 ys, 13.9ms\n",
            "Speed: 4.4ms preprocess, 13.9ms inference, 3.0ms postprocess per image at shape (1, 3, 640, 480)\n",
            "ultralytics.engine.results.Boxes object with attributes:\n",
            "\n",
            "cls: tensor([24., 23.,  5., 31.,  0.,  5.,  0., 11., 24.,  5., 31., 22.,  5., 23., 18.,  9.,  9., 26.], device='cuda:0')\n",
            "conf: tensor([0.9583, 0.9052, 0.7134, 0.7129, 0.6691, 0.6167, 0.5650, 0.5372, 0.4865, 0.4625, 0.4604, 0.4468, 0.3471, 0.3332, 0.3181, 0.3048, 0.2811, 0.2610], device='cuda:0')\n",
            "data: tensor([[6.1740e+02, 8.2380e+02, 7.1678e+02, 9.2536e+02, 9.5828e-01, 2.4000e+01],\n",
            "        [3.9498e+02, 8.2179e+02, 4.9817e+02, 9.2128e+02, 9.0516e-01, 2.3000e+01],\n",
            "        [7.1918e+02, 9.3459e+02, 8.1693e+02, 1.0347e+03, 7.1342e-01, 5.0000e+00],\n",
            "        [3.9115e+02, 9.2812e+02, 4.9543e+02, 1.0275e+03, 7.1287e-01, 3.1000e+01],\n",
            "        [5.0448e+02, 9.2794e+02, 6.0539e+02, 1.0293e+03, 6.6910e-01, 0.0000e+00],\n",
            "        [5.0639e+02, 7.1575e+02, 6.0688e+02, 8.1224e+02, 6.1671e-01, 5.0000e+00],\n",
            "        [6.1122e+02, 9.3449e+02, 7.0880e+02, 1.0293e+03, 5.6502e-01, 0.0000e+00],\n",
            "        [7.2388e+02, 8.2511e+02, 8.1948e+02, 9.2695e+02, 5.3725e-01, 1.1000e+01],\n",
            "        [7.2500e+02, 8.2580e+02, 8.1995e+02, 9.2575e+02, 4.8653e-01, 2.4000e+01],\n",
            "        [5.0622e+02, 8.2148e+02, 6.0724e+02, 9.2017e+02, 4.6246e-01, 5.0000e+00],\n",
            "        [7.2957e+02, 6.1039e+02, 8.3237e+02, 7.1291e+02, 4.6044e-01, 3.1000e+01],\n",
            "        [4.2028e+02, 3.4807e+02, 5.1804e+02, 4.6746e+02, 4.4683e-01, 2.2000e+01],\n",
            "        [7.2389e+02, 7.1963e+02, 8.2633e+02, 8.1808e+02, 3.4709e-01, 5.0000e+00],\n",
            "        [6.1988e+02, 6.1046e+02, 7.2131e+02, 7.0710e+02, 3.3323e-01, 2.3000e+01],\n",
            "        [3.9609e+02, 6.0464e+02, 4.9918e+02, 7.0410e+02, 3.1809e-01, 1.8000e+01],\n",
            "        [5.0584e+02, 7.1577e+02, 6.0639e+02, 8.1457e+02, 3.0482e-01, 9.0000e+00],\n",
            "        [7.2612e+02, 7.2082e+02, 8.2453e+02, 8.1763e+02, 2.8114e-01, 9.0000e+00],\n",
            "        [3.9645e+02, 7.1548e+02, 4.9540e+02, 8.1127e+02, 2.6099e-01, 2.6000e+01]], device='cuda:0')\n",
            "id: None\n",
            "is_track: False\n",
            "orig_shape: (1600, 1200)\n",
            "shape: torch.Size([18, 6])\n",
            "xywh: tensor([[667.0901, 874.5836,  99.3817, 101.5573],\n",
            "        [446.5740, 871.5391, 103.1915,  99.4891],\n",
            "        [768.0547, 984.6373,  97.7426, 100.0943],\n",
            "        [443.2923, 977.8253, 104.2802,  99.4033],\n",
            "        [554.9318, 978.6118, 100.9084, 101.3490],\n",
            "        [556.6356, 763.9911, 100.4879,  96.4890],\n",
            "        [660.0090, 981.9037,  97.5787,  94.8306],\n",
            "        [771.6806, 876.0331,  95.5939, 101.8403],\n",
            "        [772.4761, 875.7740,  94.9515,  99.9573],\n",
            "        [556.7296, 870.8261, 101.0209,  98.6837],\n",
            "        [780.9692, 661.6484, 102.7930, 102.5192],\n",
            "        [469.1582, 407.7619,  97.7645, 119.3875],\n",
            "        [775.1099, 768.8557, 102.4368,  98.4482],\n",
            "        [670.5920, 658.7806, 101.4267,  96.6420],\n",
            "        [447.6324, 654.3722, 103.0937,  99.4609],\n",
            "        [556.1145, 765.1692, 100.5547,  98.7962],\n",
            "        [775.3241, 769.2267,  98.4132,  96.8152],\n",
            "        [445.9277, 763.3748,  98.9504,  95.7829]], device='cuda:0')\n",
            "xywhn: tensor([[0.5559, 0.5466, 0.0828, 0.0635],\n",
            "        [0.3721, 0.5447, 0.0860, 0.0622],\n",
            "        [0.6400, 0.6154, 0.0815, 0.0626],\n",
            "        [0.3694, 0.6111, 0.0869, 0.0621],\n",
            "        [0.4624, 0.6116, 0.0841, 0.0633],\n",
            "        [0.4639, 0.4775, 0.0837, 0.0603],\n",
            "        [0.5500, 0.6137, 0.0813, 0.0593],\n",
            "        [0.6431, 0.5475, 0.0797, 0.0637],\n",
            "        [0.6437, 0.5474, 0.0791, 0.0625],\n",
            "        [0.4639, 0.5443, 0.0842, 0.0617],\n",
            "        [0.6508, 0.4135, 0.0857, 0.0641],\n",
            "        [0.3910, 0.2549, 0.0815, 0.0746],\n",
            "        [0.6459, 0.4805, 0.0854, 0.0615],\n",
            "        [0.5588, 0.4117, 0.0845, 0.0604],\n",
            "        [0.3730, 0.4090, 0.0859, 0.0622],\n",
            "        [0.4634, 0.4782, 0.0838, 0.0617],\n",
            "        [0.6461, 0.4808, 0.0820, 0.0605],\n",
            "        [0.3716, 0.4771, 0.0825, 0.0599]], device='cuda:0')\n",
            "xyxy: tensor([[ 617.3993,  823.8049,  716.7810,  925.3622],\n",
            "        [ 394.9782,  821.7946,  498.1697,  921.2837],\n",
            "        [ 719.1833,  934.5901,  816.9260, 1034.6844],\n",
            "        [ 391.1522,  928.1237,  495.4324, 1027.5270],\n",
            "        [ 504.4776,  927.9373,  605.3860, 1029.2863],\n",
            "        [ 506.3917,  715.7466,  606.8795,  812.2356],\n",
            "        [ 611.2196,  934.4884,  708.7983, 1029.3190],\n",
            "        [ 723.8837,  825.1129,  819.4775,  926.9532],\n",
            "        [ 725.0003,  825.7954,  819.9518,  925.7527],\n",
            "        [ 506.2191,  821.4843,  607.2401,  920.1680],\n",
            "        [ 729.5728,  610.3889,  832.3657,  712.9081],\n",
            "        [ 420.2759,  348.0682,  518.0405,  467.4557],\n",
            "        [ 723.8915,  719.6317,  826.3282,  818.0798],\n",
            "        [ 619.8787,  610.4596,  721.3054,  707.1016],\n",
            "        [ 396.0856,  604.6417,  499.1792,  704.1027],\n",
            "        [ 505.8372,  715.7711,  606.3918,  814.5673],\n",
            "        [ 726.1175,  720.8191,  824.5307,  817.6343],\n",
            "        [ 396.4525,  715.4833,  495.4030,  811.2662]], device='cuda:0')\n",
            "xyxyn: tensor([[0.5145, 0.5149, 0.5973, 0.5784],\n",
            "        [0.3291, 0.5136, 0.4151, 0.5758],\n",
            "        [0.5993, 0.5841, 0.6808, 0.6467],\n",
            "        [0.3260, 0.5801, 0.4129, 0.6422],\n",
            "        [0.4204, 0.5800, 0.5045, 0.6433],\n",
            "        [0.4220, 0.4473, 0.5057, 0.5076],\n",
            "        [0.5093, 0.5841, 0.5907, 0.6433],\n",
            "        [0.6032, 0.5157, 0.6829, 0.5793],\n",
            "        [0.6042, 0.5161, 0.6833, 0.5786],\n",
            "        [0.4218, 0.5134, 0.5060, 0.5751],\n",
            "        [0.6080, 0.3815, 0.6936, 0.4456],\n",
            "        [0.3502, 0.2175, 0.4317, 0.2922],\n",
            "        [0.6032, 0.4498, 0.6886, 0.5113],\n",
            "        [0.5166, 0.3815, 0.6011, 0.4419],\n",
            "        [0.3301, 0.3779, 0.4160, 0.4401],\n",
            "        [0.4215, 0.4474, 0.5053, 0.5091],\n",
            "        [0.6051, 0.4505, 0.6871, 0.5110],\n",
            "        [0.3304, 0.4472, 0.4128, 0.5070]], device='cuda:0')\n"
          ]
        }
      ]
    }
  ]
}